{
 "cells": [
  {
   "cell_type": "code",
   "execution_count": 37,
   "id": "f13b0356",
   "metadata": {
    "ExecuteTime": {
     "end_time": "2022-02-26T21:10:11.587974Z",
     "start_time": "2022-02-26T21:10:11.568037Z"
    }
   },
   "outputs": [
    {
     "name": "stdout",
     "output_type": "stream",
     "text": [
      "modules loaded\n"
     ]
    }
   ],
   "source": [
    "import os\n",
    "os.environ['TF_CPP_MIN_LOG_LEVEL'] = '2'\n",
    "\n",
    "import warnings\n",
    "warnings.filterwarnings(action='ignore', category=FutureWarning)\n",
    "warnings.filterwarnings(action='ignore', category=DeprecationWarning)\n",
    "import pandas as pd\n",
    "import numpy as np\n",
    "import csv\n",
    "import os\n",
    "import matplotlib.pyplot as plt\n",
    "%matplotlib inline\n",
    "from sklearn.model_selection import train_test_split\n",
    "from keras.utils.np_utils import to_categorical\n",
    "from sklearn import preprocessing\n",
    "from sklearn.metrics import mean_squared_error\n",
    "from keras.preprocessing.text import Tokenizer\n",
    "from sklearn.preprocessing import StandardScaler, LabelBinarizer, OneHotEncoder\n",
    "from sklearn.impute import SimpleImputer\n",
    "from sklearn.model_selection import cross_val_predict\n",
    "import keras\n",
    "from keras.models import Sequential\n",
    "from keras.layers import Dense\n",
    "from keras.callbacks import EarlyStopping, ModelCheckpoint\n",
    "from keras.models import load_model\n",
    "from keras import regularizers\n",
    "from keras.preprocessing.image import ImageDataGenerator, array_to_img, img_to_array, load_img\n",
    "from keras import models\n",
    "from keras import layers\n",
    "from keras import optimizers\n",
    "from keras import initializers\n",
    "from keras.wrappers.scikit_learn import KerasRegressor\n",
    "import tensorflow as tf\n",
    "from tensorflow import keras\n",
    "from tensorflow.keras import backend as K\n",
    "from tensorflow.keras.layers import Dense, Activation, Dropout, Conv2D, MaxPooling2D,BatchNormalization, Flatten\n",
    "from tensorflow.keras.optimizers import Adam, Adamax, RMSprop\n",
    "from tensorflow.keras.metrics import binary_crossentropy, categorical_crossentropy\n",
    "from tensorflow.keras import regularizers\n",
    "from tensorflow.keras.preprocessing import image\n",
    "from tensorflow.keras.models import Model, load_model, Sequential\n",
    "import numpy as np\n",
    "import pandas as pd\n",
    "import shutil\n",
    "import time\n",
    "import cv2 as cv2\n",
    "from tqdm import tqdm\n",
    "from sklearn.model_selection import train_test_split\n",
    "from sklearn.utils import class_weight \n",
    "import matplotlib.pyplot as plt\n",
    "from matplotlib.pyplot import imshow\n",
    "import seaborn as sns\n",
    "sns.set_style('darkgrid')\n",
    "from PIL import Image\n",
    "import time\n",
    "import scipy\n",
    "from scipy import ndimage\n",
    "from sklearn.metrics import confusion_matrix, classification_report\n",
    "from IPython.core.display import display, HTML\n",
    "# stop annoying tensorflow warning messages\n",
    "import logging\n",
    "import splitfolders\n",
    "logging.getLogger(\"tensorflow\").setLevel(logging.ERROR)\n",
    "np.random.seed(123)\n",
    "print ('modules loaded')\n"
   ]
  },
  {
   "cell_type": "code",
   "execution_count": 2,
   "id": "188c5c66",
   "metadata": {
    "ExecuteTime": {
     "end_time": "2022-02-26T01:14:06.567391Z",
     "start_time": "2022-02-26T01:14:06.564813Z"
    }
   },
   "outputs": [],
   "source": [
    "data_training_ALL_dir = 'data/training_data/ALL/'\n",
    "data_training_Normal_dir = 'data/training_data/Normal/'\n",
    "new_dir = 'data/split/'"
   ]
  },
  {
   "cell_type": "code",
   "execution_count": 3,
   "id": "d0439e91",
   "metadata": {
    "ExecuteTime": {
     "end_time": "2022-02-26T01:14:06.607752Z",
     "start_time": "2022-02-26T01:14:06.570231Z"
    }
   },
   "outputs": [
    {
     "data": {
      "text/plain": [
       "['UID_51_26_4_all.bmp',\n",
       " 'UID_20_1_1_all.bmp',\n",
       " 'UID_46_16_4_all.bmp',\n",
       " 'UID_23_7_2_all.bmp',\n",
       " 'UID_4_4_2_all.bmp',\n",
       " 'UID_45_30_2_all.bmp',\n",
       " 'UID_28_2_3_all.bmp',\n",
       " 'UID_35_8_7_all.bmp',\n",
       " 'UID_45_25_8_all.bmp',\n",
       " 'UID_51_14_6_all.bmp']"
      ]
     },
     "execution_count": 3,
     "metadata": {},
     "output_type": "execute_result"
    }
   ],
   "source": [
    "imgs_ALL = [file for file in os.listdir(data_training_ALL_dir) if file.endswith('.bmp')]\n",
    "imgs_ALL[0:10]"
   ]
  },
  {
   "cell_type": "code",
   "execution_count": 4,
   "id": "040aec40",
   "metadata": {
    "ExecuteTime": {
     "end_time": "2022-02-26T01:14:06.613442Z",
     "start_time": "2022-02-26T01:14:06.609140Z"
    }
   },
   "outputs": [
    {
     "name": "stdout",
     "output_type": "stream",
     "text": [
      "There are 7272 ALL images\n"
     ]
    }
   ],
   "source": [
    "print('There are', len(imgs_ALL), 'ALL images')"
   ]
  },
  {
   "cell_type": "code",
   "execution_count": 5,
   "id": "7c762325",
   "metadata": {
    "ExecuteTime": {
     "end_time": "2022-02-26T01:14:06.632953Z",
     "start_time": "2022-02-26T01:14:06.615697Z"
    }
   },
   "outputs": [
    {
     "name": "stdout",
     "output_type": "stream",
     "text": [
      "There are 3389 Normal images\n"
     ]
    }
   ],
   "source": [
    "imgs_Normal = [file for file in os.listdir(data_training_Normal_dir) if file.endswith('.bmp')]\n",
    "print('There are', len(imgs_Normal), 'Normal images')"
   ]
  },
  {
   "cell_type": "code",
   "execution_count": 6,
   "id": "9cd5edfb",
   "metadata": {
    "ExecuteTime": {
     "end_time": "2022-02-26T01:14:06.639001Z",
     "start_time": "2022-02-26T01:14:06.634901Z"
    }
   },
   "outputs": [],
   "source": [
    "# os.mkdir(new_dir)\n",
    "\n",
    "train_folder = os.path.join(new_dir, 'train')\n",
    "train_ALL = os.path.join(train_folder, 'ALL')\n",
    "train_Normal = os.path.join(train_folder, 'Normal')\n",
    "\n",
    "val_folder = os.path.join(new_dir, 'validation')\n",
    "val_ALL = os.path.join(val_folder, 'ALL')\n",
    "val_Normal = os.path.join(val_folder, 'Normal')"
   ]
  },
  {
   "cell_type": "code",
   "execution_count": 7,
   "id": "5defe1be",
   "metadata": {
    "ExecuteTime": {
     "end_time": "2022-02-26T01:14:06.645516Z",
     "start_time": "2022-02-26T01:14:06.640296Z"
    }
   },
   "outputs": [
    {
     "data": {
      "text/plain": [
       "'data/split/train/ALL'"
      ]
     },
     "execution_count": 7,
     "metadata": {},
     "output_type": "execute_result"
    }
   ],
   "source": [
    "train_ALL"
   ]
  },
  {
   "cell_type": "code",
   "execution_count": 8,
   "id": "b451a358",
   "metadata": {
    "ExecuteTime": {
     "end_time": "2022-02-26T01:14:06.649918Z",
     "start_time": "2022-02-26T01:14:06.647344Z"
    }
   },
   "outputs": [],
   "source": [
    "# os.mkdir(train_folder)\n",
    "# os.mkdir(train_ALL)\n",
    "# os.mkdir(train_Normal)\n",
    "\n",
    "# os.mkdir(val_folder)\n",
    "# os.mkdir(val_ALL)\n",
    "# os.mkdir(val_Normal)"
   ]
  },
  {
   "cell_type": "code",
   "execution_count": 9,
   "id": "ffe62045",
   "metadata": {
    "ExecuteTime": {
     "end_time": "2022-02-26T01:14:23.756989Z",
     "start_time": "2022-02-26T01:14:06.651712Z"
    }
   },
   "outputs": [],
   "source": [
    "# train ALL\n",
    "imgs = imgs_ALL[:5700]\n",
    "for img in imgs:\n",
    "    origin = os.path.join(data_training_ALL_dir, img)\n",
    "    destination = os.path.join(train_ALL, img)\n",
    "    shutil.copyfile(origin, destination)\n",
    "    \n",
    "# validation ALL\n",
    "imgs = imgs_ALL[5700:]\n",
    "for img in imgs:\n",
    "    origin = os.path.join(data_training_ALL_dir, img)\n",
    "    destination = os.path.join(val_ALL, img)\n",
    "    shutil.copyfile(origin, destination)\n",
    "    \n",
    "# train Normal\n",
    "imgs = imgs_Normal[:2700]\n",
    "for img in imgs:\n",
    "    origin = os.path.join(data_training_Normal_dir, img)\n",
    "    destination = os.path.join(train_Normal, img)\n",
    "    shutil.copyfile(origin, destination)\n",
    "\n",
    "# validation Normal\n",
    "imgs = imgs_Normal[2700:]\n",
    "for img in imgs:\n",
    "    origin = os.path.join(data_training_Normal_dir, img)\n",
    "    destination = os.path.join(val_Normal, img)\n",
    "    shutil.copyfile(origin, destination)"
   ]
  },
  {
   "cell_type": "code",
   "execution_count": 10,
   "id": "9723f63c",
   "metadata": {
    "ExecuteTime": {
     "end_time": "2022-02-26T01:14:23.793923Z",
     "start_time": "2022-02-26T01:14:23.760373Z"
    }
   },
   "outputs": [
    {
     "name": "stdout",
     "output_type": "stream",
     "text": [
      "There are 5700 ALL images in the training set\n",
      "There are 2700 Normal images in the training set\n",
      "There are 1572 ALL images in the validation set\n",
      "There are 689 Normal images in the validation set\n"
     ]
    }
   ],
   "source": [
    "print('There are', len(os.listdir(train_ALL)), 'ALL images in the training set')\n",
    "print('There are', len(os.listdir(train_Normal)), 'Normal images in the training set')\n",
    "print('There are', len(os.listdir(val_ALL)), 'ALL images in the validation set')\n",
    "print('There are', len(os.listdir(val_Normal)), 'Normal images in the validation set')"
   ]
  },
  {
   "cell_type": "code",
   "execution_count": 11,
   "id": "42cf6815",
   "metadata": {
    "ExecuteTime": {
     "end_time": "2022-02-26T01:14:24.445955Z",
     "start_time": "2022-02-26T01:14:23.795284Z"
    }
   },
   "outputs": [
    {
     "name": "stdout",
     "output_type": "stream",
     "text": [
      "Found 8400 images belonging to 2 classes.\n",
      "Found 2261 images belonging to 2 classes.\n"
     ]
    }
   ],
   "source": [
    "# get all the data in the directory split/train (542 images), and reshape them\n",
    "train_generator = ImageDataGenerator(rescale=1./255).flow_from_directory(\n",
    "        train_folder,\n",
    "        class_mode='binary',\n",
    "        target_size=(225, 225), batch_size=8400)\n",
    "\n",
    "# get all the data in the directory split/validation (200 images), and reshape them\n",
    "val_generator = ImageDataGenerator(rescale=1./255).flow_from_directory(\n",
    "        val_folder,\n",
    "        class_mode='binary',\n",
    "        target_size=(225, 225), batch_size = 2261)"
   ]
  },
  {
   "cell_type": "code",
   "execution_count": 12,
   "id": "4d4781c2",
   "metadata": {
    "ExecuteTime": {
     "end_time": "2022-02-26T01:14:24.455008Z",
     "start_time": "2022-02-26T01:14:24.450876Z"
    }
   },
   "outputs": [
    {
     "data": {
      "text/plain": [
       "{'ALL': 0, 'Normal': 1}"
      ]
     },
     "execution_count": 12,
     "metadata": {},
     "output_type": "execute_result"
    }
   ],
   "source": [
    "train_generator.class_indices"
   ]
  },
  {
   "cell_type": "code",
   "execution_count": 13,
   "id": "dc170495",
   "metadata": {
    "ExecuteTime": {
     "end_time": "2022-02-26T01:14:24.459964Z",
     "start_time": "2022-02-26T01:14:24.456671Z"
    }
   },
   "outputs": [
    {
     "data": {
      "text/plain": [
       "{'ALL': 0, 'Normal': 1}"
      ]
     },
     "execution_count": 13,
     "metadata": {},
     "output_type": "execute_result"
    }
   ],
   "source": [
    "val_generator.class_indices"
   ]
  },
  {
   "cell_type": "code",
   "execution_count": 14,
   "id": "2d4212dd",
   "metadata": {
    "ExecuteTime": {
     "end_time": "2022-02-26T01:14:44.113848Z",
     "start_time": "2022-02-26T01:14:24.461916Z"
    }
   },
   "outputs": [],
   "source": [
    "# create the data sets\n",
    "train_images, train_labels = next(train_generator)\n",
    "val_images, val_labels = next(val_generator)"
   ]
  },
  {
   "cell_type": "code",
   "execution_count": 15,
   "id": "b3dfddf2",
   "metadata": {
    "ExecuteTime": {
     "end_time": "2022-02-26T01:14:44.129370Z",
     "start_time": "2022-02-26T01:14:44.117953Z"
    }
   },
   "outputs": [
    {
     "name": "stdout",
     "output_type": "stream",
     "text": [
      "Number of training samples: 8400\n",
      "Number of validation samples: 2261\n",
      "train_images shape: (8400, 225, 225, 3)\n",
      "train_labels shape: (8400,)\n",
      "val_images shape: (2261, 225, 225, 3)\n",
      "val_labels shape: (2261,)\n"
     ]
    }
   ],
   "source": [
    "# Explore your dataset again\n",
    "m_train = train_images.shape[0]\n",
    "num_px = train_images.shape[1]\n",
    "# m_test = test_images.shape[0]\n",
    "m_val = val_images.shape[0]\n",
    "\n",
    "print (\"Number of training samples: \" + str(m_train))\n",
    "# print (\"Number of testing samples: \" + str(m_test))\n",
    "print (\"Number of validation samples: \" + str(m_val))\n",
    "print (\"train_images shape: \" + str(train_images.shape))\n",
    "print (\"train_labels shape: \" + str(train_labels.shape))\n",
    "# print (\"test_images shape: \" + str(test_images.shape))\n",
    "# print (\"test_labels shape: \" + str(test_labels.shape))\n",
    "print (\"val_images shape: \" + str(val_images.shape))\n",
    "print (\"val_labels shape: \" + str(val_labels.shape))"
   ]
  },
  {
   "cell_type": "code",
   "execution_count": 16,
   "id": "14aec217",
   "metadata": {
    "ExecuteTime": {
     "end_time": "2022-02-26T01:14:44.140302Z",
     "start_time": "2022-02-26T01:14:44.133160Z"
    }
   },
   "outputs": [
    {
     "name": "stdout",
     "output_type": "stream",
     "text": [
      "(8400, 151875)\n",
      "(2261, 151875)\n"
     ]
    }
   ],
   "source": [
    "train_img = train_images.reshape(train_images.shape[0], -1)\n",
    "# test_img = test_images.reshape(test_images.shape[0], -1)\n",
    "val_img = val_images.reshape(val_images.shape[0], -1)\n",
    "\n",
    "print(train_img.shape)\n",
    "# print(test_img.shape)\n",
    "print(val_img.shape)"
   ]
  },
  {
   "cell_type": "code",
   "execution_count": 17,
   "id": "2a52b4e0",
   "metadata": {
    "ExecuteTime": {
     "end_time": "2022-02-26T01:14:44.145189Z",
     "start_time": "2022-02-26T01:14:44.142661Z"
    }
   },
   "outputs": [],
   "source": [
    "# train_y = np.reshape(train_labels[:,0], (8400,1))\n",
    "# # test_y = np.reshape(test_labels[:,0], (180,1))\n",
    "# val_y = np.reshape(val_labels[:,0], (2261,1))"
   ]
  },
  {
   "cell_type": "code",
   "execution_count": 18,
   "id": "aba05395",
   "metadata": {
    "ExecuteTime": {
     "end_time": "2022-02-26T01:14:44.149306Z",
     "start_time": "2022-02-26T01:14:44.146799Z"
    }
   },
   "outputs": [],
   "source": [
    "# train_y"
   ]
  },
  {
   "cell_type": "code",
   "execution_count": null,
   "id": "c123a359",
   "metadata": {},
   "outputs": [],
   "source": []
  },
  {
   "cell_type": "code",
   "execution_count": null,
   "id": "4bf40054",
   "metadata": {},
   "outputs": [],
   "source": []
  },
  {
   "cell_type": "code",
   "execution_count": 19,
   "id": "d8a080b5",
   "metadata": {
    "ExecuteTime": {
     "end_time": "2022-02-26T01:14:44.160927Z",
     "start_time": "2022-02-26T01:14:44.150936Z"
    }
   },
   "outputs": [],
   "source": [
    "test_df = pd.read_csv('data/test_data/test_data_labels.csv')"
   ]
  },
  {
   "cell_type": "code",
   "execution_count": 20,
   "id": "1cf97c4c",
   "metadata": {
    "ExecuteTime": {
     "end_time": "2022-02-26T01:14:44.179436Z",
     "start_time": "2022-02-26T01:14:44.164950Z"
    },
    "scrolled": false
   },
   "outputs": [
    {
     "data": {
      "text/html": [
       "<div>\n",
       "<style scoped>\n",
       "    .dataframe tbody tr th:only-of-type {\n",
       "        vertical-align: middle;\n",
       "    }\n",
       "\n",
       "    .dataframe tbody tr th {\n",
       "        vertical-align: top;\n",
       "    }\n",
       "\n",
       "    .dataframe thead th {\n",
       "        text-align: right;\n",
       "    }\n",
       "</style>\n",
       "<table border=\"1\" class=\"dataframe\">\n",
       "  <thead>\n",
       "    <tr style=\"text-align: right;\">\n",
       "      <th></th>\n",
       "      <th>Patient_ID</th>\n",
       "      <th>new_names</th>\n",
       "      <th>labels</th>\n",
       "    </tr>\n",
       "  </thead>\n",
       "  <tbody>\n",
       "    <tr>\n",
       "      <th>0</th>\n",
       "      <td>UID_57_29_1_all.bmp</td>\n",
       "      <td>1.bmp</td>\n",
       "      <td>1</td>\n",
       "    </tr>\n",
       "    <tr>\n",
       "      <th>1</th>\n",
       "      <td>UID_57_22_2_all.bmp</td>\n",
       "      <td>2.bmp</td>\n",
       "      <td>1</td>\n",
       "    </tr>\n",
       "    <tr>\n",
       "      <th>2</th>\n",
       "      <td>UID_57_31_3_all.bmp</td>\n",
       "      <td>3.bmp</td>\n",
       "      <td>1</td>\n",
       "    </tr>\n",
       "    <tr>\n",
       "      <th>3</th>\n",
       "      <td>UID_H49_35_1_hem.bmp</td>\n",
       "      <td>4.bmp</td>\n",
       "      <td>0</td>\n",
       "    </tr>\n",
       "    <tr>\n",
       "      <th>4</th>\n",
       "      <td>UID_58_6_13_all.bmp</td>\n",
       "      <td>5.bmp</td>\n",
       "      <td>1</td>\n",
       "    </tr>\n",
       "  </tbody>\n",
       "</table>\n",
       "</div>"
      ],
      "text/plain": [
       "             Patient_ID new_names  labels\n",
       "0   UID_57_29_1_all.bmp     1.bmp       1\n",
       "1   UID_57_22_2_all.bmp     2.bmp       1\n",
       "2   UID_57_31_3_all.bmp     3.bmp       1\n",
       "3  UID_H49_35_1_hem.bmp     4.bmp       0\n",
       "4   UID_58_6_13_all.bmp     5.bmp       1"
      ]
     },
     "execution_count": 20,
     "metadata": {},
     "output_type": "execute_result"
    }
   ],
   "source": [
    "test_df.head()"
   ]
  },
  {
   "cell_type": "code",
   "execution_count": 21,
   "id": "2c08bcb4",
   "metadata": {
    "ExecuteTime": {
     "end_time": "2022-02-26T01:14:44.197394Z",
     "start_time": "2022-02-26T01:14:44.182619Z"
    }
   },
   "outputs": [
    {
     "data": {
      "text/html": [
       "<div>\n",
       "<style scoped>\n",
       "    .dataframe tbody tr th:only-of-type {\n",
       "        vertical-align: middle;\n",
       "    }\n",
       "\n",
       "    .dataframe tbody tr th {\n",
       "        vertical-align: top;\n",
       "    }\n",
       "\n",
       "    .dataframe thead th {\n",
       "        text-align: right;\n",
       "    }\n",
       "</style>\n",
       "<table border=\"1\" class=\"dataframe\">\n",
       "  <thead>\n",
       "    <tr style=\"text-align: right;\">\n",
       "      <th></th>\n",
       "      <th>new_names</th>\n",
       "      <th>labels</th>\n",
       "    </tr>\n",
       "  </thead>\n",
       "  <tbody>\n",
       "    <tr>\n",
       "      <th>0</th>\n",
       "      <td>1.bmp</td>\n",
       "      <td>Normal</td>\n",
       "    </tr>\n",
       "    <tr>\n",
       "      <th>1</th>\n",
       "      <td>2.bmp</td>\n",
       "      <td>Normal</td>\n",
       "    </tr>\n",
       "    <tr>\n",
       "      <th>2</th>\n",
       "      <td>3.bmp</td>\n",
       "      <td>Normal</td>\n",
       "    </tr>\n",
       "    <tr>\n",
       "      <th>3</th>\n",
       "      <td>4.bmp</td>\n",
       "      <td>ALL</td>\n",
       "    </tr>\n",
       "    <tr>\n",
       "      <th>4</th>\n",
       "      <td>5.bmp</td>\n",
       "      <td>Normal</td>\n",
       "    </tr>\n",
       "    <tr>\n",
       "      <th>5</th>\n",
       "      <td>6.bmp</td>\n",
       "      <td>Normal</td>\n",
       "    </tr>\n",
       "    <tr>\n",
       "      <th>6</th>\n",
       "      <td>7.bmp</td>\n",
       "      <td>ALL</td>\n",
       "    </tr>\n",
       "    <tr>\n",
       "      <th>7</th>\n",
       "      <td>8.bmp</td>\n",
       "      <td>ALL</td>\n",
       "    </tr>\n",
       "    <tr>\n",
       "      <th>8</th>\n",
       "      <td>9.bmp</td>\n",
       "      <td>Normal</td>\n",
       "    </tr>\n",
       "    <tr>\n",
       "      <th>9</th>\n",
       "      <td>10.bmp</td>\n",
       "      <td>Normal</td>\n",
       "    </tr>\n",
       "    <tr>\n",
       "      <th>10</th>\n",
       "      <td>11.bmp</td>\n",
       "      <td>Normal</td>\n",
       "    </tr>\n",
       "    <tr>\n",
       "      <th>11</th>\n",
       "      <td>12.bmp</td>\n",
       "      <td>Normal</td>\n",
       "    </tr>\n",
       "    <tr>\n",
       "      <th>12</th>\n",
       "      <td>13.bmp</td>\n",
       "      <td>ALL</td>\n",
       "    </tr>\n",
       "    <tr>\n",
       "      <th>13</th>\n",
       "      <td>14.bmp</td>\n",
       "      <td>ALL</td>\n",
       "    </tr>\n",
       "    <tr>\n",
       "      <th>14</th>\n",
       "      <td>15.bmp</td>\n",
       "      <td>Normal</td>\n",
       "    </tr>\n",
       "    <tr>\n",
       "      <th>15</th>\n",
       "      <td>16.bmp</td>\n",
       "      <td>Normal</td>\n",
       "    </tr>\n",
       "    <tr>\n",
       "      <th>16</th>\n",
       "      <td>17.bmp</td>\n",
       "      <td>Normal</td>\n",
       "    </tr>\n",
       "    <tr>\n",
       "      <th>17</th>\n",
       "      <td>18.bmp</td>\n",
       "      <td>Normal</td>\n",
       "    </tr>\n",
       "    <tr>\n",
       "      <th>18</th>\n",
       "      <td>19.bmp</td>\n",
       "      <td>Normal</td>\n",
       "    </tr>\n",
       "    <tr>\n",
       "      <th>19</th>\n",
       "      <td>20.bmp</td>\n",
       "      <td>Normal</td>\n",
       "    </tr>\n",
       "  </tbody>\n",
       "</table>\n",
       "</div>"
      ],
      "text/plain": [
       "   new_names  labels\n",
       "0      1.bmp  Normal\n",
       "1      2.bmp  Normal\n",
       "2      3.bmp  Normal\n",
       "3      4.bmp     ALL\n",
       "4      5.bmp  Normal\n",
       "5      6.bmp  Normal\n",
       "6      7.bmp     ALL\n",
       "7      8.bmp     ALL\n",
       "8      9.bmp  Normal\n",
       "9     10.bmp  Normal\n",
       "10    11.bmp  Normal\n",
       "11    12.bmp  Normal\n",
       "12    13.bmp     ALL\n",
       "13    14.bmp     ALL\n",
       "14    15.bmp  Normal\n",
       "15    16.bmp  Normal\n",
       "16    17.bmp  Normal\n",
       "17    18.bmp  Normal\n",
       "18    19.bmp  Normal\n",
       "19    20.bmp  Normal"
      ]
     },
     "execution_count": 21,
     "metadata": {},
     "output_type": "execute_result"
    }
   ],
   "source": [
    "test_df = test_df.replace({'labels':{0 : 'ALL', 1 : 'Normal'}})\n",
    "\n",
    "# binarizer = LabelBinarizer()\n",
    "# test_df.labels = binarizer.fit_transform(test_df.labels)\n",
    "\n",
    "test_df = test_df.drop('Patient_ID', axis=1)\n",
    "\n",
    "test_df.head(20)"
   ]
  },
  {
   "cell_type": "code",
   "execution_count": 22,
   "id": "b4ff441f",
   "metadata": {
    "ExecuteTime": {
     "end_time": "2022-02-26T01:14:44.232855Z",
     "start_time": "2022-02-26T01:14:44.199777Z"
    },
    "scrolled": true
   },
   "outputs": [
    {
     "name": "stdout",
     "output_type": "stream",
     "text": [
      "Found 1867 validated image filenames belonging to 2 classes.\n"
     ]
    }
   ],
   "source": [
    "test_generator = ImageDataGenerator(rescale=1./255).flow_from_dataframe(test_df,\n",
    "                                         directory='data/test_data',\n",
    "                                         x_col='new_names',\n",
    "                                         y_col='labels',\n",
    "                                         class_mode='binary',\n",
    "                                         target_size=(225, 225),\n",
    "                                         batch_size=1867,)"
   ]
  },
  {
   "cell_type": "code",
   "execution_count": 23,
   "id": "056bb53a",
   "metadata": {
    "ExecuteTime": {
     "end_time": "2022-02-26T01:14:44.240572Z",
     "start_time": "2022-02-26T01:14:44.235385Z"
    }
   },
   "outputs": [
    {
     "data": {
      "text/plain": [
       "{'ALL': 0, 'Normal': 1}"
      ]
     },
     "execution_count": 23,
     "metadata": {},
     "output_type": "execute_result"
    }
   ],
   "source": [
    "test_generator.class_indices"
   ]
  },
  {
   "cell_type": "code",
   "execution_count": 24,
   "id": "8470a9da",
   "metadata": {
    "ExecuteTime": {
     "end_time": "2022-02-26T01:14:47.971472Z",
     "start_time": "2022-02-26T01:14:44.242839Z"
    }
   },
   "outputs": [],
   "source": [
    "test_images, test_labels = next(test_generator)"
   ]
  },
  {
   "cell_type": "code",
   "execution_count": 25,
   "id": "e7d4501a",
   "metadata": {
    "ExecuteTime": {
     "end_time": "2022-02-26T01:14:47.976971Z",
     "start_time": "2022-02-26T01:14:47.973383Z"
    }
   },
   "outputs": [
    {
     "name": "stdout",
     "output_type": "stream",
     "text": [
      "Number of testing samples: 1867\n",
      "test_images shape: (1867, 225, 225, 3)\n",
      "test_labels shape: (1867,)\n"
     ]
    }
   ],
   "source": [
    "m_test = test_images.shape[0]\n",
    "\n",
    "print (\"Number of testing samples: \" + str(m_test))\n",
    "\n",
    "print (\"test_images shape: \" + str(test_images.shape))\n",
    "print (\"test_labels shape: \" + str(test_labels.shape))"
   ]
  },
  {
   "cell_type": "code",
   "execution_count": 26,
   "id": "f7f4c8dd",
   "metadata": {
    "ExecuteTime": {
     "end_time": "2022-02-26T01:14:47.982772Z",
     "start_time": "2022-02-26T01:14:47.978836Z"
    }
   },
   "outputs": [
    {
     "name": "stdout",
     "output_type": "stream",
     "text": [
      "(1867, 151875)\n"
     ]
    }
   ],
   "source": [
    "test_img = test_images.reshape(test_images.shape[0], -1)\n",
    "print(test_img.shape)"
   ]
  },
  {
   "cell_type": "code",
   "execution_count": 27,
   "id": "e7c0915f",
   "metadata": {
    "ExecuteTime": {
     "end_time": "2022-02-26T01:14:47.987875Z",
     "start_time": "2022-02-26T01:14:47.985005Z"
    }
   },
   "outputs": [],
   "source": [
    "# test_y = np.reshape(test_labels[:,0], (1867,1))"
   ]
  },
  {
   "cell_type": "code",
   "execution_count": 28,
   "id": "ff859f0f",
   "metadata": {
    "ExecuteTime": {
     "end_time": "2022-02-26T01:14:47.993701Z",
     "start_time": "2022-02-26T01:14:47.990022Z"
    }
   },
   "outputs": [
    {
     "data": {
      "text/plain": [
       "0.0"
      ]
     },
     "execution_count": 28,
     "metadata": {},
     "output_type": "execute_result"
    }
   ],
   "source": [
    "test_labels[7]"
   ]
  },
  {
   "cell_type": "code",
   "execution_count": null,
   "id": "f0c3da85",
   "metadata": {},
   "outputs": [],
   "source": []
  },
  {
   "cell_type": "code",
   "execution_count": null,
   "id": "e7051645",
   "metadata": {},
   "outputs": [],
   "source": []
  },
  {
   "cell_type": "code",
   "execution_count": null,
   "id": "493d42ab",
   "metadata": {},
   "outputs": [],
   "source": []
  },
  {
   "cell_type": "code",
   "execution_count": null,
   "id": "21b70676",
   "metadata": {},
   "outputs": [],
   "source": []
  },
  {
   "cell_type": "code",
   "execution_count": null,
   "id": "014fc5eb",
   "metadata": {},
   "outputs": [],
   "source": []
  },
  {
   "cell_type": "code",
   "execution_count": null,
   "id": "5dbc0d36",
   "metadata": {},
   "outputs": [],
   "source": []
  },
  {
   "cell_type": "code",
   "execution_count": 29,
   "id": "134e9f60",
   "metadata": {
    "ExecuteTime": {
     "end_time": "2022-02-26T01:14:48.000918Z",
     "start_time": "2022-02-26T01:14:47.995097Z"
    }
   },
   "outputs": [],
   "source": [
    "class_weights = class_weight.compute_class_weight(class_weight='balanced',\n",
    "                                                  classes=np.unique(train_generator.classes),\n",
    "                                                  y=train_generator.classes\n",
    "                                                 )\n",
    "\n",
    "train_class_weights = dict(enumerate(class_weights))"
   ]
  },
  {
   "cell_type": "code",
   "execution_count": 30,
   "id": "80da6b81",
   "metadata": {
    "ExecuteTime": {
     "end_time": "2022-02-26T01:14:48.067530Z",
     "start_time": "2022-02-26T01:14:48.002361Z"
    }
   },
   "outputs": [],
   "source": [
    "baseline_model = models.Sequential()\n",
    "baseline_model.add(layers.Dense(20, activation='relu', input_shape=(151875,))) # 2 hidden layers\n",
    "baseline_model.add(layers.Dense(7, activation='relu'))\n",
    "baseline_model.add(layers.Dense(5, activation='relu'))\n",
    "baseline_model.add(layers.Dense(1, activation='sigmoid'))"
   ]
  },
  {
   "cell_type": "code",
   "execution_count": null,
   "id": "b00459f2",
   "metadata": {},
   "outputs": [],
   "source": []
  },
  {
   "cell_type": "code",
   "execution_count": null,
   "id": "9d5dbc33",
   "metadata": {},
   "outputs": [],
   "source": []
  },
  {
   "cell_type": "code",
   "execution_count": 32,
   "id": "5a75d30c",
   "metadata": {
    "ExecuteTime": {
     "end_time": "2022-02-26T01:17:18.976972Z",
     "start_time": "2022-02-26T01:15:08.677398Z"
    },
    "scrolled": false
   },
   "outputs": [
    {
     "name": "stdout",
     "output_type": "stream",
     "text": [
      "Epoch 1/50\n",
      "263/263 [==============================] - 3s 10ms/step - loss: 0.5566 - accuracy: 0.7635 - val_loss: 0.6413 - val_accuracy: 0.6970\n",
      "Epoch 2/50\n",
      "263/263 [==============================] - 3s 10ms/step - loss: 0.5047 - accuracy: 0.7790 - val_loss: 0.6219 - val_accuracy: 0.6931\n",
      "Epoch 3/50\n",
      "263/263 [==============================] - 2s 9ms/step - loss: 0.4962 - accuracy: 0.7829 - val_loss: 0.5460 - val_accuracy: 0.7536\n",
      "Epoch 4/50\n",
      "263/263 [==============================] - 3s 10ms/step - loss: 0.4890 - accuracy: 0.7887 - val_loss: 0.4625 - val_accuracy: 0.8001\n",
      "Epoch 5/50\n",
      "263/263 [==============================] - 3s 10ms/step - loss: 0.4838 - accuracy: 0.7879 - val_loss: 0.5509 - val_accuracy: 0.7439\n",
      "Epoch 6/50\n",
      "263/263 [==============================] - 3s 10ms/step - loss: 0.4759 - accuracy: 0.7919 - val_loss: 0.4997 - val_accuracy: 0.7660\n",
      "Epoch 7/50\n",
      "263/263 [==============================] - 3s 10ms/step - loss: 0.4742 - accuracy: 0.7933 - val_loss: 0.4461 - val_accuracy: 0.8156\n",
      "Epoch 8/50\n",
      "263/263 [==============================] - 3s 10ms/step - loss: 0.4666 - accuracy: 0.7977 - val_loss: 0.4182 - val_accuracy: 0.8204\n",
      "Epoch 9/50\n",
      "263/263 [==============================] - 3s 10ms/step - loss: 0.4620 - accuracy: 0.8035 - val_loss: 0.4543 - val_accuracy: 0.8085\n",
      "Epoch 10/50\n",
      "263/263 [==============================] - 3s 10ms/step - loss: 0.4591 - accuracy: 0.8051 - val_loss: 0.4564 - val_accuracy: 0.8089\n",
      "Epoch 11/50\n",
      "263/263 [==============================] - 3s 10ms/step - loss: 0.4587 - accuracy: 0.8014 - val_loss: 0.4804 - val_accuracy: 0.7890\n",
      "Epoch 12/50\n",
      "263/263 [==============================] - 3s 10ms/step - loss: 0.4504 - accuracy: 0.8077 - val_loss: 0.5478 - val_accuracy: 0.7634\n",
      "Epoch 13/50\n",
      "263/263 [==============================] - 3s 10ms/step - loss: 0.4452 - accuracy: 0.8095 - val_loss: 0.4709 - val_accuracy: 0.7930\n",
      "Epoch 14/50\n",
      "263/263 [==============================] - 3s 10ms/step - loss: 0.4427 - accuracy: 0.8163 - val_loss: 0.5087 - val_accuracy: 0.7705\n",
      "Epoch 15/50\n",
      "263/263 [==============================] - 3s 10ms/step - loss: 0.4429 - accuracy: 0.8119 - val_loss: 0.4131 - val_accuracy: 0.8266\n",
      "Epoch 16/50\n",
      "263/263 [==============================] - 3s 10ms/step - loss: 0.4349 - accuracy: 0.8170 - val_loss: 0.4542 - val_accuracy: 0.8111\n",
      "Epoch 17/50\n",
      "263/263 [==============================] - 3s 10ms/step - loss: 0.4332 - accuracy: 0.8142 - val_loss: 0.4163 - val_accuracy: 0.8293\n",
      "Epoch 18/50\n",
      "263/263 [==============================] - 3s 10ms/step - loss: 0.4283 - accuracy: 0.8199 - val_loss: 0.4491 - val_accuracy: 0.8036\n",
      "Epoch 19/50\n",
      "263/263 [==============================] - 3s 10ms/step - loss: 0.4242 - accuracy: 0.8225 - val_loss: 0.5455 - val_accuracy: 0.7519\n",
      "Epoch 20/50\n",
      "263/263 [==============================] - 3s 10ms/step - loss: 0.4234 - accuracy: 0.8211 - val_loss: 0.4188 - val_accuracy: 0.8297\n",
      "Epoch 21/50\n",
      "263/263 [==============================] - 3s 10ms/step - loss: 0.4225 - accuracy: 0.8211 - val_loss: 0.4763 - val_accuracy: 0.7890\n",
      "Epoch 22/50\n",
      "263/263 [==============================] - 3s 10ms/step - loss: 0.4206 - accuracy: 0.8220 - val_loss: 0.4198 - val_accuracy: 0.8213\n",
      "Epoch 23/50\n",
      "263/263 [==============================] - 3s 10ms/step - loss: 0.4128 - accuracy: 0.8261 - val_loss: 0.4187 - val_accuracy: 0.8359\n",
      "Epoch 24/50\n",
      "263/263 [==============================] - 3s 10ms/step - loss: 0.4028 - accuracy: 0.8273 - val_loss: 0.4346 - val_accuracy: 0.8120\n",
      "Epoch 25/50\n",
      "263/263 [==============================] - 3s 10ms/step - loss: 0.4077 - accuracy: 0.8225 - val_loss: 0.4564 - val_accuracy: 0.8111\n",
      "Epoch 26/50\n",
      "263/263 [==============================] - 3s 10ms/step - loss: 0.4095 - accuracy: 0.8251 - val_loss: 0.4323 - val_accuracy: 0.8085\n",
      "Epoch 27/50\n",
      "263/263 [==============================] - 3s 10ms/step - loss: 0.4072 - accuracy: 0.8243 - val_loss: 0.9455 - val_accuracy: 0.4188\n",
      "Epoch 28/50\n",
      "263/263 [==============================] - 3s 10ms/step - loss: 0.4027 - accuracy: 0.8279 - val_loss: 0.4314 - val_accuracy: 0.8173\n",
      "Epoch 29/50\n",
      "263/263 [==============================] - 3s 10ms/step - loss: 0.3974 - accuracy: 0.8294 - val_loss: 0.5879 - val_accuracy: 0.7360\n",
      "Epoch 30/50\n",
      "263/263 [==============================] - 3s 10ms/step - loss: 0.3924 - accuracy: 0.8295 - val_loss: 0.4120 - val_accuracy: 0.8395\n",
      "Epoch 31/50\n",
      "263/263 [==============================] - 3s 10ms/step - loss: 0.3931 - accuracy: 0.8319 - val_loss: 0.4625 - val_accuracy: 0.8098\n",
      "Epoch 32/50\n",
      "263/263 [==============================] - 3s 10ms/step - loss: 0.3881 - accuracy: 0.8315 - val_loss: 0.4172 - val_accuracy: 0.8271\n",
      "Epoch 33/50\n",
      "263/263 [==============================] - 3s 10ms/step - loss: 0.3827 - accuracy: 0.8370 - val_loss: 0.4505 - val_accuracy: 0.8089\n",
      "Epoch 34/50\n",
      "263/263 [==============================] - 3s 10ms/step - loss: 0.3748 - accuracy: 0.8424 - val_loss: 0.4366 - val_accuracy: 0.8138\n",
      "Epoch 35/50\n",
      "263/263 [==============================] - 3s 10ms/step - loss: 0.3841 - accuracy: 0.8344 - val_loss: 0.4189 - val_accuracy: 0.8341\n",
      "Epoch 36/50\n",
      "263/263 [==============================] - 3s 10ms/step - loss: 0.3806 - accuracy: 0.8338 - val_loss: 0.6451 - val_accuracy: 0.6935\n",
      "Epoch 37/50\n",
      "263/263 [==============================] - 3s 10ms/step - loss: 0.3773 - accuracy: 0.8338 - val_loss: 0.4204 - val_accuracy: 0.8240\n",
      "Epoch 38/50\n",
      "263/263 [==============================] - 3s 10ms/step - loss: 0.3713 - accuracy: 0.8417 - val_loss: 0.4453 - val_accuracy: 0.8054\n",
      "Epoch 39/50\n",
      "263/263 [==============================] - 3s 10ms/step - loss: 0.3702 - accuracy: 0.8344 - val_loss: 0.4291 - val_accuracy: 0.8182\n",
      "Epoch 40/50\n",
      "263/263 [==============================] - 3s 10ms/step - loss: 0.3691 - accuracy: 0.8363 - val_loss: 0.5006 - val_accuracy: 0.7567\n",
      "Epoch 41/50\n",
      "263/263 [==============================] - 3s 10ms/step - loss: 0.3654 - accuracy: 0.8400 - val_loss: 0.4737 - val_accuracy: 0.7864\n",
      "Epoch 42/50\n",
      "263/263 [==============================] - 3s 10ms/step - loss: 0.3557 - accuracy: 0.8460 - val_loss: 0.4180 - val_accuracy: 0.8368\n",
      "Epoch 43/50\n",
      "263/263 [==============================] - 3s 10ms/step - loss: 0.3607 - accuracy: 0.8383 - val_loss: 0.5928 - val_accuracy: 0.7452\n",
      "Epoch 44/50\n",
      "263/263 [==============================] - 3s 10ms/step - loss: 0.3537 - accuracy: 0.8449 - val_loss: 0.9964 - val_accuracy: 0.3636\n",
      "Epoch 45/50\n",
      "263/263 [==============================] - 3s 10ms/step - loss: 0.3529 - accuracy: 0.8424 - val_loss: 0.4115 - val_accuracy: 0.8390\n",
      "Epoch 46/50\n",
      "263/263 [==============================] - 3s 10ms/step - loss: 0.3580 - accuracy: 0.8377 - val_loss: 0.4263 - val_accuracy: 0.8195\n",
      "Epoch 47/50\n",
      "263/263 [==============================] - 3s 10ms/step - loss: 0.3449 - accuracy: 0.8485 - val_loss: 0.6731 - val_accuracy: 0.6838\n",
      "Epoch 48/50\n",
      "263/263 [==============================] - 3s 10ms/step - loss: 0.3509 - accuracy: 0.8443 - val_loss: 0.6840 - val_accuracy: 0.6851\n",
      "Epoch 49/50\n",
      "263/263 [==============================] - 3s 10ms/step - loss: 0.3557 - accuracy: 0.8420 - val_loss: 0.5312 - val_accuracy: 0.7762\n",
      "Epoch 50/50\n",
      "263/263 [==============================] - 3s 10ms/step - loss: 0.3432 - accuracy: 0.8455 - val_loss: 0.5691 - val_accuracy: 0.7559\n"
     ]
    }
   ],
   "source": [
    "baseline_model.compile(optimizer='sgd',\n",
    "                          loss='binary_crossentropy',\n",
    "                          metrics=['accuracy'])\n",
    "\n",
    "baseline_history = baseline_model.fit(train_img,\n",
    "                                        train_labels,\n",
    "                                        epochs=50,\n",
    "                                        batch_size=32,\n",
    "                                        validation_data=(val_img, val_labels),\n",
    "                                        class_weight=train_class_weights,)"
   ]
  },
  {
   "cell_type": "code",
   "execution_count": 33,
   "id": "0a721273",
   "metadata": {
    "ExecuteTime": {
     "end_time": "2022-02-26T21:01:54.615997Z",
     "start_time": "2022-02-26T21:01:53.341151Z"
    }
   },
   "outputs": [
    {
     "name": "stdout",
     "output_type": "stream",
     "text": [
      "263/263 [==============================] - 1s 4ms/step - loss: 0.4019 - accuracy: 0.8195\n"
     ]
    }
   ],
   "source": [
    "results_train = baseline_model.evaluate(train_img, train_labels)"
   ]
  },
  {
   "cell_type": "code",
   "execution_count": 34,
   "id": "57880aba",
   "metadata": {
    "ExecuteTime": {
     "end_time": "2022-02-26T21:01:56.085494Z",
     "start_time": "2022-02-26T21:01:55.760082Z"
    }
   },
   "outputs": [
    {
     "name": "stdout",
     "output_type": "stream",
     "text": [
      "59/59 [==============================] - 0s 5ms/step - loss: 1.5594 - accuracy: 0.3631\n"
     ]
    }
   ],
   "source": [
    "results_test = baseline_model.evaluate(test_img, test_labels)"
   ]
  },
  {
   "cell_type": "code",
   "execution_count": null,
   "id": "c207a956",
   "metadata": {},
   "outputs": [],
   "source": []
  },
  {
   "cell_type": "code",
   "execution_count": 43,
   "id": "a47e70be",
   "metadata": {
    "ExecuteTime": {
     "end_time": "2022-02-26T21:12:37.063937Z",
     "start_time": "2022-02-26T21:12:37.044641Z"
    }
   },
   "outputs": [
    {
     "name": "stderr",
     "output_type": "stream",
     "text": [
      "[ WARN:0@1350.076] global /Users/runner/work/opencv-python/opencv-python/opencv/modules/imgcodecs/src/loadsave.cpp (239) findDecoder imread_('data/test_data_copy/\\735.bmp'): can't open/read file: check file path/integrity\n"
     ]
    },
    {
     "ename": "KeyError",
     "evalue": "'735.bmp'",
     "output_type": "error",
     "traceback": [
      "\u001b[0;31m---------------------------------------------------------------------------\u001b[0m",
      "\u001b[0;31mKeyError\u001b[0m                                  Traceback (most recent call last)",
      "\u001b[0;32m/var/folders/4t/444kxfjn18909r8jzgjlvxk00000gn/T/ipykernel_8589/4222328308.py\u001b[0m in \u001b[0;36m<module>\u001b[0;34m\u001b[0m\n\u001b[1;32m     17\u001b[0m             \u001b[0mim\u001b[0m \u001b[0;34m=\u001b[0m \u001b[0mcv2\u001b[0m\u001b[0;34m.\u001b[0m\u001b[0mimread\u001b[0m\u001b[0;34m(\u001b[0m\u001b[0mroot\u001b[0m\u001b[0;34m+\u001b[0m\u001b[0;34m'\\\\'\u001b[0m\u001b[0;34m+\u001b[0m\u001b[0mfile\u001b[0m\u001b[0;34m,\u001b[0m \u001b[0;36m0\u001b[0m\u001b[0;34m)\u001b[0m\u001b[0;34m\u001b[0m\u001b[0;34m\u001b[0m\u001b[0m\n\u001b[1;32m     18\u001b[0m             \u001b[0mimages\u001b[0m\u001b[0;34m.\u001b[0m\u001b[0mappend\u001b[0m\u001b[0;34m(\u001b[0m\u001b[0mim\u001b[0m\u001b[0;34m)\u001b[0m\u001b[0;34m\u001b[0m\u001b[0;34m\u001b[0m\u001b[0m\n\u001b[0;32m---> 19\u001b[0;31m             \u001b[0mtarget\u001b[0m\u001b[0;34m.\u001b[0m\u001b[0mappend\u001b[0m\u001b[0;34m(\u001b[0m\u001b[0mgt\u001b[0m\u001b[0;34m[\u001b[0m\u001b[0mfile\u001b[0m\u001b[0;34m]\u001b[0m\u001b[0;34m)\u001b[0m\u001b[0;34m\u001b[0m\u001b[0;34m\u001b[0m\u001b[0m\n\u001b[0m",
      "\u001b[0;31mKeyError\u001b[0m: '735.bmp'"
     ]
    }
   ],
   "source": [
    "with open('data/test_data_copy/test_data_labels.csv', mode='r', newline='', encoding='utf-8') as f:\n",
    "    reader = csv.reader(f)\n",
    "    gt = {rows[0]:rows[1] for rows in reader}\n",
    "\n",
    "\n",
    "# Importing the dataset\n",
    "\n",
    "# setting path and list variables\n",
    "path = 'data/test_data_copy/'\n",
    "images = [] \n",
    "target = [] \n",
    "\n",
    "# loading dataset\n",
    "for root, dirs, files in os.walk(path):\n",
    "    for file in files:\n",
    "        with open(os.path.join(root, file), \"r\") as auto:    \n",
    "            im = cv2.imread(root+'\\\\'+file, 0)            \n",
    "            images.append(im)\n",
    "            target.append(gt[file])"
   ]
  },
  {
   "cell_type": "code",
   "execution_count": 70,
   "id": "ddcc49a2",
   "metadata": {
    "ExecuteTime": {
     "end_time": "2022-02-26T21:44:11.890674Z",
     "start_time": "2022-02-26T21:44:11.887158Z"
    }
   },
   "outputs": [],
   "source": [
    "# test_images_ALL = [x for x in test_df['new_names']test_df['labels'] == 'ALL']\n",
    "# test_images_Normal = [x for x in test_df['new_names'] if test_df['labels'] == 'Normal']\n",
    "\n",
    "test_split_df = test_df.groupby('labels')"
   ]
  },
  {
   "cell_type": "code",
   "execution_count": 71,
   "id": "707156ce",
   "metadata": {
    "ExecuteTime": {
     "end_time": "2022-02-26T21:44:13.546290Z",
     "start_time": "2022-02-26T21:44:13.541084Z"
    }
   },
   "outputs": [
    {
     "data": {
      "text/plain": [
       "Normal    1219\n",
       "ALL        648\n",
       "Name: labels, dtype: int64"
      ]
     },
     "execution_count": 71,
     "metadata": {},
     "output_type": "execute_result"
    }
   ],
   "source": [
    "test_df['labels'].value_counts()"
   ]
  },
  {
   "cell_type": "code",
   "execution_count": 74,
   "id": "96cb9a51",
   "metadata": {
    "ExecuteTime": {
     "end_time": "2022-02-26T21:45:26.469580Z",
     "start_time": "2022-02-26T21:45:26.466397Z"
    }
   },
   "outputs": [],
   "source": [
    "test_images_ALL = test_split_df.get_group('ALL')\n",
    "test_images_Normal = test_split_df.get_group('Normal')"
   ]
  },
  {
   "cell_type": "code",
   "execution_count": 75,
   "id": "ef304668",
   "metadata": {
    "ExecuteTime": {
     "end_time": "2022-02-26T21:45:39.580089Z",
     "start_time": "2022-02-26T21:45:39.568559Z"
    }
   },
   "outputs": [
    {
     "data": {
      "text/html": [
       "<div>\n",
       "<style scoped>\n",
       "    .dataframe tbody tr th:only-of-type {\n",
       "        vertical-align: middle;\n",
       "    }\n",
       "\n",
       "    .dataframe tbody tr th {\n",
       "        vertical-align: top;\n",
       "    }\n",
       "\n",
       "    .dataframe thead th {\n",
       "        text-align: right;\n",
       "    }\n",
       "</style>\n",
       "<table border=\"1\" class=\"dataframe\">\n",
       "  <thead>\n",
       "    <tr style=\"text-align: right;\">\n",
       "      <th></th>\n",
       "      <th>new_names</th>\n",
       "      <th>labels</th>\n",
       "    </tr>\n",
       "  </thead>\n",
       "  <tbody>\n",
       "    <tr>\n",
       "      <th>3</th>\n",
       "      <td>4.bmp</td>\n",
       "      <td>ALL</td>\n",
       "    </tr>\n",
       "    <tr>\n",
       "      <th>6</th>\n",
       "      <td>7.bmp</td>\n",
       "      <td>ALL</td>\n",
       "    </tr>\n",
       "    <tr>\n",
       "      <th>7</th>\n",
       "      <td>8.bmp</td>\n",
       "      <td>ALL</td>\n",
       "    </tr>\n",
       "    <tr>\n",
       "      <th>12</th>\n",
       "      <td>13.bmp</td>\n",
       "      <td>ALL</td>\n",
       "    </tr>\n",
       "    <tr>\n",
       "      <th>13</th>\n",
       "      <td>14.bmp</td>\n",
       "      <td>ALL</td>\n",
       "    </tr>\n",
       "    <tr>\n",
       "      <th>...</th>\n",
       "      <td>...</td>\n",
       "      <td>...</td>\n",
       "    </tr>\n",
       "    <tr>\n",
       "      <th>1841</th>\n",
       "      <td>1842.bmp</td>\n",
       "      <td>ALL</td>\n",
       "    </tr>\n",
       "    <tr>\n",
       "      <th>1844</th>\n",
       "      <td>1845.bmp</td>\n",
       "      <td>ALL</td>\n",
       "    </tr>\n",
       "    <tr>\n",
       "      <th>1849</th>\n",
       "      <td>1850.bmp</td>\n",
       "      <td>ALL</td>\n",
       "    </tr>\n",
       "    <tr>\n",
       "      <th>1857</th>\n",
       "      <td>1858.bmp</td>\n",
       "      <td>ALL</td>\n",
       "    </tr>\n",
       "    <tr>\n",
       "      <th>1864</th>\n",
       "      <td>1865.bmp</td>\n",
       "      <td>ALL</td>\n",
       "    </tr>\n",
       "  </tbody>\n",
       "</table>\n",
       "<p>648 rows × 2 columns</p>\n",
       "</div>"
      ],
      "text/plain": [
       "     new_names labels\n",
       "3        4.bmp    ALL\n",
       "6        7.bmp    ALL\n",
       "7        8.bmp    ALL\n",
       "12      13.bmp    ALL\n",
       "13      14.bmp    ALL\n",
       "...        ...    ...\n",
       "1841  1842.bmp    ALL\n",
       "1844  1845.bmp    ALL\n",
       "1849  1850.bmp    ALL\n",
       "1857  1858.bmp    ALL\n",
       "1864  1865.bmp    ALL\n",
       "\n",
       "[648 rows x 2 columns]"
      ]
     },
     "execution_count": 75,
     "metadata": {},
     "output_type": "execute_result"
    }
   ],
   "source": [
    "test_images_ALL"
   ]
  },
  {
   "cell_type": "code",
   "execution_count": 76,
   "id": "6e1b325b",
   "metadata": {
    "ExecuteTime": {
     "end_time": "2022-02-26T21:45:47.930677Z",
     "start_time": "2022-02-26T21:45:47.923828Z"
    }
   },
   "outputs": [
    {
     "data": {
      "text/html": [
       "<div>\n",
       "<style scoped>\n",
       "    .dataframe tbody tr th:only-of-type {\n",
       "        vertical-align: middle;\n",
       "    }\n",
       "\n",
       "    .dataframe tbody tr th {\n",
       "        vertical-align: top;\n",
       "    }\n",
       "\n",
       "    .dataframe thead th {\n",
       "        text-align: right;\n",
       "    }\n",
       "</style>\n",
       "<table border=\"1\" class=\"dataframe\">\n",
       "  <thead>\n",
       "    <tr style=\"text-align: right;\">\n",
       "      <th></th>\n",
       "      <th>new_names</th>\n",
       "      <th>labels</th>\n",
       "    </tr>\n",
       "  </thead>\n",
       "  <tbody>\n",
       "    <tr>\n",
       "      <th>0</th>\n",
       "      <td>1.bmp</td>\n",
       "      <td>Normal</td>\n",
       "    </tr>\n",
       "    <tr>\n",
       "      <th>1</th>\n",
       "      <td>2.bmp</td>\n",
       "      <td>Normal</td>\n",
       "    </tr>\n",
       "    <tr>\n",
       "      <th>2</th>\n",
       "      <td>3.bmp</td>\n",
       "      <td>Normal</td>\n",
       "    </tr>\n",
       "    <tr>\n",
       "      <th>4</th>\n",
       "      <td>5.bmp</td>\n",
       "      <td>Normal</td>\n",
       "    </tr>\n",
       "    <tr>\n",
       "      <th>5</th>\n",
       "      <td>6.bmp</td>\n",
       "      <td>Normal</td>\n",
       "    </tr>\n",
       "    <tr>\n",
       "      <th>...</th>\n",
       "      <td>...</td>\n",
       "      <td>...</td>\n",
       "    </tr>\n",
       "    <tr>\n",
       "      <th>1861</th>\n",
       "      <td>1862.bmp</td>\n",
       "      <td>Normal</td>\n",
       "    </tr>\n",
       "    <tr>\n",
       "      <th>1862</th>\n",
       "      <td>1863.bmp</td>\n",
       "      <td>Normal</td>\n",
       "    </tr>\n",
       "    <tr>\n",
       "      <th>1863</th>\n",
       "      <td>1864.bmp</td>\n",
       "      <td>Normal</td>\n",
       "    </tr>\n",
       "    <tr>\n",
       "      <th>1865</th>\n",
       "      <td>1866.bmp</td>\n",
       "      <td>Normal</td>\n",
       "    </tr>\n",
       "    <tr>\n",
       "      <th>1866</th>\n",
       "      <td>1867.bmp</td>\n",
       "      <td>Normal</td>\n",
       "    </tr>\n",
       "  </tbody>\n",
       "</table>\n",
       "<p>1219 rows × 2 columns</p>\n",
       "</div>"
      ],
      "text/plain": [
       "     new_names  labels\n",
       "0        1.bmp  Normal\n",
       "1        2.bmp  Normal\n",
       "2        3.bmp  Normal\n",
       "4        5.bmp  Normal\n",
       "5        6.bmp  Normal\n",
       "...        ...     ...\n",
       "1861  1862.bmp  Normal\n",
       "1862  1863.bmp  Normal\n",
       "1863  1864.bmp  Normal\n",
       "1865  1866.bmp  Normal\n",
       "1866  1867.bmp  Normal\n",
       "\n",
       "[1219 rows x 2 columns]"
      ]
     },
     "execution_count": 76,
     "metadata": {},
     "output_type": "execute_result"
    }
   ],
   "source": [
    "test_images_Normal"
   ]
  },
  {
   "cell_type": "code",
   "execution_count": 87,
   "id": "70282ff3",
   "metadata": {
    "ExecuteTime": {
     "end_time": "2022-02-26T22:43:57.705733Z",
     "start_time": "2022-02-26T22:43:57.697460Z"
    }
   },
   "outputs": [],
   "source": [
    "test_image_file = 'data/test_data_copy/'\n",
    "test_imgs_ALL = 'data/test_data_copy/ALL/'\n",
    "test_imgs_Normal = 'data/test_data_copy/Normal/'\n",
    "\n",
    "test_imgs_ALL = [x for x in test_images_ALL.new_names]\n",
    "test_imgs_Normal = [x for x in test_images_Normal.new_names]\n",
    "\n",
    "for file in test_image_file:\n",
    "    if file in test_imgs_ALL:\n",
    "        origin = os.path.join(test_image_file, file)\n",
    "        destination = os.path.join(test_imgs_ALL, file)\n",
    "        shutil.copyfile(origin, destination)\n",
    "    elif file in test_imgs_Normal:\n",
    "        origin = os.path.join(test_image_file, file)\n",
    "        destination = os.path.join(test_imgs_Normal, file)\n",
    "        shutil.copyfile(origin, destination)\n",
    "        \n",
    "# for img in imgs:\n",
    "#     origin = os.path.join(data_training_ALL_dir, img)\n",
    "#     destination = os.path.join(train_ALL, img)\n",
    "#     shutil.copyfile(origin, destination)"
   ]
  },
  {
   "cell_type": "code",
   "execution_count": 85,
   "id": "a5135fba",
   "metadata": {
    "ExecuteTime": {
     "end_time": "2022-02-26T22:42:03.730331Z",
     "start_time": "2022-02-26T22:42:03.714171Z"
    }
   },
   "outputs": [
    {
     "data": {
      "text/plain": [
       "['4.bmp',\n",
       " '7.bmp',\n",
       " '8.bmp',\n",
       " '13.bmp',\n",
       " '14.bmp',\n",
       " '21.bmp',\n",
       " '24.bmp',\n",
       " '26.bmp',\n",
       " '27.bmp',\n",
       " '28.bmp',\n",
       " '30.bmp',\n",
       " '31.bmp',\n",
       " '35.bmp',\n",
       " '38.bmp',\n",
       " '41.bmp',\n",
       " '43.bmp',\n",
       " '50.bmp',\n",
       " '54.bmp',\n",
       " '55.bmp',\n",
       " '57.bmp',\n",
       " '60.bmp',\n",
       " '61.bmp',\n",
       " '63.bmp',\n",
       " '66.bmp',\n",
       " '67.bmp',\n",
       " '69.bmp',\n",
       " '71.bmp',\n",
       " '72.bmp',\n",
       " '75.bmp',\n",
       " '77.bmp',\n",
       " '81.bmp',\n",
       " '82.bmp',\n",
       " '84.bmp',\n",
       " '87.bmp',\n",
       " '90.bmp',\n",
       " '92.bmp',\n",
       " '94.bmp',\n",
       " '104.bmp',\n",
       " '105.bmp',\n",
       " '106.bmp',\n",
       " '111.bmp',\n",
       " '115.bmp',\n",
       " '117.bmp',\n",
       " '118.bmp',\n",
       " '121.bmp',\n",
       " '123.bmp',\n",
       " '127.bmp',\n",
       " '138.bmp',\n",
       " '139.bmp',\n",
       " '140.bmp',\n",
       " '142.bmp',\n",
       " '144.bmp',\n",
       " '151.bmp',\n",
       " '154.bmp',\n",
       " '156.bmp',\n",
       " '158.bmp',\n",
       " '160.bmp',\n",
       " '164.bmp',\n",
       " '168.bmp',\n",
       " '171.bmp',\n",
       " '172.bmp',\n",
       " '173.bmp',\n",
       " '174.bmp',\n",
       " '181.bmp',\n",
       " '183.bmp',\n",
       " '187.bmp',\n",
       " '188.bmp',\n",
       " '192.bmp',\n",
       " '193.bmp',\n",
       " '197.bmp',\n",
       " '198.bmp',\n",
       " '201.bmp',\n",
       " '205.bmp',\n",
       " '206.bmp',\n",
       " '211.bmp',\n",
       " '212.bmp',\n",
       " '213.bmp',\n",
       " '214.bmp',\n",
       " '218.bmp',\n",
       " '220.bmp',\n",
       " '222.bmp',\n",
       " '225.bmp',\n",
       " '227.bmp',\n",
       " '229.bmp',\n",
       " '233.bmp',\n",
       " '235.bmp',\n",
       " '236.bmp',\n",
       " '240.bmp',\n",
       " '242.bmp',\n",
       " '244.bmp',\n",
       " '247.bmp',\n",
       " '251.bmp',\n",
       " '253.bmp',\n",
       " '256.bmp',\n",
       " '257.bmp',\n",
       " '258.bmp',\n",
       " '259.bmp',\n",
       " '260.bmp',\n",
       " '263.bmp',\n",
       " '264.bmp',\n",
       " '265.bmp',\n",
       " '266.bmp',\n",
       " '270.bmp',\n",
       " '275.bmp',\n",
       " '280.bmp',\n",
       " '285.bmp',\n",
       " '289.bmp',\n",
       " '297.bmp',\n",
       " '298.bmp',\n",
       " '299.bmp',\n",
       " '305.bmp',\n",
       " '306.bmp',\n",
       " '308.bmp',\n",
       " '310.bmp',\n",
       " '313.bmp',\n",
       " '316.bmp',\n",
       " '320.bmp',\n",
       " '324.bmp',\n",
       " '328.bmp',\n",
       " '329.bmp',\n",
       " '335.bmp',\n",
       " '339.bmp',\n",
       " '340.bmp',\n",
       " '341.bmp',\n",
       " '342.bmp',\n",
       " '347.bmp',\n",
       " '348.bmp',\n",
       " '349.bmp',\n",
       " '354.bmp',\n",
       " '361.bmp',\n",
       " '363.bmp',\n",
       " '365.bmp',\n",
       " '367.bmp',\n",
       " '369.bmp',\n",
       " '374.bmp',\n",
       " '375.bmp',\n",
       " '376.bmp',\n",
       " '378.bmp',\n",
       " '382.bmp',\n",
       " '387.bmp',\n",
       " '391.bmp',\n",
       " '392.bmp',\n",
       " '393.bmp',\n",
       " '396.bmp',\n",
       " '398.bmp',\n",
       " '399.bmp',\n",
       " '402.bmp',\n",
       " '403.bmp',\n",
       " '405.bmp',\n",
       " '408.bmp',\n",
       " '411.bmp',\n",
       " '414.bmp',\n",
       " '415.bmp',\n",
       " '416.bmp',\n",
       " '420.bmp',\n",
       " '421.bmp',\n",
       " '423.bmp',\n",
       " '425.bmp',\n",
       " '428.bmp',\n",
       " '430.bmp',\n",
       " '431.bmp',\n",
       " '432.bmp',\n",
       " '434.bmp',\n",
       " '435.bmp',\n",
       " '441.bmp',\n",
       " '442.bmp',\n",
       " '446.bmp',\n",
       " '452.bmp',\n",
       " '454.bmp',\n",
       " '455.bmp',\n",
       " '456.bmp',\n",
       " '460.bmp',\n",
       " '461.bmp',\n",
       " '462.bmp',\n",
       " '464.bmp',\n",
       " '465.bmp',\n",
       " '466.bmp',\n",
       " '469.bmp',\n",
       " '471.bmp',\n",
       " '472.bmp',\n",
       " '474.bmp',\n",
       " '475.bmp',\n",
       " '476.bmp',\n",
       " '478.bmp',\n",
       " '481.bmp',\n",
       " '484.bmp',\n",
       " '499.bmp',\n",
       " '500.bmp',\n",
       " '510.bmp',\n",
       " '512.bmp',\n",
       " '514.bmp',\n",
       " '515.bmp',\n",
       " '516.bmp',\n",
       " '519.bmp',\n",
       " '522.bmp',\n",
       " '524.bmp',\n",
       " '527.bmp',\n",
       " '529.bmp',\n",
       " '530.bmp',\n",
       " '531.bmp',\n",
       " '534.bmp',\n",
       " '536.bmp',\n",
       " '539.bmp',\n",
       " '540.bmp',\n",
       " '543.bmp',\n",
       " '545.bmp',\n",
       " '548.bmp',\n",
       " '559.bmp',\n",
       " '566.bmp',\n",
       " '567.bmp',\n",
       " '569.bmp',\n",
       " '572.bmp',\n",
       " '582.bmp',\n",
       " '585.bmp',\n",
       " '586.bmp',\n",
       " '587.bmp',\n",
       " '591.bmp',\n",
       " '592.bmp',\n",
       " '593.bmp',\n",
       " '598.bmp',\n",
       " '599.bmp',\n",
       " '602.bmp',\n",
       " '608.bmp',\n",
       " '609.bmp',\n",
       " '613.bmp',\n",
       " '614.bmp',\n",
       " '615.bmp',\n",
       " '617.bmp',\n",
       " '621.bmp',\n",
       " '627.bmp',\n",
       " '638.bmp',\n",
       " '641.bmp',\n",
       " '642.bmp',\n",
       " '643.bmp',\n",
       " '645.bmp',\n",
       " '648.bmp',\n",
       " '650.bmp',\n",
       " '654.bmp',\n",
       " '655.bmp',\n",
       " '657.bmp',\n",
       " '659.bmp',\n",
       " '661.bmp',\n",
       " '666.bmp',\n",
       " '679.bmp',\n",
       " '682.bmp',\n",
       " '684.bmp',\n",
       " '687.bmp',\n",
       " '693.bmp',\n",
       " '698.bmp',\n",
       " '699.bmp',\n",
       " '700.bmp',\n",
       " '705.bmp',\n",
       " '706.bmp',\n",
       " '707.bmp',\n",
       " '713.bmp',\n",
       " '720.bmp',\n",
       " '721.bmp',\n",
       " '723.bmp',\n",
       " '724.bmp',\n",
       " '727.bmp',\n",
       " '728.bmp',\n",
       " '731.bmp',\n",
       " '733.bmp',\n",
       " '735.bmp',\n",
       " '736.bmp',\n",
       " '741.bmp',\n",
       " '742.bmp',\n",
       " '743.bmp',\n",
       " '745.bmp',\n",
       " '747.bmp',\n",
       " '748.bmp',\n",
       " '749.bmp',\n",
       " '750.bmp',\n",
       " '751.bmp',\n",
       " '756.bmp',\n",
       " '757.bmp',\n",
       " '765.bmp',\n",
       " '772.bmp',\n",
       " '775.bmp',\n",
       " '781.bmp',\n",
       " '782.bmp',\n",
       " '786.bmp',\n",
       " '787.bmp',\n",
       " '789.bmp',\n",
       " '791.bmp',\n",
       " '796.bmp',\n",
       " '797.bmp',\n",
       " '804.bmp',\n",
       " '814.bmp',\n",
       " '818.bmp',\n",
       " '826.bmp',\n",
       " '828.bmp',\n",
       " '831.bmp',\n",
       " '832.bmp',\n",
       " '836.bmp',\n",
       " '837.bmp',\n",
       " '840.bmp',\n",
       " '842.bmp',\n",
       " '847.bmp',\n",
       " '854.bmp',\n",
       " '864.bmp',\n",
       " '866.bmp',\n",
       " '867.bmp',\n",
       " '872.bmp',\n",
       " '877.bmp',\n",
       " '884.bmp',\n",
       " '886.bmp',\n",
       " '891.bmp',\n",
       " '892.bmp',\n",
       " '893.bmp',\n",
       " '894.bmp',\n",
       " '895.bmp',\n",
       " '896.bmp',\n",
       " '898.bmp',\n",
       " '903.bmp',\n",
       " '914.bmp',\n",
       " '917.bmp',\n",
       " '919.bmp',\n",
       " '921.bmp',\n",
       " '924.bmp',\n",
       " '927.bmp',\n",
       " '930.bmp',\n",
       " '931.bmp',\n",
       " '932.bmp',\n",
       " '933.bmp',\n",
       " '934.bmp',\n",
       " '946.bmp',\n",
       " '949.bmp',\n",
       " '950.bmp',\n",
       " '951.bmp',\n",
       " '959.bmp',\n",
       " '963.bmp',\n",
       " '965.bmp',\n",
       " '966.bmp',\n",
       " '968.bmp',\n",
       " '970.bmp',\n",
       " '972.bmp',\n",
       " '974.bmp',\n",
       " '980.bmp',\n",
       " '981.bmp',\n",
       " '983.bmp',\n",
       " '987.bmp',\n",
       " '988.bmp',\n",
       " '992.bmp',\n",
       " '994.bmp',\n",
       " '996.bmp',\n",
       " '997.bmp',\n",
       " '1002.bmp',\n",
       " '1007.bmp',\n",
       " '1011.bmp',\n",
       " '1013.bmp',\n",
       " '1014.bmp',\n",
       " '1015.bmp',\n",
       " '1017.bmp',\n",
       " '1020.bmp',\n",
       " '1024.bmp',\n",
       " '1025.bmp',\n",
       " '1034.bmp',\n",
       " '1035.bmp',\n",
       " '1043.bmp',\n",
       " '1048.bmp',\n",
       " '1050.bmp',\n",
       " '1052.bmp',\n",
       " '1056.bmp',\n",
       " '1057.bmp',\n",
       " '1062.bmp',\n",
       " '1063.bmp',\n",
       " '1064.bmp',\n",
       " '1067.bmp',\n",
       " '1070.bmp',\n",
       " '1072.bmp',\n",
       " '1074.bmp',\n",
       " '1077.bmp',\n",
       " '1080.bmp',\n",
       " '1086.bmp',\n",
       " '1093.bmp',\n",
       " '1094.bmp',\n",
       " '1096.bmp',\n",
       " '1101.bmp',\n",
       " '1104.bmp',\n",
       " '1109.bmp',\n",
       " '1111.bmp',\n",
       " '1114.bmp',\n",
       " '1115.bmp',\n",
       " '1117.bmp',\n",
       " '1118.bmp',\n",
       " '1119.bmp',\n",
       " '1123.bmp',\n",
       " '1125.bmp',\n",
       " '1126.bmp',\n",
       " '1128.bmp',\n",
       " '1129.bmp',\n",
       " '1136.bmp',\n",
       " '1137.bmp',\n",
       " '1139.bmp',\n",
       " '1148.bmp',\n",
       " '1149.bmp',\n",
       " '1155.bmp',\n",
       " '1159.bmp',\n",
       " '1163.bmp',\n",
       " '1165.bmp',\n",
       " '1168.bmp',\n",
       " '1169.bmp',\n",
       " '1170.bmp',\n",
       " '1172.bmp',\n",
       " '1174.bmp',\n",
       " '1175.bmp',\n",
       " '1183.bmp',\n",
       " '1187.bmp',\n",
       " '1190.bmp',\n",
       " '1191.bmp',\n",
       " '1195.bmp',\n",
       " '1197.bmp',\n",
       " '1206.bmp',\n",
       " '1207.bmp',\n",
       " '1211.bmp',\n",
       " '1214.bmp',\n",
       " '1218.bmp',\n",
       " '1220.bmp',\n",
       " '1222.bmp',\n",
       " '1227.bmp',\n",
       " '1228.bmp',\n",
       " '1230.bmp',\n",
       " '1231.bmp',\n",
       " '1232.bmp',\n",
       " '1233.bmp',\n",
       " '1247.bmp',\n",
       " '1249.bmp',\n",
       " '1251.bmp',\n",
       " '1252.bmp',\n",
       " '1257.bmp',\n",
       " '1259.bmp',\n",
       " '1262.bmp',\n",
       " '1263.bmp',\n",
       " '1265.bmp',\n",
       " '1266.bmp',\n",
       " '1267.bmp',\n",
       " '1269.bmp',\n",
       " '1271.bmp',\n",
       " '1272.bmp',\n",
       " '1273.bmp',\n",
       " '1275.bmp',\n",
       " '1278.bmp',\n",
       " '1285.bmp',\n",
       " '1286.bmp',\n",
       " '1293.bmp',\n",
       " '1295.bmp',\n",
       " '1296.bmp',\n",
       " '1302.bmp',\n",
       " '1303.bmp',\n",
       " '1305.bmp',\n",
       " '1306.bmp',\n",
       " '1307.bmp',\n",
       " '1313.bmp',\n",
       " '1324.bmp',\n",
       " '1329.bmp',\n",
       " '1332.bmp',\n",
       " '1335.bmp',\n",
       " '1338.bmp',\n",
       " '1346.bmp',\n",
       " '1347.bmp',\n",
       " '1349.bmp',\n",
       " '1351.bmp',\n",
       " '1352.bmp',\n",
       " '1353.bmp',\n",
       " '1360.bmp',\n",
       " '1364.bmp',\n",
       " '1365.bmp',\n",
       " '1367.bmp',\n",
       " '1370.bmp',\n",
       " '1375.bmp',\n",
       " '1376.bmp',\n",
       " '1377.bmp',\n",
       " '1378.bmp',\n",
       " '1379.bmp',\n",
       " '1381.bmp',\n",
       " '1389.bmp',\n",
       " '1390.bmp',\n",
       " '1399.bmp',\n",
       " '1401.bmp',\n",
       " '1402.bmp',\n",
       " '1409.bmp',\n",
       " '1410.bmp',\n",
       " '1411.bmp',\n",
       " '1413.bmp',\n",
       " '1414.bmp',\n",
       " '1415.bmp',\n",
       " '1416.bmp',\n",
       " '1422.bmp',\n",
       " '1428.bmp',\n",
       " '1429.bmp',\n",
       " '1431.bmp',\n",
       " '1436.bmp',\n",
       " '1439.bmp',\n",
       " '1440.bmp',\n",
       " '1441.bmp',\n",
       " '1442.bmp',\n",
       " '1446.bmp',\n",
       " '1447.bmp',\n",
       " '1449.bmp',\n",
       " '1450.bmp',\n",
       " '1451.bmp',\n",
       " '1453.bmp',\n",
       " '1455.bmp',\n",
       " '1456.bmp',\n",
       " '1458.bmp',\n",
       " '1459.bmp',\n",
       " '1460.bmp',\n",
       " '1461.bmp',\n",
       " '1465.bmp',\n",
       " '1466.bmp',\n",
       " '1468.bmp',\n",
       " '1470.bmp',\n",
       " '1471.bmp',\n",
       " '1472.bmp',\n",
       " '1473.bmp',\n",
       " '1485.bmp',\n",
       " '1487.bmp',\n",
       " '1491.bmp',\n",
       " '1505.bmp',\n",
       " '1514.bmp',\n",
       " '1518.bmp',\n",
       " '1520.bmp',\n",
       " '1525.bmp',\n",
       " '1526.bmp',\n",
       " '1530.bmp',\n",
       " '1532.bmp',\n",
       " '1533.bmp',\n",
       " '1536.bmp',\n",
       " '1537.bmp',\n",
       " '1538.bmp',\n",
       " '1540.bmp',\n",
       " '1545.bmp',\n",
       " '1548.bmp',\n",
       " '1551.bmp',\n",
       " '1553.bmp',\n",
       " '1557.bmp',\n",
       " '1558.bmp',\n",
       " '1560.bmp',\n",
       " '1565.bmp',\n",
       " '1566.bmp',\n",
       " '1567.bmp',\n",
       " '1573.bmp',\n",
       " '1577.bmp',\n",
       " '1583.bmp',\n",
       " '1585.bmp',\n",
       " '1590.bmp',\n",
       " '1591.bmp',\n",
       " '1594.bmp',\n",
       " '1599.bmp',\n",
       " '1602.bmp',\n",
       " '1603.bmp',\n",
       " '1609.bmp',\n",
       " '1612.bmp',\n",
       " '1616.bmp',\n",
       " '1619.bmp',\n",
       " '1623.bmp',\n",
       " '1624.bmp',\n",
       " '1629.bmp',\n",
       " '1630.bmp',\n",
       " '1634.bmp',\n",
       " '1640.bmp',\n",
       " '1641.bmp',\n",
       " '1643.bmp',\n",
       " '1649.bmp',\n",
       " '1651.bmp',\n",
       " '1655.bmp',\n",
       " '1656.bmp',\n",
       " '1659.bmp',\n",
       " '1661.bmp',\n",
       " '1663.bmp',\n",
       " '1664.bmp',\n",
       " '1666.bmp',\n",
       " '1670.bmp',\n",
       " '1671.bmp',\n",
       " '1673.bmp',\n",
       " '1674.bmp',\n",
       " '1678.bmp',\n",
       " '1690.bmp',\n",
       " '1694.bmp',\n",
       " '1696.bmp',\n",
       " '1699.bmp',\n",
       " '1700.bmp',\n",
       " '1707.bmp',\n",
       " '1711.bmp',\n",
       " '1712.bmp',\n",
       " '1716.bmp',\n",
       " '1718.bmp',\n",
       " '1720.bmp',\n",
       " '1723.bmp',\n",
       " '1724.bmp',\n",
       " '1725.bmp',\n",
       " '1726.bmp',\n",
       " '1729.bmp',\n",
       " '1730.bmp',\n",
       " '1731.bmp',\n",
       " '1732.bmp',\n",
       " '1738.bmp',\n",
       " '1739.bmp',\n",
       " '1741.bmp',\n",
       " '1745.bmp',\n",
       " '1746.bmp',\n",
       " '1747.bmp',\n",
       " '1749.bmp',\n",
       " '1753.bmp',\n",
       " '1754.bmp',\n",
       " '1756.bmp',\n",
       " '1758.bmp',\n",
       " '1759.bmp',\n",
       " '1760.bmp',\n",
       " '1761.bmp',\n",
       " '1763.bmp',\n",
       " '1766.bmp',\n",
       " '1770.bmp',\n",
       " '1773.bmp',\n",
       " '1774.bmp',\n",
       " '1777.bmp',\n",
       " '1779.bmp',\n",
       " '1781.bmp',\n",
       " '1783.bmp',\n",
       " '1786.bmp',\n",
       " '1787.bmp',\n",
       " '1792.bmp',\n",
       " '1794.bmp',\n",
       " '1795.bmp',\n",
       " '1798.bmp',\n",
       " '1802.bmp',\n",
       " '1803.bmp',\n",
       " '1806.bmp',\n",
       " '1807.bmp',\n",
       " '1808.bmp',\n",
       " '1814.bmp',\n",
       " '1815.bmp',\n",
       " '1819.bmp',\n",
       " '1820.bmp',\n",
       " '1823.bmp',\n",
       " '1827.bmp',\n",
       " '1833.bmp',\n",
       " '1836.bmp',\n",
       " '1838.bmp',\n",
       " '1839.bmp',\n",
       " '1840.bmp',\n",
       " '1841.bmp',\n",
       " '1842.bmp',\n",
       " '1845.bmp',\n",
       " '1850.bmp',\n",
       " '1858.bmp',\n",
       " '1865.bmp']"
      ]
     },
     "execution_count": 85,
     "metadata": {},
     "output_type": "execute_result"
    }
   ],
   "source": [
    "test_imgs_ALL"
   ]
  },
  {
   "cell_type": "code",
   "execution_count": 88,
   "id": "24a10409",
   "metadata": {
    "ExecuteTime": {
     "end_time": "2022-02-26T22:52:09.257856Z",
     "start_time": "2022-02-26T22:52:09.080448Z"
    }
   },
   "outputs": [
    {
     "name": "stdout",
     "output_type": "stream",
     "text": [
      "Source path renamed to destination path successfully.\n"
     ]
    }
   ],
   "source": [
    "for img in test_imgs_ALL:\n",
    "    source = 'data/test_data_copy/' + img\n",
    "    dest = 'data/test_data_copy/ALL/' + img\n",
    "    os.rename(source, dest)\n",
    "\n",
    "print(\"Source path renamed to destination path successfully.\")"
   ]
  },
  {
   "cell_type": "code",
   "execution_count": 89,
   "id": "123fb345",
   "metadata": {
    "ExecuteTime": {
     "end_time": "2022-02-26T22:55:08.562060Z",
     "start_time": "2022-02-26T22:55:08.316485Z"
    }
   },
   "outputs": [
    {
     "name": "stdout",
     "output_type": "stream",
     "text": [
      "Source path renamed to destination path successfully.\n"
     ]
    }
   ],
   "source": [
    "for img in test_imgs_Normal:\n",
    "    source = 'data/test_data_copy/' + img\n",
    "    dest = 'data/test_data_copy/Normal/' + img\n",
    "    os.rename(source, dest)\n",
    "\n",
    "print(\"Source path renamed to destination path successfully.\")"
   ]
  },
  {
   "cell_type": "code",
   "execution_count": null,
   "id": "25ac5584",
   "metadata": {},
   "outputs": [],
   "source": []
  }
 ],
 "metadata": {
  "hide_input": false,
  "kernelspec": {
   "display_name": "Python 3 (ipykernel)",
   "language": "python",
   "name": "python3"
  },
  "language_info": {
   "codemirror_mode": {
    "name": "ipython",
    "version": 3
   },
   "file_extension": ".py",
   "mimetype": "text/x-python",
   "name": "python",
   "nbconvert_exporter": "python",
   "pygments_lexer": "ipython3",
   "version": "3.9.7"
  }
 },
 "nbformat": 4,
 "nbformat_minor": 5
}
