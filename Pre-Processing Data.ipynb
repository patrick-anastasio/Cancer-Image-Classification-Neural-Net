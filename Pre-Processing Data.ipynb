{
 "cells": [
  {
   "cell_type": "markdown",
   "id": "8a75fca5",
   "metadata": {},
   "source": [
    "# The Data for this project can bedownloaded [here](https://wiki.cancerimagingarchive.net/pages/viewpage.action?pageId=52758223)"
   ]
  },
  {
   "cell_type": "code",
   "execution_count": null,
   "id": "5983aa4e",
   "metadata": {},
   "outputs": [],
   "source": []
  }
 ],
 "metadata": {
  "hide_input": false,
  "kernelspec": {
   "display_name": "Python 3 (ipykernel)",
   "language": "python",
   "name": "python3"
  },
  "language_info": {
   "codemirror_mode": {
    "name": "ipython",
    "version": 3
   },
   "file_extension": ".py",
   "mimetype": "text/x-python",
   "name": "python",
   "nbconvert_exporter": "python",
   "pygments_lexer": "ipython3",
   "version": "3.9.7"
  }
 },
 "nbformat": 4,
 "nbformat_minor": 5
}
