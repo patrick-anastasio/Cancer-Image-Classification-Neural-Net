{
 "cells": [
  {
   "cell_type": "code",
   "execution_count": 1,
   "id": "5983aa4e",
   "metadata": {
    "ExecuteTime": {
     "end_time": "2022-02-28T21:45:52.258160Z",
     "start_time": "2022-02-28T21:45:46.487168Z"
    }
   },
   "outputs": [
    {
     "name": "stdout",
     "output_type": "stream",
     "text": [
      "modules loaded\n"
     ]
    }
   ],
   "source": [
    "import os\n",
    "os.environ['TF_CPP_MIN_LOG_LEVEL'] = '2'\n",
    "\n",
    "import warnings\n",
    "warnings.filterwarnings(action='ignore', category=FutureWarning)\n",
    "warnings.filterwarnings(action='ignore', category=DeprecationWarning)\n",
    "import pandas as pd\n",
    "import numpy as np\n",
    "import csv\n",
    "import os\n",
    "import matplotlib.pyplot as plt\n",
    "%matplotlib inline\n",
    "from sklearn.model_selection import train_test_split\n",
    "from keras.utils.np_utils import to_categorical\n",
    "from sklearn import preprocessing\n",
    "from sklearn.metrics import mean_squared_error\n",
    "from keras.preprocessing.text import Tokenizer\n",
    "from sklearn.preprocessing import StandardScaler, LabelBinarizer, OneHotEncoder\n",
    "from sklearn.impute import SimpleImputer\n",
    "from sklearn.model_selection import cross_val_predict\n",
    "import keras\n",
    "from keras.models import Sequential\n",
    "from keras.layers import Dense\n",
    "from keras.callbacks import EarlyStopping, ModelCheckpoint\n",
    "from keras.models import load_model\n",
    "from keras import regularizers\n",
    "from keras.preprocessing.image import ImageDataGenerator, array_to_img, img_to_array, load_img\n",
    "from keras import models\n",
    "from keras import layers\n",
    "from keras import optimizers\n",
    "from keras import initializers\n",
    "from keras.wrappers.scikit_learn import KerasRegressor\n",
    "import tensorflow as tf\n",
    "from tensorflow import keras\n",
    "from tensorflow.keras import backend as K\n",
    "from tensorflow.keras.layers import Dense, Activation, Dropout, Conv2D, MaxPooling2D,BatchNormalization, Flatten\n",
    "from tensorflow.keras.optimizers import Adam, Adamax, RMSprop\n",
    "from tensorflow.keras.metrics import binary_crossentropy, categorical_crossentropy\n",
    "from tensorflow.keras import regularizers\n",
    "from tensorflow.keras.preprocessing import image\n",
    "from tensorflow.keras.models import Model, load_model, Sequential\n",
    "import numpy as np\n",
    "import pandas as pd\n",
    "import shutil\n",
    "import time\n",
    "import cv2 as cv2\n",
    "from tqdm import tqdm\n",
    "from sklearn.model_selection import train_test_split\n",
    "from sklearn.utils import class_weight \n",
    "import matplotlib.pyplot as plt\n",
    "from matplotlib.pyplot import imshow\n",
    "import seaborn as sns\n",
    "sns.set_style('darkgrid')\n",
    "from PIL import Image\n",
    "import time\n",
    "import scipy\n",
    "from scipy import ndimage\n",
    "from sklearn.metrics import confusion_matrix, classification_report\n",
    "from IPython.core.display import display, HTML\n",
    "# stop annoying tensorflow warning messages\n",
    "import logging\n",
    "import splitfolders\n",
    "logging.getLogger(\"tensorflow\").setLevel(logging.ERROR)\n",
    "np.random.seed(123)\n",
    "print ('modules loaded')\n"
   ]
  },
  {
   "cell_type": "markdown",
   "id": "f6f05bbc",
   "metadata": {},
   "source": [
    "## *Data Pre-Processing*"
   ]
  },
  {
   "cell_type": "markdown",
   "id": "8a75fca5",
   "metadata": {},
   "source": [
    "#### The Data for this project can be downloaded [here](https://wiki.cancerimagingarchive.net/pages/viewpage.action?pageId=52758223)\n",
    "\n",
    "### The data for this project was acquired in three parts:\n",
    "\n",
    "> #### 1) A training set separated into 3 directories, each with separate class labeled directories\n",
    "> #### 2) A validation set with all images in the same directory and a CSV file with filenames and class labels\n",
    "> #### 3) A test set with no class labels\n",
    "\n",
    "- #### We will combine all the data of the training and validation sets into labeled directories and split the whole into training, validation, and test sets for use in this project.\n",
    "\n",
    "- #### We will re-name the provided test set and to \"unlabeled\" and reserve it for demonstration purposes, as there is no way of knowing if the predicitions are correct and how a partivular model is performing with it."
   ]
  },
  {
   "cell_type": "markdown",
   "id": "4bc1edd1",
   "metadata": {},
   "source": [
    "### Training Data:"
   ]
  },
  {
   "cell_type": "code",
   "execution_count": 2,
   "id": "9460b87e",
   "metadata": {
    "ExecuteTime": {
     "end_time": "2022-02-28T21:45:52.285700Z",
     "start_time": "2022-02-28T21:45:52.260947Z"
    }
   },
   "outputs": [],
   "source": [
    "# Set paths of 3x2 pre-labeled directories\n",
    "f0_data_training_ALL_dir = 'data/PKG - C-NMC_Leukemia/C-NMC_Leukemia/C-NMC_training_data/fold_0/all/'\n",
    "f0_data_training_Normal_dir = 'data/PKG - C-NMC_Leukemia/C-NMC_Leukemia/C-NMC_training_data/fold_0/hem/'\n",
    "\n",
    "f1_data_training_ALL_dir = 'data/PKG - C-NMC_Leukemia/C-NMC_Leukemia/C-NMC_training_data/fold_1/all/'\n",
    "f1_data_training_Normal_dir = 'data/PKG - C-NMC_Leukemia/C-NMC_Leukemia/C-NMC_training_data/fold_1/hem/'\n",
    "\n",
    "f2_data_training_ALL_dir = 'data/PKG - C-NMC_Leukemia/C-NMC_Leukemia/C-NMC_training_data/fold_2/all/'\n",
    "f2_data_training_Normal_dir = 'data/PKG - C-NMC_Leukemia/C-NMC_Leukemia/C-NMC_training_data/fold_2/hem/'\n",
    "\n",
    "# Create lists of all ALL images in these directories\n",
    "f0_imgs_ALL = [file for file in os.listdir(f0_data_training_ALL_dir) if file.endswith('.bmp')]\n",
    "f1_imgs_ALL = [file for file in os.listdir(f1_data_training_ALL_dir) if file.endswith('.bmp')]\n",
    "f2_imgs_ALL = [file for file in os.listdir(f2_data_training_ALL_dir) if file.endswith('.bmp')]\n",
    "\n",
    "# Create lists of all Normal images in these directories\n",
    "f0_imgs_Normal = [file for file in os.listdir(f0_data_training_Normal_dir) if file.endswith('.bmp')]\n",
    "f1_imgs_Normal = [file for file in os.listdir(f1_data_training_Normal_dir) if file.endswith('.bmp')]\n",
    "f2_imgs_Normal = [file for file in os.listdir(f2_data_training_Normal_dir) if file.endswith('.bmp')]\n"
   ]
  },
  {
   "cell_type": "markdown",
   "id": "e63aad40",
   "metadata": {},
   "source": [
    "### Validation Data"
   ]
  },
  {
   "cell_type": "code",
   "execution_count": 3,
   "id": "6685f77e",
   "metadata": {
    "ExecuteTime": {
     "end_time": "2022-02-28T21:45:52.307427Z",
     "start_time": "2022-02-28T21:45:52.289589Z"
    }
   },
   "outputs": [
    {
     "data": {
      "text/html": [
       "<div>\n",
       "<style scoped>\n",
       "    .dataframe tbody tr th:only-of-type {\n",
       "        vertical-align: middle;\n",
       "    }\n",
       "\n",
       "    .dataframe tbody tr th {\n",
       "        vertical-align: top;\n",
       "    }\n",
       "\n",
       "    .dataframe thead th {\n",
       "        text-align: right;\n",
       "    }\n",
       "</style>\n",
       "<table border=\"1\" class=\"dataframe\">\n",
       "  <thead>\n",
       "    <tr style=\"text-align: right;\">\n",
       "      <th></th>\n",
       "      <th>Patient_ID</th>\n",
       "      <th>new_names</th>\n",
       "      <th>labels</th>\n",
       "    </tr>\n",
       "  </thead>\n",
       "  <tbody>\n",
       "    <tr>\n",
       "      <th>0</th>\n",
       "      <td>UID_57_29_1_all.bmp</td>\n",
       "      <td>1.bmp</td>\n",
       "      <td>1</td>\n",
       "    </tr>\n",
       "    <tr>\n",
       "      <th>1</th>\n",
       "      <td>UID_57_22_2_all.bmp</td>\n",
       "      <td>2.bmp</td>\n",
       "      <td>1</td>\n",
       "    </tr>\n",
       "    <tr>\n",
       "      <th>2</th>\n",
       "      <td>UID_57_31_3_all.bmp</td>\n",
       "      <td>3.bmp</td>\n",
       "      <td>1</td>\n",
       "    </tr>\n",
       "    <tr>\n",
       "      <th>3</th>\n",
       "      <td>UID_H49_35_1_hem.bmp</td>\n",
       "      <td>4.bmp</td>\n",
       "      <td>0</td>\n",
       "    </tr>\n",
       "    <tr>\n",
       "      <th>4</th>\n",
       "      <td>UID_58_6_13_all.bmp</td>\n",
       "      <td>5.bmp</td>\n",
       "      <td>1</td>\n",
       "    </tr>\n",
       "  </tbody>\n",
       "</table>\n",
       "</div>"
      ],
      "text/plain": [
       "             Patient_ID new_names  labels\n",
       "0   UID_57_29_1_all.bmp     1.bmp       1\n",
       "1   UID_57_22_2_all.bmp     2.bmp       1\n",
       "2   UID_57_31_3_all.bmp     3.bmp       1\n",
       "3  UID_H49_35_1_hem.bmp     4.bmp       0\n",
       "4   UID_58_6_13_all.bmp     5.bmp       1"
      ]
     },
     "execution_count": 3,
     "metadata": {},
     "output_type": "execute_result"
    }
   ],
   "source": [
    "# Set paths of directory\n",
    "data_val_dir = 'data/PKG - C-NMC_Leukemia/C-NMC_Leukemia/C-NMC_test_prelim_phase_data/'\n",
    "\n",
    "# Read in and inspect the dataframe with the filenames and labels\n",
    "val_df = pd.read_csv('data/PKG - C-NMC_Leukemia/C-NMC_Leukemia/C-NMC_test_prelim_phase_data/C-NMC_test_prelim_phase_data_labels.csv')\n",
    "\n",
    "val_df.head()"
   ]
  },
  {
   "cell_type": "code",
   "execution_count": null,
   "id": "bde34c24",
   "metadata": {},
   "outputs": [],
   "source": []
  },
  {
   "cell_type": "code",
   "execution_count": 4,
   "id": "b6e1c1b1",
   "metadata": {
    "ExecuteTime": {
     "end_time": "2022-02-28T21:45:52.324389Z",
     "start_time": "2022-02-28T21:45:52.310200Z"
    }
   },
   "outputs": [
    {
     "data": {
      "text/html": [
       "<div>\n",
       "<style scoped>\n",
       "    .dataframe tbody tr th:only-of-type {\n",
       "        vertical-align: middle;\n",
       "    }\n",
       "\n",
       "    .dataframe tbody tr th {\n",
       "        vertical-align: top;\n",
       "    }\n",
       "\n",
       "    .dataframe thead th {\n",
       "        text-align: right;\n",
       "    }\n",
       "</style>\n",
       "<table border=\"1\" class=\"dataframe\">\n",
       "  <thead>\n",
       "    <tr style=\"text-align: right;\">\n",
       "      <th></th>\n",
       "      <th>new_names</th>\n",
       "      <th>labels</th>\n",
       "    </tr>\n",
       "  </thead>\n",
       "  <tbody>\n",
       "    <tr>\n",
       "      <th>0</th>\n",
       "      <td>1.bmp</td>\n",
       "      <td>Normal</td>\n",
       "    </tr>\n",
       "    <tr>\n",
       "      <th>1</th>\n",
       "      <td>2.bmp</td>\n",
       "      <td>Normal</td>\n",
       "    </tr>\n",
       "    <tr>\n",
       "      <th>2</th>\n",
       "      <td>3.bmp</td>\n",
       "      <td>Normal</td>\n",
       "    </tr>\n",
       "    <tr>\n",
       "      <th>3</th>\n",
       "      <td>4.bmp</td>\n",
       "      <td>ALL</td>\n",
       "    </tr>\n",
       "    <tr>\n",
       "      <th>4</th>\n",
       "      <td>5.bmp</td>\n",
       "      <td>Normal</td>\n",
       "    </tr>\n",
       "  </tbody>\n",
       "</table>\n",
       "</div>"
      ],
      "text/plain": [
       "  new_names  labels\n",
       "0     1.bmp  Normal\n",
       "1     2.bmp  Normal\n",
       "2     3.bmp  Normal\n",
       "3     4.bmp     ALL\n",
       "4     5.bmp  Normal"
      ]
     },
     "execution_count": 4,
     "metadata": {},
     "output_type": "execute_result"
    }
   ],
   "source": [
    "# Change labels to use \"binary\" class_mode\n",
    "val_df = val_df.replace({'labels':{0 : 'ALL', 1 : 'Normal'}})\n",
    "\n",
    "# filenames do not use 'Patient_ID', so drop the column\n",
    "val_df = val_df.drop('Patient_ID', axis=1)\n",
    "\n",
    "val_df.head()"
   ]
  },
  {
   "cell_type": "code",
   "execution_count": 5,
   "id": "fd035b16",
   "metadata": {
    "ExecuteTime": {
     "end_time": "2022-02-28T21:45:52.338507Z",
     "start_time": "2022-02-28T21:45:52.327735Z"
    }
   },
   "outputs": [],
   "source": [
    "# Group the the df by labels so we can split them\n",
    "val_split_df = val_df.groupby('labels')\n",
    "\n",
    "# Split the filenames into separate df's and create lists of them\n",
    "val_ALL_df = val_split_df.get_group('ALL')\n",
    "val_images_ALL = [img for img in val_ALL_df.new_names]\n",
    "\n",
    "val_Normal_df = val_split_df.get_group('Normal')\n",
    "val_images_Normal = [img for img in val_Normal_df.new_names]"
   ]
  },
  {
   "cell_type": "code",
   "execution_count": 6,
   "id": "a7a25c8e",
   "metadata": {
    "ExecuteTime": {
     "end_time": "2022-02-28T21:45:52.350181Z",
     "start_time": "2022-02-28T21:45:52.341373Z"
    }
   },
   "outputs": [
    {
     "data": {
      "text/html": [
       "<div>\n",
       "<style scoped>\n",
       "    .dataframe tbody tr th:only-of-type {\n",
       "        vertical-align: middle;\n",
       "    }\n",
       "\n",
       "    .dataframe tbody tr th {\n",
       "        vertical-align: top;\n",
       "    }\n",
       "\n",
       "    .dataframe thead th {\n",
       "        text-align: right;\n",
       "    }\n",
       "</style>\n",
       "<table border=\"1\" class=\"dataframe\">\n",
       "  <thead>\n",
       "    <tr style=\"text-align: right;\">\n",
       "      <th></th>\n",
       "      <th>new_names</th>\n",
       "      <th>labels</th>\n",
       "    </tr>\n",
       "  </thead>\n",
       "  <tbody>\n",
       "    <tr>\n",
       "      <th>3</th>\n",
       "      <td>4.bmp</td>\n",
       "      <td>ALL</td>\n",
       "    </tr>\n",
       "    <tr>\n",
       "      <th>6</th>\n",
       "      <td>7.bmp</td>\n",
       "      <td>ALL</td>\n",
       "    </tr>\n",
       "    <tr>\n",
       "      <th>7</th>\n",
       "      <td>8.bmp</td>\n",
       "      <td>ALL</td>\n",
       "    </tr>\n",
       "    <tr>\n",
       "      <th>12</th>\n",
       "      <td>13.bmp</td>\n",
       "      <td>ALL</td>\n",
       "    </tr>\n",
       "    <tr>\n",
       "      <th>13</th>\n",
       "      <td>14.bmp</td>\n",
       "      <td>ALL</td>\n",
       "    </tr>\n",
       "  </tbody>\n",
       "</table>\n",
       "</div>"
      ],
      "text/plain": [
       "   new_names labels\n",
       "3      4.bmp    ALL\n",
       "6      7.bmp    ALL\n",
       "7      8.bmp    ALL\n",
       "12    13.bmp    ALL\n",
       "13    14.bmp    ALL"
      ]
     },
     "execution_count": 6,
     "metadata": {},
     "output_type": "execute_result"
    }
   ],
   "source": [
    "val_ALL_df.head()"
   ]
  },
  {
   "cell_type": "code",
   "execution_count": 7,
   "id": "ec700d06",
   "metadata": {
    "ExecuteTime": {
     "end_time": "2022-02-28T21:45:52.357957Z",
     "start_time": "2022-02-28T21:45:52.352701Z"
    }
   },
   "outputs": [
    {
     "data": {
      "text/plain": [
       "['4.bmp', '7.bmp', '8.bmp', '13.bmp', '14.bmp']"
      ]
     },
     "execution_count": 7,
     "metadata": {},
     "output_type": "execute_result"
    }
   ],
   "source": [
    "val_images_ALL[:5]"
   ]
  },
  {
   "cell_type": "code",
   "execution_count": 8,
   "id": "b5e77c03",
   "metadata": {
    "ExecuteTime": {
     "end_time": "2022-02-28T21:45:52.368319Z",
     "start_time": "2022-02-28T21:45:52.360002Z"
    }
   },
   "outputs": [
    {
     "data": {
      "text/html": [
       "<div>\n",
       "<style scoped>\n",
       "    .dataframe tbody tr th:only-of-type {\n",
       "        vertical-align: middle;\n",
       "    }\n",
       "\n",
       "    .dataframe tbody tr th {\n",
       "        vertical-align: top;\n",
       "    }\n",
       "\n",
       "    .dataframe thead th {\n",
       "        text-align: right;\n",
       "    }\n",
       "</style>\n",
       "<table border=\"1\" class=\"dataframe\">\n",
       "  <thead>\n",
       "    <tr style=\"text-align: right;\">\n",
       "      <th></th>\n",
       "      <th>new_names</th>\n",
       "      <th>labels</th>\n",
       "    </tr>\n",
       "  </thead>\n",
       "  <tbody>\n",
       "    <tr>\n",
       "      <th>0</th>\n",
       "      <td>1.bmp</td>\n",
       "      <td>Normal</td>\n",
       "    </tr>\n",
       "    <tr>\n",
       "      <th>1</th>\n",
       "      <td>2.bmp</td>\n",
       "      <td>Normal</td>\n",
       "    </tr>\n",
       "    <tr>\n",
       "      <th>2</th>\n",
       "      <td>3.bmp</td>\n",
       "      <td>Normal</td>\n",
       "    </tr>\n",
       "    <tr>\n",
       "      <th>4</th>\n",
       "      <td>5.bmp</td>\n",
       "      <td>Normal</td>\n",
       "    </tr>\n",
       "    <tr>\n",
       "      <th>5</th>\n",
       "      <td>6.bmp</td>\n",
       "      <td>Normal</td>\n",
       "    </tr>\n",
       "  </tbody>\n",
       "</table>\n",
       "</div>"
      ],
      "text/plain": [
       "  new_names  labels\n",
       "0     1.bmp  Normal\n",
       "1     2.bmp  Normal\n",
       "2     3.bmp  Normal\n",
       "4     5.bmp  Normal\n",
       "5     6.bmp  Normal"
      ]
     },
     "execution_count": 8,
     "metadata": {},
     "output_type": "execute_result"
    }
   ],
   "source": [
    "val_Normal_df.head()"
   ]
  },
  {
   "cell_type": "code",
   "execution_count": 9,
   "id": "aa3defa0",
   "metadata": {
    "ExecuteTime": {
     "end_time": "2022-02-28T21:45:52.377925Z",
     "start_time": "2022-02-28T21:45:52.371220Z"
    }
   },
   "outputs": [
    {
     "data": {
      "text/plain": [
       "['1.bmp', '2.bmp', '3.bmp', '5.bmp', '6.bmp']"
      ]
     },
     "execution_count": 9,
     "metadata": {},
     "output_type": "execute_result"
    }
   ],
   "source": [
    "val_images_Normal[:5]"
   ]
  },
  {
   "cell_type": "markdown",
   "id": "b2ad9071",
   "metadata": {},
   "source": [
    "### Combine the data into one directory"
   ]
  },
  {
   "cell_type": "code",
   "execution_count": 10,
   "id": "53e8f18a",
   "metadata": {
    "ExecuteTime": {
     "end_time": "2022-02-28T21:45:52.385290Z",
     "start_time": "2022-02-28T21:45:52.380741Z"
    }
   },
   "outputs": [],
   "source": [
    "# Set new directory path for all images to be combined\n",
    "new_dir = 'data/labeled_images/'\n",
    "combo_ALL_dir = os.path.join(new_dir, 'ALL')\n",
    "combo_Normal_dir = os.path.join(new_dir, 'Normal')\n",
    "\n",
    "# Create the new directory\n",
    "os.mkdir(new_dir)\n",
    "os.mkdir(combo_ALL_dir)\n",
    "os.mkdir(combo_Normal_dir)"
   ]
  },
  {
   "cell_type": "code",
   "execution_count": 11,
   "id": "8bd34539",
   "metadata": {
    "ExecuteTime": {
     "end_time": "2022-02-28T21:45:53.868046Z",
     "start_time": "2022-02-28T21:45:52.388026Z"
    }
   },
   "outputs": [],
   "source": [
    "#  Move images from training_data directories:\n",
    "\n",
    "# ALL\n",
    "for img in f0_imgs_ALL:\n",
    "    origin = os.path.join(f0_data_training_ALL_dir, img)\n",
    "    destination = os.path.join(combo_ALL_dir, img)\n",
    "    os.rename(origin, destination)\n",
    "    \n",
    "for img in f1_imgs_ALL:\n",
    "    origin = os.path.join(f1_data_training_ALL_dir, img)\n",
    "    destination = os.path.join(combo_ALL_dir, img)\n",
    "    os.rename(origin, destination)\n",
    "    \n",
    "for img in f2_imgs_ALL:\n",
    "    origin = os.path.join(f2_data_training_ALL_dir, img)\n",
    "    destination = os.path.join(combo_ALL_dir, img)\n",
    "    os.rename(origin, destination)\n",
    "    \n",
    "# Normal\n",
    "for img in f0_imgs_Normal:\n",
    "    origin = os.path.join(f0_data_training_Normal_dir, img)\n",
    "    destination = os.path.join(combo_Normal_dir, img)\n",
    "    os.rename(origin, destination)\n",
    "    \n",
    "for img in f1_imgs_Normal:\n",
    "    origin = os.path.join(f1_data_training_Normal_dir, img)\n",
    "    destination = os.path.join(combo_Normal_dir, img)\n",
    "    os.rename(origin, destination)\n",
    "    \n",
    "for img in f2_imgs_Normal:\n",
    "    origin = os.path.join(f2_data_training_Normal_dir, img)\n",
    "    destination = os.path.join(combo_Normal_dir, img)\n",
    "    os.rename(origin, destination)"
   ]
  },
  {
   "cell_type": "code",
   "execution_count": 12,
   "id": "a5f478f3",
   "metadata": {
    "ExecuteTime": {
     "end_time": "2022-02-28T21:45:54.170867Z",
     "start_time": "2022-02-28T21:45:53.875500Z"
    }
   },
   "outputs": [],
   "source": [
    "#  Move images from validation_data directory:\n",
    "\n",
    "# ALL\n",
    "for img in val_images_ALL:\n",
    "    origin = os.path.join(data_val_dir, img)\n",
    "    destination = os.path.join(combo_ALL_dir, img)\n",
    "    os.rename(origin, destination)\n",
    "\n",
    "# Normal\n",
    "for img in val_images_Normal:\n",
    "    origin = os.path.join(data_val_dir, img)\n",
    "    destination = os.path.join(combo_Normal_dir, img)\n",
    "    os.rename(origin, destination)\n"
   ]
  },
  {
   "cell_type": "code",
   "execution_count": 20,
   "id": "ef85f49a",
   "metadata": {
    "ExecuteTime": {
     "end_time": "2022-02-28T22:12:26.576893Z",
     "start_time": "2022-02-28T22:12:26.527376Z"
    }
   },
   "outputs": [
    {
     "name": "stdout",
     "output_type": "stream",
     "text": [
      "There are 12528 total images\n",
      "--------------------------------\n",
      "There are 7920 ALL cell images\n",
      "There are 4608 Normal cell images\n"
     ]
    }
   ],
   "source": [
    "total = len(os.listdir(combo_ALL_dir)) + len(os.listdir(combo_Normal_dir))\n",
    "print('There are', len(os.listdir(combo_ALL_dir)) + len(os.listdir(combo_Normal_dir)), 'total images')\n",
    "print(\"--------------------------------\")\n",
    "print('There are', len(os.listdir(combo_ALL_dir)), 'ALL cell images')\n",
    "print('There are', len(os.listdir(combo_Normal_dir)), 'Normal cell images')\n"
   ]
  },
  {
   "cell_type": "markdown",
   "id": "76b7b968",
   "metadata": {},
   "source": [
    "### Split the data into training, validation, and test sets\n",
    ">### Training   ~ 80%\n",
    ">### Validation ~ 19%\n",
    ">### Test       ~ 1%"
   ]
  },
  {
   "cell_type": "code",
   "execution_count": 41,
   "id": "31156acb",
   "metadata": {
    "ExecuteTime": {
     "end_time": "2022-02-28T23:14:35.038709Z",
     "start_time": "2022-02-28T23:14:35.029883Z"
    }
   },
   "outputs": [],
   "source": [
    "# Create new directory for the training, validation, and testing datasets\n",
    "tvt_dir = 'data/tvt/'\n",
    "os.mkdir(tvt_dir)\n",
    "\n",
    "# Create paths for new dirctory datasets and class label folders\n",
    "train_folder = os.path.join(tvt_dir, 'train')\n",
    "train_ALL = os.path.join(train_folder, 'ALL')\n",
    "train_Normal = os.path.join(train_folder, 'Normal')\n",
    "\n",
    "val_folder = os.path.join(tvt_dir, 'validation')\n",
    "val_ALL = os.path.join(val_folder, 'ALL')\n",
    "val_Normal = os.path.join(val_folder, 'Normal')\n",
    "\n",
    "test_folder = os.path.join(tvt_dir, 'test')\n",
    "test_ALL = os.path.join(test_folder, 'ALL')\n",
    "test_Normal = os.path.join(test_folder, 'Normal')\n",
    "\n",
    "# Create the class label folders\n",
    "os.mkdir(train_folder)\n",
    "os.mkdir(train_ALL)\n",
    "os.mkdir(train_Normal)\n",
    "\n",
    "os.mkdir(val_folder)\n",
    "os.mkdir(val_ALL)\n",
    "os.mkdir(val_Normal)\n",
    "\n",
    "os.mkdir(test_folder)\n",
    "os.mkdir(test_ALL)\n",
    "os.mkdir(test_Normal)"
   ]
  },
  {
   "cell_type": "code",
   "execution_count": 42,
   "id": "8a928a20",
   "metadata": {
    "ExecuteTime": {
     "end_time": "2022-02-28T23:14:35.688368Z",
     "start_time": "2022-02-28T23:14:35.580036Z"
    }
   },
   "outputs": [
    {
     "name": "stdout",
     "output_type": "stream",
     "text": [
      "There are 12528 total images\n",
      "--------------------------------\n",
      "There are 7920 ALL cell images\n",
      "There are 4608 Normal cell images\n",
      "--------------------------------\n",
      "--------------------------------\n",
      "Train ALL        : 6336.0   :\n",
      "Train Normal     : 3686.4   :\n",
      "--------------------------------\n",
      "Validation ALL   : 1504.8   : 7840.8\n",
      "Validation Nomral: 875.52   : 4561.92\n",
      "--------------------------------\n",
      "Test ALL         : 79.2     : 7920.0\n",
      "Test Normal      : 46.08    : 4608.0\n"
     ]
    }
   ],
   "source": [
    "# do the math for our splits\n",
    "print('There are', len(os.listdir(combo_ALL_dir)) + len(os.listdir(combo_Normal_dir)), 'total images')\n",
    "print(\"--------------------------------\")\n",
    "print('There are', len(os.listdir(combo_ALL_dir)), 'ALL cell images')\n",
    "print('There are', len(os.listdir(combo_Normal_dir)), 'Normal cell images')\n",
    "\n",
    "train_ALL_total = (len(os.listdir(combo_ALL_dir))) * 0.80\n",
    "train_Normal_total = (len(os.listdir(combo_Normal_dir))) * 0.80\n",
    "\n",
    "val_ALL_total = (len(os.listdir(combo_ALL_dir))) * 0.19\n",
    "val_Normal_total = (len(os.listdir(combo_Normal_dir))) * 0.19\n",
    "               \n",
    "test_ALL_total = (len(os.listdir(combo_ALL_dir))) * 0.01\n",
    "test_Normal_total = (len(os.listdir(combo_Normal_dir))) * 0.01\n",
    "print(\"--------------------------------\")\n",
    "print(\"--------------------------------\")\n",
    "print(\"Train ALL        :\", round(train_ALL_total,2), \"  :\", )\n",
    "print(\"Train Normal     :\", round(train_Normal_total,2), \"  :\", )\n",
    "print(\"--------------------------------\")\n",
    "print(\"Validation ALL   :\", round(val_ALL_total,2),   \"  :\", val_ALL_total+train_ALL_total)\n",
    "print(\"Validation Nomral:\", round(val_Normal_total,2),   \"  :\", val_Normal_total+train_Normal_total)\n",
    "print(\"--------------------------------\")\n",
    "print(\"Test ALL         :\", round(test_ALL_total,2),  \"    :\", val_ALL_total+train_ALL_total+test_ALL_total)\n",
    "print(\"Test Normal      :\", round(test_Normal_total,2),  \"   :\", val_Normal_total+train_Normal_total+test_Normal_total)"
   ]
  },
  {
   "cell_type": "markdown",
   "id": "8f25060e",
   "metadata": {},
   "source": [
    "### Create the Splits"
   ]
  },
  {
   "cell_type": "code",
   "execution_count": 43,
   "id": "ca2e2246",
   "metadata": {
    "ExecuteTime": {
     "end_time": "2022-02-28T23:14:53.914241Z",
     "start_time": "2022-02-28T23:14:36.957135Z"
    }
   },
   "outputs": [],
   "source": [
    "# Create iterables\n",
    "imgs_ALL = [img for img in os.listdir(combo_ALL_dir)]\n",
    "imgs_Normal = [img for img in os.listdir(combo_Normal_dir)]\n",
    "\n",
    "# train ALL\n",
    "imgs = imgs_ALL[:6337]\n",
    "for img in imgs:\n",
    "    origin = os.path.join(combo_ALL_dir, img)\n",
    "    destination = os.path.join(train_ALL, img)\n",
    "    shutil.copyfile(origin, destination)\n",
    "    \n",
    "# validation ALL\n",
    "imgs = imgs_ALL[6337:7841]\n",
    "for img in imgs:\n",
    "    origin = os.path.join(combo_ALL_dir, img)\n",
    "    destination = os.path.join(val_ALL, img)\n",
    "    shutil.copyfile(origin, destination)\n",
    "\n",
    "# test ALL\n",
    "imgs = imgs_ALL[7841:]\n",
    "for img in imgs:\n",
    "    origin = os.path.join(combo_ALL_dir, img)\n",
    "    destination = os.path.join(test_ALL, img)\n",
    "    shutil.copyfile(origin, destination)\n",
    "    \n",
    "# train Normal\n",
    "imgs = imgs_Normal[:3687]\n",
    "for img in imgs:\n",
    "    origin = os.path.join(combo_Normal_dir, img)\n",
    "    destination = os.path.join(train_Normal, img)\n",
    "    shutil.copyfile(origin, destination)\n",
    "\n",
    "# validation Normal\n",
    "imgs = imgs_Normal[3687:4562]\n",
    "for img in imgs:\n",
    "    origin = os.path.join(combo_Normal_dir, img)\n",
    "    destination = os.path.join(val_Normal, img)\n",
    "    shutil.copyfile(origin, destination)\n",
    "    \n",
    "# test Normal\n",
    "imgs = imgs_Normal[4562:]\n",
    "for img in imgs:\n",
    "    origin = os.path.join(combo_Normal_dir, img)\n",
    "    destination = os.path.join(test_Normal, img)\n",
    "    shutil.copyfile(origin, destination)"
   ]
  },
  {
   "cell_type": "code",
   "execution_count": 44,
   "id": "9e4ef90f",
   "metadata": {
    "ExecuteTime": {
     "end_time": "2022-02-28T23:24:52.131274Z",
     "start_time": "2022-02-28T23:24:51.654985Z"
    }
   },
   "outputs": [],
   "source": [
    "# Reserve unlabeled data\n",
    "origin_path =  'data/PKG - C-NMC_Leukemia/C-NMC_Leukemia/C-NMC_test_final_phase_data/'\n",
    "destination_path = 'data/unlabeled_images/'\n",
    "os.mkdir(destination_path)\n",
    "\n",
    "unlabeled_images = [img for img in os.listdir(origin_path)]\n",
    "\n",
    "# Move unlabeled images to the new directory\n",
    "for img in unlabeled_images:\n",
    "    origin = os.path.join(origin_path, img)\n",
    "    destination = os.path.join(destination_path, img)\n",
    "    os.rename(origin, destination)"
   ]
  },
  {
   "cell_type": "code",
   "execution_count": 46,
   "id": "4716a324",
   "metadata": {
    "ExecuteTime": {
     "end_time": "2022-02-28T23:29:32.931560Z",
     "start_time": "2022-02-28T23:29:32.901459Z"
    }
   },
   "outputs": [],
   "source": [
    "#Remove unnecessary directories from the 'data' file\n",
    "shutil.rmtree('data/PKG - C-NMC_Leukemia/')"
   ]
  },
  {
   "cell_type": "code",
   "execution_count": null,
   "id": "f90def38",
   "metadata": {},
   "outputs": [],
   "source": []
  }
 ],
 "metadata": {
  "hide_input": false,
  "kernelspec": {
   "display_name": "Python 3 (ipykernel)",
   "language": "python",
   "name": "python3"
  },
  "language_info": {
   "codemirror_mode": {
    "name": "ipython",
    "version": 3
   },
   "file_extension": ".py",
   "mimetype": "text/x-python",
   "name": "python",
   "nbconvert_exporter": "python",
   "pygments_lexer": "ipython3",
   "version": "3.9.7"
  }
 },
 "nbformat": 4,
 "nbformat_minor": 5
}
