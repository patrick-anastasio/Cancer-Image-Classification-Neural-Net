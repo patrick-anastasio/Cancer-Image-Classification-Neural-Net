{
 "cells": [
  {
   "cell_type": "code",
   "execution_count": 17,
   "id": "d00047a4",
   "metadata": {
    "ExecuteTime": {
     "end_time": "2022-02-24T21:56:11.921630Z",
     "start_time": "2022-02-24T21:56:11.876414Z"
    }
   },
   "outputs": [
    {
     "name": "stdout",
     "output_type": "stream",
     "text": [
      "modules loaded\n"
     ]
    }
   ],
   "source": [
    "import os\n",
    "os.environ['TF_CPP_MIN_LOG_LEVEL'] = '2'\n",
    "\n",
    "import warnings\n",
    "warnings.filterwarnings(action='ignore', category=FutureWarning)\n",
    "import pandas as pd\n",
    "import numpy as np\n",
    "import os\n",
    "from keras.preprocessing.image import ImageDataGenerator, array_to_img, img_to_array, load_img\n",
    "from keras import models\n",
    "from keras import layers\n",
    "from keras import optimizers\n",
    "import matplotlib.pyplot as plt\n",
    "%matplotlib inline\n",
    "from sklearn.model_selection import train_test_split\n",
    "from keras.utils.np_utils import to_categorical\n",
    "from sklearn import preprocessing\n",
    "from sklearn.metrics import mean_squared_error\n",
    "from keras.preprocessing.text import Tokenizer\n",
    "from sklearn.preprocessing import StandardScaler, LabelBinarizer, OneHotEncoder\n",
    "from sklearn.impute import SimpleImputer\n",
    "from sklearn.model_selection import cross_val_predict\n",
    "import keras\n",
    "from keras.models import Sequential\n",
    "from keras.layers import Dense\n",
    "from keras.callbacks import EarlyStopping, ModelCheckpoint\n",
    "from keras.models import load_model\n",
    "from keras import regularizers\n",
    "from keras.preprocessing.image import ImageDataGenerator, array_to_img, img_to_array, load_img\n",
    "from keras import models\n",
    "from keras import layers\n",
    "from keras import optimizers\n",
    "from keras import initializers\n",
    "from keras.wrappers.scikit_learn import KerasRegressor\n",
    "import tensorflow as tf\n",
    "from tensorflow import keras\n",
    "from tensorflow.keras import backend as K\n",
    "from tensorflow.keras.layers import Dense, Activation,Dropout,Conv2D, MaxPooling2D,BatchNormalization, Flatten\n",
    "from tensorflow.keras.optimizers import Adam, Adamax, RMSprop\n",
    "from tensorflow.keras.metrics import categorical_crossentropy\n",
    "from tensorflow.keras import regularizers\n",
    "from tensorflow.keras.preprocessing.image import ImageDataGenerator\n",
    "from tensorflow.keras.preprocessing import image\n",
    "from tensorflow.keras.models import Model, load_model, Sequential\n",
    "import numpy as np\n",
    "import pandas as pd\n",
    "import shutil\n",
    "import time\n",
    "import cv2 as cv2\n",
    "from tqdm import tqdm\n",
    "from sklearn.model_selection import train_test_split\n",
    "from sklearn.utils import class_weight \n",
    "import matplotlib.pyplot as plt\n",
    "from matplotlib.pyplot import imshow\n",
    "import seaborn as sns\n",
    "sns.set_style('darkgrid')\n",
    "from PIL import Image\n",
    "from sklearn.metrics import confusion_matrix, classification_report\n",
    "from IPython.core.display import display, HTML\n",
    "# stop annoying tensorflow warning messages\n",
    "import logging\n",
    "import splitfolders\n",
    "logging.getLogger(\"tensorflow\").setLevel(logging.ERROR)\n",
    "print ('modules loaded')"
   ]
  },
  {
   "cell_type": "markdown",
   "id": "096e2ea1",
   "metadata": {},
   "source": [
    "# Creating the Training dataset"
   ]
  },
  {
   "cell_type": "code",
   "execution_count": 18,
   "id": "8bad581a",
   "metadata": {
    "ExecuteTime": {
     "end_time": "2022-02-24T21:56:12.779261Z",
     "start_time": "2022-02-24T21:56:12.637176Z"
    }
   },
   "outputs": [
    {
     "data": {
      "image/png": "[encoded data removed]",
      "text/plain": [
       "<Figure size 432x288 with 1 Axes>"
      ]
     },
     "metadata": {},
     "output_type": "display_data"
    }
   ],
   "source": [
    "img = image.load_img('data/training_data/ALL/UID_1_6_1_all.bmp')\n",
    "\n",
    "plt.imshow(img)\n",
    "plt.grid(False)"
   ]
  },
  {
   "cell_type": "code",
   "execution_count": 19,
   "id": "9ec324e5",
   "metadata": {
    "ExecuteTime": {
     "end_time": "2022-02-24T21:56:13.033815Z",
     "start_time": "2022-02-24T21:56:13.027853Z"
    }
   },
   "outputs": [
    {
     "data": {
      "text/plain": [
       "119"
      ]
     },
     "execution_count": 19,
     "metadata": {},
     "output_type": "execute_result"
    }
   ],
   "source": [
    "cv2.imread('data/training_data/ALL/UID_1_6_1_all.bmp').max()"
   ]
  },
  {
   "cell_type": "code",
   "execution_count": 20,
   "id": "6868c649",
   "metadata": {
    "ExecuteTime": {
     "end_time": "2022-02-24T21:56:13.449977Z",
     "start_time": "2022-02-24T21:56:13.444061Z"
    }
   },
   "outputs": [
    {
     "data": {
      "text/plain": [
       "(450, 450, 3)"
      ]
     },
     "execution_count": 20,
     "metadata": {},
     "output_type": "execute_result"
    }
   ],
   "source": [
    "cv2.imread('data/training_data/ALL/UID_1_6_1_all.bmp').shape"
   ]
  },
  {
   "cell_type": "code",
   "execution_count": 21,
   "id": "c3909fe7",
   "metadata": {
    "ExecuteTime": {
     "end_time": "2022-02-24T21:56:22.828363Z",
     "start_time": "2022-02-24T21:56:13.886810Z"
    }
   },
   "outputs": [
    {
     "name": "stderr",
     "output_type": "stream",
     "text": [
      "Copying files: 10661 files [00:08, 1193.36 files/s]\n"
     ]
    }
   ],
   "source": [
    "splitfolders.ratio('data/training_data', \n",
    "                   output='data/inputs/',\n",
    "                   ratio=(.8, 0.2),\n",
    "                   seed=42,\n",
    "                  ) "
   ]
  },
  {
   "cell_type": "code",
   "execution_count": 22,
   "id": "f8db2d57",
   "metadata": {
    "ExecuteTime": {
     "end_time": "2022-02-24T21:56:57.233473Z",
     "start_time": "2022-02-24T21:56:56.680508Z"
    }
   },
   "outputs": [
    {
     "name": "stdout",
     "output_type": "stream",
     "text": [
      "Found 8528 images belonging to 2 classes.\n",
      "Found 2133 images belonging to 2 classes.\n"
     ]
    }
   ],
   "source": [
    "traingen = ImageDataGenerator(rescale=1/255,\n",
    "                              rotation_range=10, fill_mode='nearest',\n",
    "                              horizontal_flip=True,\n",
    "                              vertical_flip=True,\n",
    "                              brightness_range=[0.6,1.5],\n",
    "                             )\n",
    "\n",
    "valgen = ImageDataGenerator(rescale=1/255)\n",
    "\n",
    "train_dataset = traingen.flow_from_directory(directory='data/inputs/train',\n",
    "                                             class_mode='binary',\n",
    "                                             seed=42\n",
    "                                            )\n",
    "\n",
    "val_dataset = valgen.flow_from_directory(directory='data/inputs/val',\n",
    "                                         class_mode='binary',\n",
    "                                         seed=42\n",
    "                                        )"
   ]
  },
  {
   "cell_type": "code",
   "execution_count": 23,
   "id": "0b61651d",
   "metadata": {
    "ExecuteTime": {
     "end_time": "2022-02-24T21:57:01.472939Z",
     "start_time": "2022-02-24T21:57:01.468630Z"
    }
   },
   "outputs": [
    {
     "data": {
      "text/plain": [
       "8528"
      ]
     },
     "execution_count": 23,
     "metadata": {},
     "output_type": "execute_result"
    }
   ],
   "source": [
    "len(train_dataset.classes)"
   ]
  },
  {
   "cell_type": "code",
   "execution_count": 24,
   "id": "74f633e2",
   "metadata": {
    "ExecuteTime": {
     "end_time": "2022-02-24T21:57:02.064140Z",
     "start_time": "2022-02-24T21:57:02.060654Z"
    }
   },
   "outputs": [
    {
     "data": {
      "text/plain": [
       "2133"
      ]
     },
     "execution_count": 24,
     "metadata": {},
     "output_type": "execute_result"
    }
   ],
   "source": [
    "len(val_dataset.classes)"
   ]
  },
  {
   "cell_type": "code",
   "execution_count": 25,
   "id": "02f5e811",
   "metadata": {
    "ExecuteTime": {
     "end_time": "2022-02-24T21:57:06.472811Z",
     "start_time": "2022-02-24T21:57:06.468443Z"
    }
   },
   "outputs": [
    {
     "data": {
      "text/plain": [
       "keras.preprocessing.image.DirectoryIterator"
      ]
     },
     "execution_count": 25,
     "metadata": {},
     "output_type": "execute_result"
    }
   ],
   "source": [
    "type(train_dataset)"
   ]
  },
  {
   "cell_type": "code",
   "execution_count": 26,
   "id": "7beaacb3",
   "metadata": {
    "ExecuteTime": {
     "end_time": "2022-02-24T21:57:07.092954Z",
     "start_time": "2022-02-24T21:57:07.089244Z"
    }
   },
   "outputs": [
    {
     "data": {
      "text/plain": [
       "keras.preprocessing.image.DirectoryIterator"
      ]
     },
     "execution_count": 26,
     "metadata": {},
     "output_type": "execute_result"
    }
   ],
   "source": [
    "type(train_dataset)"
   ]
  },
  {
   "cell_type": "code",
   "execution_count": null,
   "id": "cfa833c4",
   "metadata": {},
   "outputs": [],
   "source": []
  },
  {
   "cell_type": "code",
   "execution_count": null,
   "id": "bd0feac3",
   "metadata": {},
   "outputs": [],
   "source": []
  },
  {
   "cell_type": "code",
   "execution_count": 30,
   "id": "2f3ca01c",
   "metadata": {
    "ExecuteTime": {
     "end_time": "2022-02-24T22:00:33.101649Z",
     "start_time": "2022-02-24T22:00:33.096831Z"
    }
   },
   "outputs": [],
   "source": [
    "class_weights = class_weight.compute_class_weight(class_weight='balanced',\n",
    "                                                  classes=np.unique(train_dataset.classes),\n",
    "                                                  y=train_dataset.classes\n",
    "                                                 )\n",
    "\n",
    "train_class_weights = dict(enumerate(class_weights))"
   ]
  },
  {
   "cell_type": "code",
   "execution_count": null,
   "id": "1a5b4a23",
   "metadata": {},
   "outputs": [],
   "source": [
    "baseline_model = Sequential()\n",
    "\n",
    "baseline_model.add(layers.Dense(units=64, activation='relu'))\n",
    "baseline_model.add(Flatten())\n",
    "baseline_model.add(layers.Dense(units=1, activation='sigmoid'))\n",
    "\n",
    "baseline_model.compile(optimizer=RMSprop(lr=0.001), loss='binary_crossentropy',\n",
    "                       metrics=['accuracy']\n",
    "                      )\n",
    "\n",
    "baseline_history = baseline_model.fit(train_dataset,\n",
    "                                      class_weight=train_class_weights,\n",
    "                                      steps_per_epoch=41,\n",
    "                                      epochs=50,\n",
    "                                      batch_size=256,\n",
    "                                      validation_data=val_dataset\n",
    "                                      shuffle=True\n",
    "                                     )"
   ]
  },
  {
   "cell_type": "code",
   "execution_count": null,
   "id": "ea75c0ac",
   "metadata": {},
   "outputs": [],
   "source": []
  },
  {
   "cell_type": "code",
   "execution_count": null,
   "id": "cc40d3a3",
   "metadata": {},
   "outputs": [],
   "source": []
  },
  {
   "cell_type": "code",
   "execution_count": null,
   "id": "e4a00e75",
   "metadata": {},
   "outputs": [],
   "source": []
  },
  {
   "cell_type": "code",
   "execution_count": null,
   "id": "5fb98614",
   "metadata": {},
   "outputs": [],
   "source": []
  },
  {
   "cell_type": "markdown",
   "id": "715f7cdd",
   "metadata": {},
   "source": [
    "# Creating the Testing dataset"
   ]
  },
  {
   "cell_type": "code",
   "execution_count": null,
   "id": "285d7203",
   "metadata": {},
   "outputs": [],
   "source": [
    "img = image.load_img('data/test_data/7.bmp')\n",
    "\n",
    "plt.imshow(img)\n",
    "plt.grid(False)"
   ]
  },
  {
   "cell_type": "code",
   "execution_count": null,
   "id": "a397b907",
   "metadata": {},
   "outputs": [],
   "source": [
    "cv2.imread('data/test_data/7.bmp').max()"
   ]
  },
  {
   "cell_type": "code",
   "execution_count": null,
   "id": "28d99ab6",
   "metadata": {},
   "outputs": [],
   "source": [
    "cv2.imread('data/test_data/7.bmp').shape"
   ]
  },
  {
   "cell_type": "code",
   "execution_count": null,
   "id": "b803b5bc",
   "metadata": {},
   "outputs": [],
   "source": [
    "test_df = pd.read_csv('data/test_data/test_data_labels.csv')\n",
    "\n",
    "test_df = test_df.replace({'labels':{0 : 'ALL', 1 : 'Normal'}})\n",
    "\n",
    "testgen = ImageDataGenerator(rescale=1/255)\n",
    "\n",
    "test_dataset = testgen.flow_from_dataframe(test_df,\n",
    "                                         directory='data/test_data',\n",
    "                                         x_col='new_names',\n",
    "                                         y_col='labels',\n",
    "                                         class_mode='binary',\n",
    "                                         target_size=(350, 350),\n",
    "                                         batch_size=1,\n",
    "                                         seed=42\n",
    "                                        )"
   ]
  },
  {
   "cell_type": "code",
   "execution_count": null,
   "id": "363b1be4",
   "metadata": {},
   "outputs": [],
   "source": [
    "test_dataset.class_indices"
   ]
  },
  {
   "cell_type": "code",
   "execution_count": null,
   "id": "3afa1ee9",
   "metadata": {},
   "outputs": [],
   "source": [
    "test_dataset.classes"
   ]
  },
  {
   "cell_type": "code",
   "execution_count": null,
   "id": "ff1b0bac",
   "metadata": {},
   "outputs": [],
   "source": [
    "type(test_dataset)"
   ]
  },
  {
   "cell_type": "code",
   "execution_count": null,
   "id": "9d567e91",
   "metadata": {},
   "outputs": [],
   "source": [
    "test_dataset[1]"
   ]
  },
  {
   "cell_type": "code",
   "execution_count": null,
   "id": "d95c15b4",
   "metadata": {},
   "outputs": [],
   "source": []
  },
  {
   "cell_type": "code",
   "execution_count": null,
   "id": "b54ad689",
   "metadata": {},
   "outputs": [],
   "source": []
  },
  {
   "cell_type": "code",
   "execution_count": null,
   "id": "f3787395",
   "metadata": {},
   "outputs": [],
   "source": []
  },
  {
   "cell_type": "code",
   "execution_count": null,
   "id": "74adba55",
   "metadata": {},
   "outputs": [],
   "source": []
  },
  {
   "cell_type": "code",
   "execution_count": null,
   "id": "fb427ff8",
   "metadata": {},
   "outputs": [],
   "source": []
  },
  {
   "cell_type": "code",
   "execution_count": null,
   "id": "776e8053",
   "metadata": {},
   "outputs": [],
   "source": []
  },
  {
   "cell_type": "code",
   "execution_count": null,
   "id": "2ae0af4a",
   "metadata": {},
   "outputs": [],
   "source": []
  },
  {
   "cell_type": "code",
   "execution_count": null,
   "id": "e5d0ea6d",
   "metadata": {},
   "outputs": [],
   "source": []
  },
  {
   "cell_type": "code",
   "execution_count": null,
   "id": "ca807132",
   "metadata": {},
   "outputs": [],
   "source": []
  }
 ],
 "metadata": {
  "hide_input": false,
  "kernelspec": {
   "display_name": "Python 3 (ipykernel)",
   "language": "python",
   "name": "python3"
  },
  "language_info": {
   "codemirror_mode": {
    "name": "ipython",
    "version": 3
   },
   "file_extension": ".py",
   "mimetype": "text/x-python",
   "name": "python",
   "nbconvert_exporter": "python",
   "pygments_lexer": "ipython3",
   "version": "3.9.7"
  }
 },
 "nbformat": 4,
 "nbformat_minor": 5
}
