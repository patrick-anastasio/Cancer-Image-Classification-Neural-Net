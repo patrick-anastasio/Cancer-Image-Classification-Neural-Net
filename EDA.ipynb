{
 "cells": [
  {
   "cell_type": "code",
   "execution_count": 3,
   "metadata": {
    "ExecuteTime": {
     "end_time": "2022-02-24T21:56:11.921630Z",
     "start_time": "2022-02-24T21:56:11.876414Z"
    }
   },
   "outputs": [
    {
     "name": "stdout",
     "output_type": "stream",
     "text": [
      "modules loaded\n"
     ]
    }
   ],
   "source": [
    "import os\n",
    "os.environ['TF_CPP_MIN_LOG_LEVEL'] = '2'\n",
    "\n",
    "import warnings\n",
    "warnings.filterwarnings(action='ignore', category=FutureWarning)\n",
    "warnings.filterwarnings(action='ignore', category=DeprecationWarning)\n",
    "import pandas as pd\n",
    "import numpy as np\n",
    "import os\n",
    "from keras.preprocessing.image import ImageDataGenerator, array_to_img, img_to_array, load_img\n",
    "from keras import models\n",
    "from keras import layers\n",
    "from keras import optimizers\n",
    "import matplotlib.pyplot as plt\n",
    "%matplotlib inline\n",
    "from sklearn.model_selection import train_test_split\n",
    "from keras.utils.np_utils import to_categorical\n",
    "from sklearn import preprocessing\n",
    "from sklearn.metrics import mean_squared_error\n",
    "from keras.preprocessing.text import Tokenizer\n",
    "from sklearn.preprocessing import StandardScaler, LabelBinarizer, OneHotEncoder\n",
    "from sklearn.impute import SimpleImputer\n",
    "from sklearn.model_selection import cross_val_predict\n",
    "import keras\n",
    "from keras.models import Sequential\n",
    "from keras.layers import Dense\n",
    "from keras.callbacks import EarlyStopping, ModelCheckpoint\n",
    "from keras.models import load_model\n",
    "from keras import regularizers\n",
    "from keras.preprocessing.image import ImageDataGenerator, array_to_img, img_to_array, load_img\n",
    "from keras import models\n",
    "from keras import layers\n",
    "from keras import optimizers\n",
    "from keras import initializers\n",
    "from keras.wrappers.scikit_learn import KerasRegressor\n",
    "import tensorflow as tf\n",
    "from tensorflow import keras\n",
    "from tensorflow.keras import backend as K\n",
    "from tensorflow.keras.layers import Dense, Activation,Dropout,Conv2D, MaxPooling2D,BatchNormalization, Flatten\n",
    "from tensorflow.keras.optimizers import Adam, Adamax, RMSprop\n",
    "from tensorflow.keras.metrics import categorical_crossentropy\n",
    "from tensorflow.keras import regularizers\n",
    "from tensorflow.keras.preprocessing.image import ImageDataGenerator\n",
    "from tensorflow.keras.preprocessing import image\n",
    "from tensorflow.keras.models import Model, load_model, Sequential\n",
    "import numpy as np\n",
    "import pandas as pd\n",
    "import shutil\n",
    "import time\n",
    "import cv2 as cv2\n",
    "from tqdm import tqdm\n",
    "from sklearn.model_selection import train_test_split\n",
    "from sklearn.utils import class_weight \n",
    "import matplotlib.pyplot as plt\n",
    "from matplotlib.pyplot import imshow\n",
    "import seaborn as sns\n",
    "sns.set_style('darkgrid')\n",
    "from PIL import Image\n",
    "from sklearn.metrics import confusion_matrix, classification_report\n",
    "from IPython.core.display import display, HTML\n",
    "# stop annoying tensorflow warning messages\n",
    "import logging\n",
    "import splitfolders\n",
    "logging.getLogger(\"tensorflow\").setLevel(logging.ERROR)\n",
    "print ('modules loaded')"
   ]
  },
  {
   "cell_type": "markdown",
   "metadata": {},
   "source": [
    "# Creating the Training dataset"
   ]
  },
  {
   "cell_type": "code",
   "execution_count": 6,
   "metadata": {
    "ExecuteTime": {
     "end_time": "2022-02-24T21:56:12.779261Z",
     "start_time": "2022-02-24T21:56:12.637176Z"
    }
   },
   "outputs": [
    {
     "data": {
      "image/png": "[encoded data removed]",
      "text/plain": [
       "<Figure size 432x288 with 1 Axes>"
      ]
     },
     "metadata": {},
     "output_type": "display_data"
    }
   ],
   "source": [
    "img = image.load_img('data/training_data/ALL/UID_1_6_1_all.bmp')\n",
    "\n",
    "plt.imshow(img)\n",
    "plt.grid(False)"
   ]
  },
  {
   "cell_type": "code",
   "execution_count": 7,
   "metadata": {
    "ExecuteTime": {
     "end_time": "2022-02-24T21:56:13.033815Z",
     "start_time": "2022-02-24T21:56:13.027853Z"
    }
   },
   "outputs": [
    {
     "data": {
      "text/plain": [
       "119"
      ]
     },
     "execution_count": 7,
     "metadata": {},
     "output_type": "execute_result"
    }
   ],
   "source": [
    "cv2.imread('data/training_data/ALL/UID_1_6_1_all.bmp').max()"
   ]
  },
  {
   "cell_type": "code",
   "execution_count": 8,
   "metadata": {
    "ExecuteTime": {
     "end_time": "2022-02-24T21:56:13.449977Z",
     "start_time": "2022-02-24T21:56:13.444061Z"
    }
   },
   "outputs": [
    {
     "data": {
      "text/plain": [
       "(450, 450, 3)"
      ]
     },
     "execution_count": 8,
     "metadata": {},
     "output_type": "execute_result"
    }
   ],
   "source": [
    "cv2.imread('data/training_data/ALL/UID_1_6_1_all.bmp').shape"
   ]
  },
  {
   "cell_type": "code",
   "execution_count": 9,
   "metadata": {
    "ExecuteTime": {
     "end_time": "2022-02-24T21:56:22.828363Z",
     "start_time": "2022-02-24T21:56:13.886810Z"
    }
   },
   "outputs": [
    {
     "name": "stderr",
     "output_type": "stream",
     "text": [
      "Copying files: 10661 files [00:32, 324.13 files/s]\n"
     ]
    }
   ],
   "source": [
    "splitfolders.ratio('data/training_data', \n",
    "                   output='data/inputs/',\n",
    "                   ratio=(.8, 0.2),\n",
    "                   seed=42,\n",
    "                  ) "
   ]
  },
  {
   "cell_type": "code",
   "execution_count": 10,
   "metadata": {
    "ExecuteTime": {
     "end_time": "2022-02-24T21:56:57.233473Z",
     "start_time": "2022-02-24T21:56:56.680508Z"
    }
   },
   "outputs": [
    {
     "name": "stdout",
     "output_type": "stream",
     "text": [
      "Found 8528 images belonging to 2 classes.\n",
      "Found 2133 images belonging to 2 classes.\n"
     ]
    }
   ],
   "source": [
    "traingen = ImageDataGenerator(rescale=1/255,\n",
    "                              rotation_range=10, fill_mode='nearest',\n",
    "                              horizontal_flip=True,\n",
    "                              vertical_flip=True,\n",
    "                              brightness_range=[0.6,1.5],\n",
    "                             )\n",
    "\n",
    "valgen = ImageDataGenerator(rescale=1/255)\n",
    "\n",
    "train_dataset = traingen.flow_from_directory(directory='data/inputs/train',\n",
    "                                             class_mode='binary',\n",
    "                                             seed=42\n",
    "                                            )\n",
    "\n",
    "val_dataset = valgen.flow_from_directory(directory='data/inputs/val',\n",
    "                                         class_mode='binary',\n",
    "                                         seed=42\n",
    "                                        )"
   ]
  },
  {
   "cell_type": "code",
   "execution_count": 11,
   "metadata": {
    "ExecuteTime": {
     "end_time": "2022-02-24T21:57:01.472939Z",
     "start_time": "2022-02-24T21:57:01.468630Z"
    }
   },
   "outputs": [
    {
     "data": {
      "text/plain": [
       "8528"
      ]
     },
     "execution_count": 11,
     "metadata": {},
     "output_type": "execute_result"
    }
   ],
   "source": [
    "len(train_dataset.classes)"
   ]
  },
  {
   "cell_type": "code",
   "execution_count": 12,
   "metadata": {
    "ExecuteTime": {
     "end_time": "2022-02-24T21:57:02.064140Z",
     "start_time": "2022-02-24T21:57:02.060654Z"
    }
   },
   "outputs": [
    {
     "data": {
      "text/plain": [
       "2133"
      ]
     },
     "execution_count": 12,
     "metadata": {},
     "output_type": "execute_result"
    }
   ],
   "source": [
    "len(val_dataset.classes)"
   ]
  },
  {
   "cell_type": "code",
   "execution_count": 13,
   "metadata": {
    "ExecuteTime": {
     "end_time": "2022-02-24T21:57:06.472811Z",
     "start_time": "2022-02-24T21:57:06.468443Z"
    }
   },
   "outputs": [
    {
     "data": {
      "text/plain": [
       "keras.preprocessing.image.DirectoryIterator"
      ]
     },
     "execution_count": 13,
     "metadata": {},
     "output_type": "execute_result"
    }
   ],
   "source": [
    "type(train_dataset)"
   ]
  },
  {
   "cell_type": "code",
   "execution_count": 14,
   "metadata": {
    "ExecuteTime": {
     "end_time": "2022-02-24T21:57:07.092954Z",
     "start_time": "2022-02-24T21:57:07.089244Z"
    }
   },
   "outputs": [
    {
     "data": {
      "text/plain": [
       "keras.preprocessing.image.DirectoryIterator"
      ]
     },
     "execution_count": 14,
     "metadata": {},
     "output_type": "execute_result"
    }
   ],
   "source": [
    "type(train_dataset)"
   ]
  },
  {
   "cell_type": "code",
   "execution_count": null,
   "metadata": {},
   "outputs": [],
   "source": []
  },
  {
   "cell_type": "code",
   "execution_count": null,
   "metadata": {},
   "outputs": [],
   "source": []
  },
  {
   "cell_type": "code",
   "execution_count": 15,
   "metadata": {
    "ExecuteTime": {
     "end_time": "2022-02-24T22:00:33.101649Z",
     "start_time": "2022-02-24T22:00:33.096831Z"
    }
   },
   "outputs": [],
   "source": [
    "class_weights = class_weight.compute_class_weight(class_weight='balanced',\n",
    "                                                  classes=np.unique(train_dataset.classes),\n",
    "                                                  y=train_dataset.classes\n",
    "                                                 )\n",
    "\n",
    "train_class_weights = dict(enumerate(class_weights))"
   ]
  },
  {
   "cell_type": "code",
   "execution_count": 17,
   "metadata": {},
   "outputs": [
    {
     "name": "stderr",
     "output_type": "stream",
     "text": [
      "/home/patrick/.local/lib/python3.8/site-packages/keras/optimizer_v2/rmsprop.py:130: UserWarning: The `lr` argument is deprecated, use `learning_rate` instead.\n",
      "  super(RMSprop, self).__init__(name, **kwargs)\n"
     ]
    },
    {
     "name": "stdout",
     "output_type": "stream",
     "text": [
      "Epoch 1/50\n",
      "41/41 [==============================] - 113s 3s/step - loss: 7.3865 - accuracy: 0.6738 - val_loss: 6.4005 - val_accuracy: 0.3179\n",
      "Epoch 2/50\n",
      "41/41 [==============================] - 112s 3s/step - loss: 3.9178 - accuracy: 0.6463 - val_loss: 0.6526 - val_accuracy: 0.6850\n",
      "Epoch 3/50\n",
      "41/41 [==============================] - 115s 3s/step - loss: 1.7636 - accuracy: 0.6845 - val_loss: 0.5260 - val_accuracy: 0.7361\n",
      "Epoch 4/50\n",
      "41/41 [==============================] - 114s 3s/step - loss: 0.9509 - accuracy: 0.7210 - val_loss: 0.5784 - val_accuracy: 0.6835\n",
      "Epoch 5/50\n",
      "41/41 [==============================] - 114s 3s/step - loss: 0.7082 - accuracy: 0.7348 - val_loss: 0.6884 - val_accuracy: 0.4590\n",
      "Epoch 6/50\n",
      "41/41 [==============================] - 113s 3s/step - loss: 0.5729 - accuracy: 0.7508 - val_loss: 0.6347 - val_accuracy: 0.7257\n",
      "Epoch 7/50\n",
      "41/41 [==============================] - 112s 3s/step - loss: 0.5745 - accuracy: 0.7241 - val_loss: 0.6085 - val_accuracy: 0.7525\n",
      "Epoch 8/50\n",
      "41/41 [==============================] - 113s 3s/step - loss: 0.5066 - accuracy: 0.7691 - val_loss: 0.5780 - val_accuracy: 0.7276\n",
      "Epoch 9/50\n",
      "41/41 [==============================] - 113s 3s/step - loss: 0.5243 - accuracy: 0.7668 - val_loss: 0.6375 - val_accuracy: 0.6010\n",
      "Epoch 10/50\n",
      "41/41 [==============================] - 112s 3s/step - loss: 0.5023 - accuracy: 0.7660 - val_loss: 0.5149 - val_accuracy: 0.8031\n",
      "Epoch 11/50\n",
      "41/41 [==============================] - 114s 3s/step - loss: 0.4755 - accuracy: 0.8056 - val_loss: 0.5345 - val_accuracy: 0.7675\n",
      "Epoch 12/50\n",
      "41/41 [==============================] - 111s 3s/step - loss: 0.4419 - accuracy: 0.8125 - val_loss: 0.4807 - val_accuracy: 0.8097\n",
      "Epoch 13/50\n",
      "41/41 [==============================] - 114s 3s/step - loss: 0.4883 - accuracy: 0.7917 - val_loss: 0.5855 - val_accuracy: 0.7164\n",
      "Epoch 14/50\n",
      "41/41 [==============================] - 115s 3s/step - loss: 0.4762 - accuracy: 0.7963 - val_loss: 0.5384 - val_accuracy: 0.7670\n",
      "Epoch 15/50\n",
      "41/41 [==============================] - 117s 3s/step - loss: 0.4837 - accuracy: 0.7942 - val_loss: 0.5796 - val_accuracy: 0.7014\n",
      "Epoch 16/50\n",
      "41/41 [==============================] - 115s 3s/step - loss: 0.4824 - accuracy: 0.8041 - val_loss: 0.5111 - val_accuracy: 0.8068\n",
      "Epoch 17/50\n",
      "41/41 [==============================] - 114s 3s/step - loss: 0.4947 - accuracy: 0.7835 - val_loss: 0.5635 - val_accuracy: 0.7698\n",
      "Epoch 18/50\n",
      "41/41 [==============================] - 113s 3s/step - loss: 0.5014 - accuracy: 0.7782 - val_loss: 0.4899 - val_accuracy: 0.8031\n",
      "Epoch 19/50\n",
      "41/41 [==============================] - 114s 3s/step - loss: 0.4658 - accuracy: 0.7886 - val_loss: 0.5101 - val_accuracy: 0.8298\n",
      "Epoch 20/50\n",
      "41/41 [==============================] - 115s 3s/step - loss: 0.4786 - accuracy: 0.8003 - val_loss: 0.5607 - val_accuracy: 0.7792\n",
      "Epoch 21/50\n",
      "41/41 [==============================] - 115s 3s/step - loss: 0.4620 - accuracy: 0.8041 - val_loss: 0.5289 - val_accuracy: 0.7961\n",
      "Epoch 22/50\n",
      "41/41 [==============================] - 116s 3s/step - loss: 0.4539 - accuracy: 0.7942 - val_loss: 0.6171 - val_accuracy: 0.6554\n",
      "Epoch 23/50\n",
      "41/41 [==============================] - 114s 3s/step - loss: 0.4868 - accuracy: 0.7894 - val_loss: 0.5290 - val_accuracy: 0.7984\n",
      "Epoch 24/50\n",
      "41/41 [==============================] - 115s 3s/step - loss: 0.5258 - accuracy: 0.7439 - val_loss: 0.5252 - val_accuracy: 0.7975\n",
      "Epoch 25/50\n",
      "41/41 [==============================] - 116s 3s/step - loss: 0.4346 - accuracy: 0.8079 - val_loss: 0.5599 - val_accuracy: 0.7468\n",
      "Epoch 26/50\n",
      "41/41 [==============================] - 116s 3s/step - loss: 0.4674 - accuracy: 0.8003 - val_loss: 0.5930 - val_accuracy: 0.6709\n",
      "Epoch 27/50\n",
      "41/41 [==============================] - 116s 3s/step - loss: 0.4703 - accuracy: 0.7942 - val_loss: 0.4771 - val_accuracy: 0.8317\n",
      "Epoch 28/50\n",
      "41/41 [==============================] - 118s 3s/step - loss: 0.4890 - accuracy: 0.7866 - val_loss: 0.5596 - val_accuracy: 0.7492\n",
      "Epoch 29/50\n",
      "41/41 [==============================] - 116s 3s/step - loss: 0.4654 - accuracy: 0.7950 - val_loss: 0.4893 - val_accuracy: 0.8139\n",
      "Epoch 30/50\n",
      "41/41 [==============================] - 117s 3s/step - loss: 0.4546 - accuracy: 0.8018 - val_loss: 0.5653 - val_accuracy: 0.7192\n",
      "Epoch 31/50\n",
      "41/41 [==============================] - 116s 3s/step - loss: 0.4638 - accuracy: 0.7957 - val_loss: 0.5044 - val_accuracy: 0.8097\n",
      "Epoch 32/50\n",
      "41/41 [==============================] - 117s 3s/step - loss: 0.4896 - accuracy: 0.7973 - val_loss: 0.4863 - val_accuracy: 0.8270\n",
      "Epoch 33/50\n",
      "41/41 [==============================] - 123s 3s/step - loss: 0.4898 - accuracy: 0.7904 - val_loss: 0.5497 - val_accuracy: 0.7665\n",
      "Epoch 34/50\n",
      "41/41 [==============================] - 125s 3s/step - loss: 0.4551 - accuracy: 0.7957 - val_loss: 0.5000 - val_accuracy: 0.7867\n",
      "Epoch 35/50\n",
      "41/41 [==============================] - 120s 3s/step - loss: 0.4667 - accuracy: 0.7950 - val_loss: 0.5091 - val_accuracy: 0.8176\n",
      "Epoch 36/50\n",
      "41/41 [==============================] - 121s 3s/step - loss: 0.4529 - accuracy: 0.8155 - val_loss: 0.5519 - val_accuracy: 0.7820\n",
      "Epoch 37/50\n",
      "41/41 [==============================] - 123s 3s/step - loss: 0.4496 - accuracy: 0.8194 - val_loss: 0.5458 - val_accuracy: 0.7609\n",
      "Epoch 38/50\n",
      "41/41 [==============================] - 116s 3s/step - loss: 0.4791 - accuracy: 0.7912 - val_loss: 0.5016 - val_accuracy: 0.8153\n",
      "Epoch 39/50\n",
      "41/41 [==============================] - 117s 3s/step - loss: 0.4827 - accuracy: 0.7660 - val_loss: 0.4685 - val_accuracy: 0.8326\n",
      "Epoch 40/50\n",
      "41/41 [==============================] - 115s 3s/step - loss: 0.4844 - accuracy: 0.8071 - val_loss: 0.5215 - val_accuracy: 0.8083\n",
      "Epoch 41/50\n",
      "41/41 [==============================] - 117s 3s/step - loss: 0.4553 - accuracy: 0.8034 - val_loss: 0.5731 - val_accuracy: 0.7196\n",
      "Epoch 42/50\n",
      "41/41 [==============================] - 116s 3s/step - loss: 0.4780 - accuracy: 0.7965 - val_loss: 0.5656 - val_accuracy: 0.7454\n",
      "Epoch 43/50\n",
      "41/41 [==============================] - 117s 3s/step - loss: 0.4435 - accuracy: 0.8270 - val_loss: 0.4710 - val_accuracy: 0.8204\n",
      "Epoch 44/50\n",
      "41/41 [==============================] - 118s 3s/step - loss: 0.4817 - accuracy: 0.7980 - val_loss: 0.5767 - val_accuracy: 0.7126\n",
      "Epoch 45/50\n",
      "41/41 [==============================] - 116s 3s/step - loss: 0.4797 - accuracy: 0.7909 - val_loss: 0.4936 - val_accuracy: 0.8261\n",
      "Epoch 46/50\n",
      "41/41 [==============================] - 117s 3s/step - loss: 0.4721 - accuracy: 0.7973 - val_loss: 0.5838 - val_accuracy: 0.6929\n",
      "Epoch 47/50\n",
      "41/41 [==============================] - 117s 3s/step - loss: 0.4585 - accuracy: 0.7957 - val_loss: 0.5631 - val_accuracy: 0.7511\n",
      "Epoch 48/50\n",
      "41/41 [==============================] - 117s 3s/step - loss: 0.4509 - accuracy: 0.7828 - val_loss: 0.5261 - val_accuracy: 0.8256\n",
      "Epoch 49/50\n",
      "41/41 [==============================] - 117s 3s/step - loss: 0.4603 - accuracy: 0.8171 - val_loss: 0.5622 - val_accuracy: 0.7553\n",
      "Epoch 50/50\n",
      "41/41 [==============================] - 116s 3s/step - loss: 0.4734 - accuracy: 0.8011 - val_loss: 0.5761 - val_accuracy: 0.7295\n"
     ]
    }
   ],
   "source": [
    "baseline_model = Sequential()\n",
    "\n",
    "baseline_model.add(layers.Dense(units=64, activation='relu'))\n",
    "baseline_model.add(Flatten())\n",
    "baseline_model.add(layers.Dense(units=1, activation='sigmoid'))\n",
    "\n",
    "baseline_model.compile(optimizer=RMSprop(lr=0.001), loss='binary_crossentropy',\n",
    "                       metrics=['accuracy']\n",
    "                      )\n",
    "\n",
    "baseline_history = baseline_model.fit(train_dataset,\n",
    "                                      class_weight=train_class_weights,\n",
    "                                      steps_per_epoch=41,\n",
    "                                      epochs=50,\n",
    "                                      batch_size=256,\n",
    "                                      validation_data=val_dataset,\n",
    "                                      shuffle=True\n",
    "                                     )"
   ]
  },
  {
   "cell_type": "code",
   "execution_count": 22,
   "metadata": {},
   "outputs": [],
   "source": [
    "def visualize_training_results(results):\n",
    "    history = results.history\n",
    "    plt.figure()\n",
    "    plt.plot(history['val_loss'])\n",
    "    plt.plot(history['loss'])\n",
    "    plt.legend(['val_loss', 'loss'])\n",
    "    plt.title('Loss')\n",
    "    plt.xlabel('Epochs')\n",
    "    plt.ylabel('Loss')\n",
    "    plt.show()\n",
    "    \n",
    "    plt.figure()\n",
    "    plt.plot(history['val_accuracy'])\n",
    "    plt.plot(history['accuracy'])\n",
    "    plt.legend(['val_accuracy', 'accuracy'])\n",
    "    plt.title('Accuracy')\n",
    "    plt.xlabel('Epochs')\n",
    "    plt.ylabel('Accuracy')\n",
    "    plt.show()"
   ]
  },
  {
   "cell_type": "code",
   "execution_count": 23,
   "metadata": {},
   "outputs": [
    {
     "data": {
      "image/png": "[encoded data removed]",
      "text/plain": [
       "<Figure size 432x288 with 1 Axes>"
      ]
     },
     "metadata": {},
     "output_type": "display_data"
    },
    {
     "data": {
      "image/png": "[encoded data removed]",
      "text/plain": [
       "<Figure size 432x288 with 1 Axes>"
      ]
     },
     "metadata": {},
     "output_type": "display_data"
    }
   ],
   "source": [
    "visualize_training_results(baseline_history)"
   ]
  },
  {
   "cell_type": "code",
   "execution_count": null,
   "metadata": {},
   "outputs": [],
   "source": []
  },
  {
   "cell_type": "code",
   "execution_count": null,
   "metadata": {},
   "outputs": [],
   "source": []
  },
  {
   "cell_type": "markdown",
   "metadata": {},
   "source": [
    "# Creating the Testing dataset"
   ]
  },
  {
   "cell_type": "code",
   "execution_count": null,
   "metadata": {},
   "outputs": [],
   "source": [
    "img = image.load_img('data/test_data/7.bmp')\n",
    "\n",
    "plt.imshow(img)\n",
    "plt.grid(False)"
   ]
  },
  {
   "cell_type": "code",
   "execution_count": null,
   "metadata": {},
   "outputs": [],
   "source": [
    "cv2.imread('data/test_data/7.bmp').max()"
   ]
  },
  {
   "cell_type": "code",
   "execution_count": null,
   "metadata": {},
   "outputs": [],
   "source": [
    "cv2.imread('data/test_data/7.bmp').shape"
   ]
  },
  {
   "cell_type": "code",
   "execution_count": null,
   "metadata": {},
   "outputs": [],
   "source": [
    "test_df = pd.read_csv('data/test_data/test_data_labels.csv')\n",
    "\n",
    "test_df = test_df.replace({'labels':{0 : 'ALL', 1 : 'Normal'}})\n",
    "\n",
    "testgen = ImageDataGenerator(rescale=1/255)\n",
    "\n",
    "test_dataset = testgen.flow_from_dataframe(test_df,\n",
    "                                         directory='data/test_data',\n",
    "                                         x_col='new_names',\n",
    "                                         y_col='labels',\n",
    "                                         class_mode='binary',\n",
    "                                         target_size=(350, 350),\n",
    "                                         batch_size=1,\n",
    "                                         seed=42\n",
    "                                        )"
   ]
  },
  {
   "cell_type": "code",
   "execution_count": null,
   "metadata": {},
   "outputs": [],
   "source": [
    "test_dataset.class_indices"
   ]
  },
  {
   "cell_type": "code",
   "execution_count": null,
   "metadata": {},
   "outputs": [],
   "source": [
    "test_dataset.classes"
   ]
  },
  {
   "cell_type": "code",
   "execution_count": null,
   "metadata": {},
   "outputs": [],
   "source": [
    "type(test_dataset)"
   ]
  },
  {
   "cell_type": "code",
   "execution_count": null,
   "metadata": {},
   "outputs": [],
   "source": [
    "test_dataset[1]"
   ]
  },
  {
   "cell_type": "code",
   "execution_count": null,
   "metadata": {},
   "outputs": [],
   "source": []
  },
  {
   "cell_type": "code",
   "execution_count": null,
   "metadata": {},
   "outputs": [],
   "source": []
  },
  {
   "cell_type": "code",
   "execution_count": null,
   "metadata": {},
   "outputs": [],
   "source": []
  },
  {
   "cell_type": "code",
   "execution_count": null,
   "metadata": {},
   "outputs": [],
   "source": []
  },
  {
   "cell_type": "code",
   "execution_count": null,
   "metadata": {},
   "outputs": [],
   "source": []
  },
  {
   "cell_type": "code",
   "execution_count": null,
   "metadata": {},
   "outputs": [],
   "source": []
  },
  {
   "cell_type": "code",
   "execution_count": null,
   "metadata": {},
   "outputs": [],
   "source": []
  },
  {
   "cell_type": "code",
   "execution_count": null,
   "metadata": {},
   "outputs": [],
   "source": []
  },
  {
   "cell_type": "code",
   "execution_count": null,
   "metadata": {},
   "outputs": [],
   "source": []
  }
 ],
 "metadata": {
  "hide_input": false,
  "kernelspec": {
   "display_name": "Python 3 (ipykernel)",
   "language": "python",
   "name": "python3"
  },
  "language_info": {
   "codemirror_mode": {
    "name": "ipython",
    "version": 3
   },
   "file_extension": ".py",
   "mimetype": "text/x-python",
   "name": "python",
   "nbconvert_exporter": "python",
   "pygments_lexer": "ipython3",
   "version": "3.8.10"
  }
 },
 "nbformat": 4,
 "nbformat_minor": 5
}
