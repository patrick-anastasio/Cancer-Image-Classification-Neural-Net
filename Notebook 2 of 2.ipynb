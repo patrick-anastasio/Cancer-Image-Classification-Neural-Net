{
 "cells": [
  {
   "cell_type": "markdown",
   "id": "fdaa8453",
   "metadata": {},
   "source": [
    "# Notebook 2 of 2"
   ]
  },
  {
   "cell_type": "markdown",
   "id": "1a84ac03",
   "metadata": {},
   "source": [
    "## This noteboook continues the work started in Notebook 1.        \n",
    "> ### Here we will iterate through several neural network models to find the best accurracy in predicting whether a B-cell is normal or malignant with Acute Lymphoblastic Leukemia\n"
   ]
  },
  {
   "cell_type": "code",
   "execution_count": 22,
   "id": "7873116f",
   "metadata": {
    "ExecuteTime": {
     "end_time": "2022-03-02T16:21:30.483615Z",
     "start_time": "2022-03-02T16:21:30.457984Z"
    }
   },
   "outputs": [
    {
     "name": "stdout",
     "output_type": "stream",
     "text": [
      "modules loaded\n"
     ]
    }
   ],
   "source": [
    "import warnings\n",
    "warnings.filterwarnings(action='ignore', category=FutureWarning)\n",
    "warnings.filterwarnings(action='ignore', category=DeprecationWarning)\n",
    "import pandas as pd\n",
    "import numpy as np\n",
    "import csv\n",
    "import os\n",
    "import os\n",
    "os.environ['TF_CPP_MIN_LOG_LEVEL'] = '2'\n",
    "import matplotlib.pyplot as plt\n",
    "%matplotlib inline\n",
    "from sklearn.model_selection import train_test_split\n",
    "from keras.utils.np_utils import to_categorical\n",
    "from sklearn import preprocessing\n",
    "from sklearn.metrics import mean_squared_error\n",
    "from keras.preprocessing.text import Tokenizer\n",
    "from sklearn.preprocessing import StandardScaler, LabelBinarizer, OneHotEncoder\n",
    "from sklearn.impute import SimpleImputer\n",
    "from sklearn.model_selection import cross_val_predict\n",
    "import keras\n",
    "from keras.models import Sequential\n",
    "from keras.layers import Dense\n",
    "from keras.callbacks import EarlyStopping, ModelCheckpoint\n",
    "from keras.models import load_model\n",
    "from keras import regularizers\n",
    "from keras.preprocessing.image import ImageDataGenerator, array_to_img, img_to_array, load_img\n",
    "from keras import models\n",
    "from keras import layers\n",
    "from keras import optimizers\n",
    "from keras import initializers\n",
    "from keras.wrappers.scikit_learn import KerasRegressor\n",
    "import tensorflow as tf\n",
    "from tensorflow import keras\n",
    "from tensorflow.keras import backend as K\n",
    "from tensorflow.keras.layers import Dense, Activation, Dropout, Conv2D, MaxPooling2D,BatchNormalization, Flatten\n",
    "from tensorflow.keras.optimizers import Adam, Adamax, RMSprop\n",
    "from tensorflow.keras.metrics import binary_crossentropy, categorical_crossentropy\n",
    "from tensorflow.keras import regularizers\n",
    "from tensorflow.keras.preprocessing import image\n",
    "from tensorflow.keras.models import Model, load_model, Sequential\n",
    "import numpy as np\n",
    "import pandas as pd\n",
    "import shutil\n",
    "import time\n",
    "import cv2 as cv2\n",
    "from tqdm import tqdm\n",
    "from sklearn.model_selection import train_test_split\n",
    "from sklearn.utils import class_weight \n",
    "import matplotlib.pyplot as plt\n",
    "from matplotlib.pyplot import imshow\n",
    "import seaborn as sns\n",
    "sns.set_style('darkgrid')\n",
    "from PIL import Image\n",
    "import time\n",
    "import scipy\n",
    "from scipy import ndimage\n",
    "from sklearn.metrics import confusion_matrix, classification_report, ConfusionMatrixDisplay\n",
    "from IPython.core.display import display, HTML\n",
    "# stop annoying tensorflow warning messages\n",
    "import logging\n",
    "import splitfolders\n",
    "logging.getLogger(\"tensorflow\").setLevel(logging.ERROR)\n",
    "np.random.seed(123)\n",
    "print ('modules loaded')"
   ]
  },
  {
   "cell_type": "markdown",
   "id": "e1f2d3a8",
   "metadata": {},
   "source": [
    "### First we must generate the data in this notebook."
   ]
  },
  {
   "cell_type": "code",
   "execution_count": 2,
   "id": "64c67f64",
   "metadata": {
    "ExecuteTime": {
     "end_time": "2022-03-02T15:43:27.481664Z",
     "start_time": "2022-03-02T15:43:26.948475Z"
    }
   },
   "outputs": [
    {
     "name": "stdout",
     "output_type": "stream",
     "text": [
      "Found 10024 images belonging to 2 classes.\n",
      "Found 2379 images belonging to 2 classes.\n",
      "Found 125 images belonging to 2 classes.\n"
     ]
    }
   ],
   "source": [
    "# Create data generators\n",
    "train_generator = ImageDataGenerator(rescale=1./255).flow_from_directory(\n",
    "        'data/tvt/train',\n",
    "        class_mode='binary',\n",
    "        target_size=(65,65),\n",
    "        batch_size=10024)\n",
    "\n",
    "val_generator = ImageDataGenerator(rescale=1./255).flow_from_directory(\n",
    "        'data/tvt/validation',\n",
    "        class_mode='binary',\n",
    "        target_size=(65,65),\n",
    "        batch_size = 2379)\n",
    "\n",
    "test_generator = ImageDataGenerator(rescale=1./255).flow_from_directory(\n",
    "        'data/tvt/test',\n",
    "        class_mode='binary',\n",
    "        target_size=(65,65),\n",
    "        batch_size = 125)"
   ]
  },
  {
   "cell_type": "code",
   "execution_count": 3,
   "id": "4da04921",
   "metadata": {
    "ExecuteTime": {
     "end_time": "2022-03-02T15:43:36.116847Z",
     "start_time": "2022-03-02T15:43:27.484208Z"
    }
   },
   "outputs": [],
   "source": [
    "# create the data sets\n",
    "train_images, train_labels = next(train_generator)\n",
    "val_images, val_labels = next(val_generator)\n",
    "test_images, test_labels = next(test_generator)"
   ]
  },
  {
   "cell_type": "code",
   "execution_count": 15,
   "id": "74cd6745",
   "metadata": {
    "ExecuteTime": {
     "end_time": "2022-03-02T16:16:46.434002Z",
     "start_time": "2022-03-02T16:16:46.426921Z"
    }
   },
   "outputs": [
    {
     "data": {
      "text/plain": [
       "array([1., 0., 0., 0., 0., 0., 0., 0., 0., 1.], dtype=float32)"
      ]
     },
     "execution_count": 15,
     "metadata": {},
     "output_type": "execute_result"
    }
   ],
   "source": [
    "train_labels[:10]"
   ]
  },
  {
   "cell_type": "code",
   "execution_count": 4,
   "id": "9c7d0161",
   "metadata": {
    "ExecuteTime": {
     "end_time": "2022-03-02T15:43:36.122980Z",
     "start_time": "2022-03-02T15:43:36.118875Z"
    }
   },
   "outputs": [],
   "source": [
    "#  Un-row the image matrices for modeling\n",
    "train_x = train_images.reshape(train_images.shape[0], -1)\n",
    "test_x = test_images.reshape(test_images.shape[0], -1)\n",
    "val_x = val_images.reshape(val_images.shape[0], -1)"
   ]
  },
  {
   "cell_type": "code",
   "execution_count": 5,
   "id": "48bbfb4b",
   "metadata": {
    "ExecuteTime": {
     "end_time": "2022-03-02T15:43:36.132093Z",
     "start_time": "2022-03-02T15:43:36.125141Z"
    }
   },
   "outputs": [],
   "source": [
    "# The datasets is imbalanced so we will define class_weight = balanced\n",
    "class_weights = class_weight.compute_class_weight(class_weight='balanced',\n",
    "                                                  classes=np.unique(train_generator.classes),\n",
    "                                                  y=train_generator.classes\n",
    "                                                 )\n",
    "\n",
    "train_class_weights = dict(enumerate(class_weights))"
   ]
  },
  {
   "cell_type": "markdown",
   "id": "cb907450",
   "metadata": {},
   "source": [
    "## Build a basic Convolutional Neural Network"
   ]
  },
  {
   "cell_type": "code",
   "execution_count": 6,
   "id": "cc0d8986",
   "metadata": {
    "ExecuteTime": {
     "end_time": "2022-03-02T15:43:36.203500Z",
     "start_time": "2022-03-02T15:43:36.135590Z"
    }
   },
   "outputs": [],
   "source": [
    "# Instantiate the model and build it's layers\n",
    "cnn1 = models.Sequential()\n",
    "cnn1.add(layers.Conv2D(16,(3,3), activation='relu', input_shape=(65,65,3)))\n",
    "cnn1.add(layers.MaxPool2D(2,2))\n",
    "cnn1.add(layers.Conv2D(32,(3,3), activation='relu'))\n",
    "cnn1.add(layers.MaxPool2D(2,2))\n",
    "cnn1.add(layers.Conv2D(64,(3,3), activation='relu'))\n",
    "cnn1.add(layers.MaxPool2D(2,2))\n",
    "cnn1.add(layers.Flatten())\n",
    "cnn1.add(layers.Dense(512, activation='relu'))\n",
    "cnn1.add(layers.Dense(1, activation='sigmoid'))"
   ]
  },
  {
   "cell_type": "code",
   "execution_count": 11,
   "id": "fe82fe53",
   "metadata": {
    "ExecuteTime": {
     "end_time": "2022-03-02T16:08:19.488413Z",
     "start_time": "2022-03-02T15:45:47.147346Z"
    }
   },
   "outputs": [
    {
     "name": "stdout",
     "output_type": "stream",
     "text": [
      "Epoch 1/50\n",
      "1/1 [==============================] - 17s 17s/step - loss: 0.7786 - accuracy: 0.3678 - val_loss: 0.6618 - val_accuracy: 0.7297\n",
      "Epoch 2/50\n",
      "1/1 [==============================] - 15s 15s/step - loss: 0.6749 - accuracy: 0.7238 - val_loss: 0.6386 - val_accuracy: 0.7251\n",
      "Epoch 3/50\n",
      "1/1 [==============================] - 15s 15s/step - loss: 0.6582 - accuracy: 0.7254 - val_loss: 0.6224 - val_accuracy: 0.6999\n",
      "Epoch 4/50\n",
      "1/1 [==============================] - 16s 16s/step - loss: 0.6339 - accuracy: 0.7083 - val_loss: 0.5792 - val_accuracy: 0.7104\n",
      "Epoch 5/50\n",
      "1/1 [==============================] - 15s 15s/step - loss: 0.6149 - accuracy: 0.7209 - val_loss: 0.9041 - val_accuracy: 0.3682\n",
      "Epoch 6/50\n",
      "1/1 [==============================] - 16s 16s/step - loss: 0.7709 - accuracy: 0.3678 - val_loss: 0.5784 - val_accuracy: 0.7247\n",
      "Epoch 7/50\n",
      "1/1 [==============================] - 15s 15s/step - loss: 0.6364 - accuracy: 0.7277 - val_loss: 0.6166 - val_accuracy: 0.6873\n",
      "Epoch 8/50\n",
      "1/1 [==============================] - 15s 15s/step - loss: 0.6185 - accuracy: 0.6964 - val_loss: 0.5918 - val_accuracy: 0.7003\n",
      "Epoch 9/50\n",
      "1/1 [==============================] - 16s 16s/step - loss: 0.6071 - accuracy: 0.7071 - val_loss: 0.5967 - val_accuracy: 0.6923\n",
      "Epoch 10/50\n",
      "1/1 [==============================] - 16s 16s/step - loss: 0.6011 - accuracy: 0.6988 - val_loss: 0.5907 - val_accuracy: 0.6974\n",
      "Epoch 11/50\n",
      "1/1 [==============================] - 16s 16s/step - loss: 0.5979 - accuracy: 0.7013 - val_loss: 0.6031 - val_accuracy: 0.6852\n",
      "Epoch 12/50\n",
      "1/1 [==============================] - 15s 15s/step - loss: 0.5966 - accuracy: 0.6947 - val_loss: 0.5718 - val_accuracy: 0.7091\n",
      "Epoch 13/50\n",
      "1/1 [==============================] - 16s 16s/step - loss: 0.6004 - accuracy: 0.7168 - val_loss: 0.6699 - val_accuracy: 0.6259\n",
      "Epoch 14/50\n",
      "1/1 [==============================] - 15s 15s/step - loss: 0.6181 - accuracy: 0.6351 - val_loss: 0.5634 - val_accuracy: 0.7264\n",
      "Epoch 15/50\n",
      "1/1 [==============================] - 15s 15s/step - loss: 0.6241 - accuracy: 0.7283 - val_loss: 0.6245 - val_accuracy: 0.6772\n",
      "Epoch 16/50\n",
      "1/1 [==============================] - 15s 15s/step - loss: 0.6048 - accuracy: 0.6841 - val_loss: 0.5878 - val_accuracy: 0.7028\n",
      "Epoch 17/50\n",
      "1/1 [==============================] - 16s 16s/step - loss: 0.5948 - accuracy: 0.7082 - val_loss: 0.5928 - val_accuracy: 0.6957\n",
      "Epoch 18/50\n",
      "1/1 [==============================] - 16s 16s/step - loss: 0.5927 - accuracy: 0.7030 - val_loss: 0.5900 - val_accuracy: 0.6965\n",
      "Epoch 19/50\n",
      "1/1 [==============================] - 16s 16s/step - loss: 0.5917 - accuracy: 0.7056 - val_loss: 0.5922 - val_accuracy: 0.6961\n",
      "Epoch 20/50\n",
      "1/1 [==============================] - 16s 16s/step - loss: 0.5908 - accuracy: 0.7046 - val_loss: 0.5880 - val_accuracy: 0.7007\n",
      "Epoch 21/50\n",
      "1/1 [==============================] - 16s 16s/step - loss: 0.5899 - accuracy: 0.7094 - val_loss: 0.5958 - val_accuracy: 0.6965\n",
      "Epoch 22/50\n",
      "1/1 [==============================] - 16s 16s/step - loss: 0.5892 - accuracy: 0.7067 - val_loss: 0.5797 - val_accuracy: 0.7037\n",
      "Epoch 23/50\n",
      "1/1 [==============================] - 16s 16s/step - loss: 0.5892 - accuracy: 0.7147 - val_loss: 0.6215 - val_accuracy: 0.6856\n",
      "Epoch 24/50\n",
      "1/1 [==============================] - 16s 16s/step - loss: 0.5931 - accuracy: 0.6907 - val_loss: 0.5602 - val_accuracy: 0.7255\n",
      "Epoch 25/50\n",
      "1/1 [==============================] - 533s 533s/step - loss: 0.6079 - accuracy: 0.7270 - val_loss: 0.6713 - val_accuracy: 0.6368\n",
      "Epoch 26/50\n",
      "1/1 [==============================] - 18s 18s/step - loss: 0.6145 - accuracy: 0.6425 - val_loss: 0.5692 - val_accuracy: 0.7230\n",
      "Epoch 27/50\n",
      "1/1 [==============================] - 17s 17s/step - loss: 0.6015 - accuracy: 0.7263 - val_loss: 0.6018 - val_accuracy: 0.6978\n",
      "Epoch 28/50\n",
      "1/1 [==============================] - 17s 17s/step - loss: 0.5894 - accuracy: 0.7070 - val_loss: 0.5844 - val_accuracy: 0.7053\n",
      "Epoch 29/50\n",
      "1/1 [==============================] - 16s 16s/step - loss: 0.5874 - accuracy: 0.7167 - val_loss: 0.5969 - val_accuracy: 0.7016\n",
      "Epoch 30/50\n",
      "1/1 [==============================] - 16s 16s/step - loss: 0.5868 - accuracy: 0.7116 - val_loss: 0.5822 - val_accuracy: 0.7053\n",
      "Epoch 31/50\n",
      "1/1 [==============================] - 16s 16s/step - loss: 0.5865 - accuracy: 0.7183 - val_loss: 0.6031 - val_accuracy: 0.6986\n",
      "Epoch 32/50\n",
      "1/1 [==============================] - 17s 17s/step - loss: 0.5865 - accuracy: 0.7076 - val_loss: 0.5724 - val_accuracy: 0.7163\n",
      "Epoch 33/50\n",
      "1/1 [==============================] - 17s 17s/step - loss: 0.5881 - accuracy: 0.7254 - val_loss: 0.6375 - val_accuracy: 0.6776\n",
      "Epoch 34/50\n",
      "1/1 [==============================] - 17s 17s/step - loss: 0.5953 - accuracy: 0.6848 - val_loss: 0.5601 - val_accuracy: 0.7264\n",
      "Epoch 35/50\n",
      "1/1 [==============================] - 16s 16s/step - loss: 0.6102 - accuracy: 0.7288 - val_loss: 0.6330 - val_accuracy: 0.6805\n",
      "Epoch 36/50\n",
      "1/1 [==============================] - 19s 19s/step - loss: 0.5973 - accuracy: 0.6848 - val_loss: 0.5775 - val_accuracy: 0.7146\n",
      "Epoch 37/50\n",
      "1/1 [==============================] - 17s 17s/step - loss: 0.5869 - accuracy: 0.7265 - val_loss: 0.6026 - val_accuracy: 0.6999\n",
      "Epoch 38/50\n",
      "1/1 [==============================] - 19s 19s/step - loss: 0.5855 - accuracy: 0.7104 - val_loss: 0.5774 - val_accuracy: 0.7150\n",
      "Epoch 39/50\n",
      "1/1 [==============================] - 17s 17s/step - loss: 0.5855 - accuracy: 0.7250 - val_loss: 0.6083 - val_accuracy: 0.6978\n",
      "Epoch 40/50\n",
      "1/1 [==============================] - 18s 18s/step - loss: 0.5854 - accuracy: 0.7080 - val_loss: 0.5692 - val_accuracy: 0.7226\n",
      "Epoch 41/50\n",
      "1/1 [==============================] - 17s 17s/step - loss: 0.5880 - accuracy: 0.7300 - val_loss: 0.6303 - val_accuracy: 0.6856\n",
      "Epoch 42/50\n",
      "1/1 [==============================] - 16s 16s/step - loss: 0.5910 - accuracy: 0.6929 - val_loss: 0.5628 - val_accuracy: 0.7255\n",
      "Epoch 43/50\n",
      "1/1 [==============================] - 18s 18s/step - loss: 0.5974 - accuracy: 0.7293 - val_loss: 0.6236 - val_accuracy: 0.6889\n",
      "Epoch 44/50\n",
      "1/1 [==============================] - 18s 18s/step - loss: 0.5898 - accuracy: 0.6981 - val_loss: 0.5710 - val_accuracy: 0.7201\n",
      "Epoch 45/50\n",
      "1/1 [==============================] - 17s 17s/step - loss: 0.5863 - accuracy: 0.7284 - val_loss: 0.6135 - val_accuracy: 0.6948\n",
      "Epoch 46/50\n",
      "1/1 [==============================] - 18s 18s/step - loss: 0.5853 - accuracy: 0.7070 - val_loss: 0.5704 - val_accuracy: 0.7209\n",
      "Epoch 47/50\n",
      "1/1 [==============================] - 17s 17s/step - loss: 0.5856 - accuracy: 0.7293 - val_loss: 0.6200 - val_accuracy: 0.6940\n",
      "Epoch 48/50\n",
      "1/1 [==============================] - 17s 17s/step - loss: 0.5861 - accuracy: 0.7016 - val_loss: 0.5648 - val_accuracy: 0.7243\n",
      "Epoch 49/50\n",
      "1/1 [==============================] - 17s 17s/step - loss: 0.5907 - accuracy: 0.7311 - val_loss: 0.6261 - val_accuracy: 0.6885\n",
      "Epoch 50/50\n",
      "1/1 [==============================] - 15s 15s/step - loss: 0.5881 - accuracy: 0.6981 - val_loss: 0.5666 - val_accuracy: 0.7247\n"
     ]
    }
   ],
   "source": [
    "# Compile the model\n",
    "cnn1.compile(optimizer=RMSprop(learning_rate=0.001),\n",
    "            loss='binary_crossentropy',\n",
    "            metrics=['accuracy'])\n",
    "\n",
    "# Fit and Train the model\n",
    "cnn1_history = cnn1.fit(train_generator,\n",
    "                        epochs=50,\n",
    "                        batch_size=5000,\n",
    "                        validation_data=(val_generator),\n",
    "                        class_weight=train_class_weights,)"
   ]
  },
  {
   "cell_type": "code",
   "execution_count": 29,
   "id": "8230afd6",
   "metadata": {
    "ExecuteTime": {
     "end_time": "2022-03-02T16:29:50.852596Z",
     "start_time": "2022-03-02T16:29:50.842985Z"
    }
   },
   "outputs": [],
   "source": [
    "# Create visualization functions\n",
    "\n",
    "def visualize_training_results(results):\n",
    "    history = results.history\n",
    "    fig, (ax1, ax2) = plt.subplots(ncols=2, figsize=(17,5))\n",
    "    ax1.plot(history['loss'], label='Loss')\n",
    "    ax1.plot(history['val_loss'], label='Val Loss')\n",
    "    ax1.grid(False)\n",
    "    ax1.legend()\n",
    "\n",
    "    ax2.plot(history['accuracy'], label = 'Accuracy')\n",
    "    ax2.plot(history['val_accuracy'], label='Val Accuracy')\n",
    "    ax2.grid(False)\n",
    "    ax2.legend();\n",
    "\n",
    "def plot_confusion_matrix(model, y_true, y_images):\n",
    "    predictions = model.predict(y_images)\n",
    "    y_pred = np.round(predictions, 0)\n",
    "    y_pred = np.reshape(y_pred, -1)\n",
    "\n",
    "    print(classification_report(y_true, y_pred))\n",
    "    \n",
    "    cm = confusion_matrix(y_true, y_pred)\n",
    "    disp = ConfusionMatrixDisplay(confusion_matrix=cm, display_labels=['ALL','Normal'])\n",
    "    disp.plot(cmap=plt.cm.Blues)\n",
    "    plt.grid(False)\n",
    "    plt.show()   "
   ]
  },
  {
   "cell_type": "code",
   "execution_count": 30,
   "id": "a7bca945",
   "metadata": {
    "ExecuteTime": {
     "end_time": "2022-03-02T16:29:53.092931Z",
     "start_time": "2022-03-02T16:29:52.863933Z"
    }
   },
   "outputs": [
    {
     "data": {
      "image/png": "[encoded data removed]",
      "text/plain": [
       "<Figure size 1224x360 with 2 Axes>"
      ]
     },
     "metadata": {},
     "output_type": "display_data"
    }
   ],
   "source": [
    "# Visualize CNN1 results\n",
    "visualize_training_results(cnn1_history)"
   ]
  },
  {
   "cell_type": "code",
   "execution_count": 33,
   "id": "bd062b10",
   "metadata": {
    "ExecuteTime": {
     "end_time": "2022-03-02T16:30:49.892403Z",
     "start_time": "2022-03-02T16:30:49.683274Z"
    }
   },
   "outputs": [
    {
     "name": "stdout",
     "output_type": "stream",
     "text": [
      "1/1 [==============================] - 0s 114ms/step - loss: 0.5115 - accuracy: 0.7920\n"
     ]
    }
   ],
   "source": [
    "test_results = cnn1.evaluate(test_generator)"
   ]
  },
  {
   "cell_type": "code",
   "execution_count": 32,
   "id": "fefc2622",
   "metadata": {
    "ExecuteTime": {
     "end_time": "2022-03-02T16:29:54.962120Z",
     "start_time": "2022-03-02T16:29:54.780941Z"
    }
   },
   "outputs": [
    {
     "name": "stdout",
     "output_type": "stream",
     "text": [
      "              precision    recall  f1-score   support\n",
      "\n",
      "         0.0       0.80      0.90      0.85        79\n",
      "         1.0       0.78      0.61      0.68        46\n",
      "\n",
      "    accuracy                           0.79       125\n",
      "   macro avg       0.79      0.75      0.76       125\n",
      "weighted avg       0.79      0.79      0.79       125\n",
      "\n"
     ]
    },
    {
     "data": {
      "image/png": "[encoded data removed]",
      "text/plain": [
       "<Figure size 432x288 with 2 Axes>"
      ]
     },
     "metadata": {},
     "output_type": "display_data"
    }
   ],
   "source": [
    "plot_confusion_matrix(cnn1, test_labels, test_images)"
   ]
  },
  {
   "cell_type": "code",
   "execution_count": null,
   "id": "721b6e98",
   "metadata": {},
   "outputs": [],
   "source": []
  }
 ],
 "metadata": {
  "hide_input": false,
  "kernelspec": {
   "display_name": "Python 3 (ipykernel)",
   "language": "python",
   "name": "python3"
  },
  "language_info": {
   "codemirror_mode": {
    "name": "ipython",
    "version": 3
   },
   "file_extension": ".py",
   "mimetype": "text/x-python",
   "name": "python",
   "nbconvert_exporter": "python",
   "pygments_lexer": "ipython3",
   "version": "3.9.7"
  }
 },
 "nbformat": 4,
 "nbformat_minor": 5
}
