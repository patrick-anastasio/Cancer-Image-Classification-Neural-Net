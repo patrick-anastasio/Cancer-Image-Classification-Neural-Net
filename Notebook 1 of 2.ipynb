{
 "cells": [
  {
   "cell_type": "markdown",
   "id": "721107fc",
   "metadata": {},
   "source": [
    "# Acute Lymphoblastic Leukemia (ALL) Diagnosis Using Neural Networks"
   ]
  },
  {
   "cell_type": "markdown",
   "id": "42c713e3",
   "metadata": {
    "ExecuteTime": {
     "start_time": "2022-03-03T22:54:58.404Z"
    }
   },
   "source": [
    "[A Guide to Leukemia](https://www.healthline.com/health/leukemia)\n",
    "\n",
    "[Survival Rates and Outlook for Acute Lymphocytic Leukemia (ALL)](https://www.healthline.com/health/acute-lymphocytic-leukemia-survival-rate-outlook)"
   ]
  },
  {
   "cell_type": "markdown",
   "id": "1738dbf9",
   "metadata": {},
   "source": [
    "![Spirits UP](data/happy_young_girl_with_cancer-1200x628-facebook-1200x628.jpeg)"
   ]
  },
  {
   "attachments": {},
   "cell_type": "markdown",
   "id": "18a27e30",
   "metadata": {},
   "source": [
    "## Business Understanding:\n",
    "\n",
    ">Cancer is the second leading cause of death in children aged 5 to 14, and leukemia is the most prevalent cancer in children. Survival rate is directly correlated with how early it is caught. If we can catch the leukemia early enough, we can save the lives of many children. I seek to create a diagnosing method to accurately diagnose leukemia by taking pictures of white blood cells and predicting if they are normal or leukemia cells. Accurately diagnosing leukemia cells early on can save many lives. A Machine Learning model that can accurately identify leukemia cells will enhance the medical profession’s ability to diagnosis at an early stage. Humans are prone to error so a model that can accurately predict will cut down on that human error.\n"
   ]
  },
  {
   "attachments": {},
   "cell_type": "markdown",
   "id": "df931a08",
   "metadata": {},
   "source": [
    "## Data Understanding\n",
    "\n",
    "Leukemia manifests itself in immature white blood cells called blasts. My data will be images of white blood cells that have been analyzed under a microscope and labeled as normal or cancerous.\n",
    "\n",
    "The dataset I will be using comes from the [Cancer Imaging Archive](https://wiki.cancerimagingarchive.net/pages/viewpage.action?pageId=52758223)"
   ]
  },
  {
   "cell_type": "code",
   "execution_count": null,
   "id": "3c56d9b1",
   "metadata": {},
   "outputs": [],
   "source": []
  },
  {
   "cell_type": "code",
   "execution_count": null,
   "id": "d7f56b6e",
   "metadata": {},
   "outputs": [],
   "source": []
  },
  {
   "cell_type": "code",
   "execution_count": null,
   "id": "b9939a03",
   "metadata": {},
   "outputs": [],
   "source": []
  },
  {
   "cell_type": "code",
   "execution_count": null,
   "id": "fd9584cc",
   "metadata": {},
   "outputs": [],
   "source": []
  },
  {
   "cell_type": "code",
   "execution_count": null,
   "id": "9d3fb9f7",
   "metadata": {},
   "outputs": [],
   "source": []
  },
  {
   "cell_type": "code",
   "execution_count": null,
   "id": "62206b6d",
   "metadata": {},
   "outputs": [],
   "source": []
  },
  {
   "cell_type": "code",
   "execution_count": 11,
   "id": "5983aa4e",
   "metadata": {
    "ExecuteTime": {
     "end_time": "2022-03-02T20:11:37.598206Z",
     "start_time": "2022-03-02T20:11:37.575668Z"
    }
   },
   "outputs": [
    {
     "name": "stdout",
     "output_type": "stream",
     "text": [
      "Tensorflow version: 2.8.0\n",
      "modules loaded\n"
     ]
    }
   ],
   "source": [
    "import warnings\n",
    "warnings.filterwarnings(action='ignore', category=FutureWarning)\n",
    "warnings.filterwarnings(action='ignore', category=DeprecationWarning)\n",
    "import pandas as pd\n",
    "import numpy as np\n",
    "import csv\n",
    "import os\n",
    "import os\n",
    "os.environ['TF_CPP_MIN_LOG_LEVEL'] = '2'\n",
    "os.environ['KMP_DUPLICATE_LIB_OK']='True'\n",
    "import matplotlib.pyplot as plt\n",
    "%matplotlib inline\n",
    "from sklearn.model_selection import train_test_split\n",
    "from keras.utils.np_utils import to_categorical\n",
    "from sklearn import preprocessing\n",
    "from sklearn.metrics import mean_squared_error\n",
    "from keras.preprocessing.text import Tokenizer\n",
    "from sklearn.preprocessing import StandardScaler, LabelBinarizer, OneHotEncoder\n",
    "from sklearn.impute import SimpleImputer\n",
    "from sklearn.model_selection import cross_val_predict\n",
    "import keras\n",
    "from keras.models import Sequential\n",
    "from keras.layers import Dense\n",
    "from keras.callbacks import EarlyStopping, ModelCheckpoint\n",
    "from keras.models import load_model\n",
    "from keras import regularizers\n",
    "from keras.preprocessing.image import ImageDataGenerator, array_to_img, img_to_array, load_img\n",
    "from keras import models\n",
    "from keras import layers\n",
    "from keras import optimizers\n",
    "from keras import initializers\n",
    "from keras.wrappers.scikit_learn import KerasRegressor\n",
    "import tensorflow as tf\n",
    "print (\"Tensorflow version:\", tf.__version__)\n",
    "from tensorflow import keras\n",
    "from tensorflow.keras import backend as K\n",
    "from tensorflow.keras.layers import Dense, Activation, Dropout, Conv2D, MaxPooling2D, BatchNormalization, Flatten\n",
    "from tensorflow.keras.optimizers import Adam, Adamax, RMSprop\n",
    "from tensorflow.keras.metrics import binary_crossentropy, categorical_crossentropy\n",
    "from tensorflow.keras import regularizers\n",
    "from tensorflow.keras.preprocessing import image\n",
    "from tensorflow.keras.models import Model, load_model, Sequential\n",
    "import numpy as np\n",
    "import pandas as pd\n",
    "import shutil\n",
    "import time\n",
    "import cv2 as cv2\n",
    "from tqdm import tqdm\n",
    "from sklearn.model_selection import train_test_split\n",
    "from sklearn.utils import class_weight \n",
    "import matplotlib.pyplot as plt\n",
    "from matplotlib.pyplot import imshow\n",
    "import seaborn as sns\n",
    "sns.set_style('darkgrid')\n",
    "from PIL import Image\n",
    "import time\n",
    "import scipy\n",
    "from scipy import ndimage\n",
    "from sklearn.metrics import confusion_matrix, classification_report, ConfusionMatrixDisplay\n",
    "from IPython.core.display import display, HTML\n",
    "# stop annoying tensorflow warning messages\n",
    "import logging\n",
    "import splitfolders\n",
    "logging.getLogger(\"tensorflow\").setLevel(logging.ERROR)\n",
    "np.random.seed(123)\n",
    "print ('modules loaded')"
   ]
  },
  {
   "cell_type": "markdown",
   "id": "e96705a9",
   "metadata": {},
   "source": [
    "## *Data Pre-Processing*"
   ]
  },
  {
   "cell_type": "markdown",
   "id": "8a75fca5",
   "metadata": {},
   "source": [
    "#### The Data for this project can be downloaded [here](https://wiki.cancerimagingarchive.net/pages/viewpage.action?pageId=52758223)\n",
    "\n",
    "### The data for this project was acquired in three parts:\n",
    "\n",
    "> #### 1) A training set separated into 3 directories, each with separate class labeled directories\n",
    "> #### 2) A validation set with all images in the same directory and a CSV file with filenames and class labels\n",
    "> #### 3) A test set with no class labels\n",
    "\n",
    "- #### We will combine all the data of the training and validation sets into labeled directories and split the whole into training, validation, and test sets for use in this project.\n",
    "\n",
    "- #### We will re-name the provided test set and to \"unlabeled\" and reserve it for demonstration purposes, as there is no way of knowing if the predicitions are correct and how a partivular model is performing with it."
   ]
  },
  {
   "cell_type": "markdown",
   "id": "b11e7c89",
   "metadata": {},
   "source": [
    "### Training Data:"
   ]
  },
  {
   "cell_type": "code",
   "execution_count": 2,
   "id": "f2c6404f",
   "metadata": {
    "ExecuteTime": {
     "end_time": "2022-03-02T19:07:51.741907Z",
     "start_time": "2022-03-02T19:07:51.715888Z"
    }
   },
   "outputs": [],
   "source": [
    "# Set paths of 3x2 pre-labeled directories\n",
    "f0_data_training_ALL_dir = 'data/PKG - C-NMC_Leukemia/C-NMC_Leukemia/C-NMC_training_data/fold_0/all/'\n",
    "f0_data_training_Normal_dir = 'data/PKG - C-NMC_Leukemia/C-NMC_Leukemia/C-NMC_training_data/fold_0/hem/'\n",
    "\n",
    "f1_data_training_ALL_dir = 'data/PKG - C-NMC_Leukemia/C-NMC_Leukemia/C-NMC_training_data/fold_1/all/'\n",
    "f1_data_training_Normal_dir = 'data/PKG - C-NMC_Leukemia/C-NMC_Leukemia/C-NMC_training_data/fold_1/hem/'\n",
    "\n",
    "f2_data_training_ALL_dir = 'data/PKG - C-NMC_Leukemia/C-NMC_Leukemia/C-NMC_training_data/fold_2/all/'\n",
    "f2_data_training_Normal_dir = 'data/PKG - C-NMC_Leukemia/C-NMC_Leukemia/C-NMC_training_data/fold_2/hem/'\n",
    "\n",
    "# Create lists of all ALL images in these directories\n",
    "f0_imgs_ALL = [file for file in os.listdir(f0_data_training_ALL_dir) if file.endswith('.bmp')]\n",
    "f1_imgs_ALL = [file for file in os.listdir(f1_data_training_ALL_dir) if file.endswith('.bmp')]\n",
    "f2_imgs_ALL = [file for file in os.listdir(f2_data_training_ALL_dir) if file.endswith('.bmp')]\n",
    "\n",
    "# Create lists of all Normal images in these directories\n",
    "f0_imgs_Normal = [file for file in os.listdir(f0_data_training_Normal_dir) if file.endswith('.bmp')]\n",
    "f1_imgs_Normal = [file for file in os.listdir(f1_data_training_Normal_dir) if file.endswith('.bmp')]\n",
    "f2_imgs_Normal = [file for file in os.listdir(f2_data_training_Normal_dir) if file.endswith('.bmp')]\n"
   ]
  },
  {
   "cell_type": "markdown",
   "id": "9b5322b4",
   "metadata": {},
   "source": [
    "### Validation Data"
   ]
  },
  {
   "cell_type": "code",
   "execution_count": 3,
   "id": "4f824483",
   "metadata": {
    "ExecuteTime": {
     "end_time": "2022-03-02T19:07:51.767092Z",
     "start_time": "2022-03-02T19:07:51.747780Z"
    }
   },
   "outputs": [
    {
     "data": {
      "text/html": [
       "<div>\n",
       "<style scoped>\n",
       "    .dataframe tbody tr th:only-of-type {\n",
       "        vertical-align: middle;\n",
       "    }\n",
       "\n",
       "    .dataframe tbody tr th {\n",
       "        vertical-align: top;\n",
       "    }\n",
       "\n",
       "    .dataframe thead th {\n",
       "        text-align: right;\n",
       "    }\n",
       "</style>\n",
       "<table border=\"1\" class=\"dataframe\">\n",
       "  <thead>\n",
       "    <tr style=\"text-align: right;\">\n",
       "      <th></th>\n",
       "      <th>Patient_ID</th>\n",
       "      <th>new_names</th>\n",
       "      <th>labels</th>\n",
       "    </tr>\n",
       "  </thead>\n",
       "  <tbody>\n",
       "    <tr>\n",
       "      <th>0</th>\n",
       "      <td>UID_57_29_1_all.bmp</td>\n",
       "      <td>1.bmp</td>\n",
       "      <td>1</td>\n",
       "    </tr>\n",
       "    <tr>\n",
       "      <th>1</th>\n",
       "      <td>UID_57_22_2_all.bmp</td>\n",
       "      <td>2.bmp</td>\n",
       "      <td>1</td>\n",
       "    </tr>\n",
       "    <tr>\n",
       "      <th>2</th>\n",
       "      <td>UID_57_31_3_all.bmp</td>\n",
       "      <td>3.bmp</td>\n",
       "      <td>1</td>\n",
       "    </tr>\n",
       "    <tr>\n",
       "      <th>3</th>\n",
       "      <td>UID_H49_35_1_hem.bmp</td>\n",
       "      <td>4.bmp</td>\n",
       "      <td>0</td>\n",
       "    </tr>\n",
       "    <tr>\n",
       "      <th>4</th>\n",
       "      <td>UID_58_6_13_all.bmp</td>\n",
       "      <td>5.bmp</td>\n",
       "      <td>1</td>\n",
       "    </tr>\n",
       "  </tbody>\n",
       "</table>\n",
       "</div>"
      ],
      "text/plain": [
       "             Patient_ID new_names  labels\n",
       "0   UID_57_29_1_all.bmp     1.bmp       1\n",
       "1   UID_57_22_2_all.bmp     2.bmp       1\n",
       "2   UID_57_31_3_all.bmp     3.bmp       1\n",
       "3  UID_H49_35_1_hem.bmp     4.bmp       0\n",
       "4   UID_58_6_13_all.bmp     5.bmp       1"
      ]
     },
     "execution_count": 3,
     "metadata": {},
     "output_type": "execute_result"
    }
   ],
   "source": [
    "# Set paths of directory\n",
    "data_val_dir = 'data/PKG - C-NMC_Leukemia/C-NMC_Leukemia/C-NMC_test_prelim_phase_data/'\n",
    "\n",
    "# Read in and inspect the dataframe with the filenames and labels\n",
    "val_df = pd.read_csv('data/PKG - C-NMC_Leukemia/C-NMC_Leukemia/C-NMC_test_prelim_phase_data/C-NMC_test_prelim_phase_data_labels.csv')\n",
    "\n",
    "val_df.head()"
   ]
  },
  {
   "cell_type": "code",
   "execution_count": 4,
   "id": "5084bf2c",
   "metadata": {
    "ExecuteTime": {
     "end_time": "2022-03-02T19:07:51.786958Z",
     "start_time": "2022-03-02T19:07:51.772587Z"
    }
   },
   "outputs": [
    {
     "data": {
      "text/html": [
       "<div>\n",
       "<style scoped>\n",
       "    .dataframe tbody tr th:only-of-type {\n",
       "        vertical-align: middle;\n",
       "    }\n",
       "\n",
       "    .dataframe tbody tr th {\n",
       "        vertical-align: top;\n",
       "    }\n",
       "\n",
       "    .dataframe thead th {\n",
       "        text-align: right;\n",
       "    }\n",
       "</style>\n",
       "<table border=\"1\" class=\"dataframe\">\n",
       "  <thead>\n",
       "    <tr style=\"text-align: right;\">\n",
       "      <th></th>\n",
       "      <th>new_names</th>\n",
       "      <th>labels</th>\n",
       "    </tr>\n",
       "  </thead>\n",
       "  <tbody>\n",
       "    <tr>\n",
       "      <th>0</th>\n",
       "      <td>1.bmp</td>\n",
       "      <td>Normal</td>\n",
       "    </tr>\n",
       "    <tr>\n",
       "      <th>1</th>\n",
       "      <td>2.bmp</td>\n",
       "      <td>Normal</td>\n",
       "    </tr>\n",
       "    <tr>\n",
       "      <th>2</th>\n",
       "      <td>3.bmp</td>\n",
       "      <td>Normal</td>\n",
       "    </tr>\n",
       "    <tr>\n",
       "      <th>3</th>\n",
       "      <td>4.bmp</td>\n",
       "      <td>ALL</td>\n",
       "    </tr>\n",
       "    <tr>\n",
       "      <th>4</th>\n",
       "      <td>5.bmp</td>\n",
       "      <td>Normal</td>\n",
       "    </tr>\n",
       "  </tbody>\n",
       "</table>\n",
       "</div>"
      ],
      "text/plain": [
       "  new_names  labels\n",
       "0     1.bmp  Normal\n",
       "1     2.bmp  Normal\n",
       "2     3.bmp  Normal\n",
       "3     4.bmp     ALL\n",
       "4     5.bmp  Normal"
      ]
     },
     "execution_count": 4,
     "metadata": {},
     "output_type": "execute_result"
    }
   ],
   "source": [
    "# Change labels to use \"binary\" class_mode\n",
    "val_df = val_df.replace({'labels':{0 : 'ALL', 1 : 'Normal'}})\n",
    "\n",
    "# filenames do not use 'Patient_ID', so drop the column\n",
    "val_df = val_df.drop('Patient_ID', axis=1)\n",
    "\n",
    "val_df.head()"
   ]
  },
  {
   "cell_type": "code",
   "execution_count": 5,
   "id": "833695a8",
   "metadata": {
    "ExecuteTime": {
     "end_time": "2022-03-02T19:07:51.796984Z",
     "start_time": "2022-03-02T19:07:51.789701Z"
    }
   },
   "outputs": [],
   "source": [
    "# Group the the df by labels so we can split them\n",
    "val_split_df = val_df.groupby('labels')\n",
    "\n",
    "# Split the filenames into separate df's and create lists of them\n",
    "val_ALL_df = val_split_df.get_group('ALL')\n",
    "val_images_ALL = [img for img in val_ALL_df.new_names]\n",
    "\n",
    "val_Normal_df = val_split_df.get_group('Normal')\n",
    "val_images_Normal = [img for img in val_Normal_df.new_names]"
   ]
  },
  {
   "cell_type": "code",
   "execution_count": 6,
   "id": "c046fb43",
   "metadata": {
    "ExecuteTime": {
     "end_time": "2022-03-02T19:07:51.806179Z",
     "start_time": "2022-03-02T19:07:51.799112Z"
    }
   },
   "outputs": [
    {
     "data": {
      "text/html": [
       "<div>\n",
       "<style scoped>\n",
       "    .dataframe tbody tr th:only-of-type {\n",
       "        vertical-align: middle;\n",
       "    }\n",
       "\n",
       "    .dataframe tbody tr th {\n",
       "        vertical-align: top;\n",
       "    }\n",
       "\n",
       "    .dataframe thead th {\n",
       "        text-align: right;\n",
       "    }\n",
       "</style>\n",
       "<table border=\"1\" class=\"dataframe\">\n",
       "  <thead>\n",
       "    <tr style=\"text-align: right;\">\n",
       "      <th></th>\n",
       "      <th>new_names</th>\n",
       "      <th>labels</th>\n",
       "    </tr>\n",
       "  </thead>\n",
       "  <tbody>\n",
       "    <tr>\n",
       "      <th>3</th>\n",
       "      <td>4.bmp</td>\n",
       "      <td>ALL</td>\n",
       "    </tr>\n",
       "    <tr>\n",
       "      <th>6</th>\n",
       "      <td>7.bmp</td>\n",
       "      <td>ALL</td>\n",
       "    </tr>\n",
       "    <tr>\n",
       "      <th>7</th>\n",
       "      <td>8.bmp</td>\n",
       "      <td>ALL</td>\n",
       "    </tr>\n",
       "    <tr>\n",
       "      <th>12</th>\n",
       "      <td>13.bmp</td>\n",
       "      <td>ALL</td>\n",
       "    </tr>\n",
       "    <tr>\n",
       "      <th>13</th>\n",
       "      <td>14.bmp</td>\n",
       "      <td>ALL</td>\n",
       "    </tr>\n",
       "  </tbody>\n",
       "</table>\n",
       "</div>"
      ],
      "text/plain": [
       "   new_names labels\n",
       "3      4.bmp    ALL\n",
       "6      7.bmp    ALL\n",
       "7      8.bmp    ALL\n",
       "12    13.bmp    ALL\n",
       "13    14.bmp    ALL"
      ]
     },
     "execution_count": 6,
     "metadata": {},
     "output_type": "execute_result"
    }
   ],
   "source": [
    "val_ALL_df.head()"
   ]
  },
  {
   "cell_type": "code",
   "execution_count": 7,
   "id": "9b8d0c00",
   "metadata": {
    "ExecuteTime": {
     "end_time": "2022-03-02T19:07:51.812028Z",
     "start_time": "2022-03-02T19:07:51.808201Z"
    }
   },
   "outputs": [
    {
     "data": {
      "text/plain": [
       "['4.bmp', '7.bmp', '8.bmp', '13.bmp', '14.bmp']"
      ]
     },
     "execution_count": 7,
     "metadata": {},
     "output_type": "execute_result"
    }
   ],
   "source": [
    "val_images_ALL[:5]"
   ]
  },
  {
   "cell_type": "code",
   "execution_count": 8,
   "id": "58d70dc1",
   "metadata": {
    "ExecuteTime": {
     "end_time": "2022-03-02T19:07:51.823139Z",
     "start_time": "2022-03-02T19:07:51.813495Z"
    }
   },
   "outputs": [
    {
     "data": {
      "text/html": [
       "<div>\n",
       "<style scoped>\n",
       "    .dataframe tbody tr th:only-of-type {\n",
       "        vertical-align: middle;\n",
       "    }\n",
       "\n",
       "    .dataframe tbody tr th {\n",
       "        vertical-align: top;\n",
       "    }\n",
       "\n",
       "    .dataframe thead th {\n",
       "        text-align: right;\n",
       "    }\n",
       "</style>\n",
       "<table border=\"1\" class=\"dataframe\">\n",
       "  <thead>\n",
       "    <tr style=\"text-align: right;\">\n",
       "      <th></th>\n",
       "      <th>new_names</th>\n",
       "      <th>labels</th>\n",
       "    </tr>\n",
       "  </thead>\n",
       "  <tbody>\n",
       "    <tr>\n",
       "      <th>0</th>\n",
       "      <td>1.bmp</td>\n",
       "      <td>Normal</td>\n",
       "    </tr>\n",
       "    <tr>\n",
       "      <th>1</th>\n",
       "      <td>2.bmp</td>\n",
       "      <td>Normal</td>\n",
       "    </tr>\n",
       "    <tr>\n",
       "      <th>2</th>\n",
       "      <td>3.bmp</td>\n",
       "      <td>Normal</td>\n",
       "    </tr>\n",
       "    <tr>\n",
       "      <th>4</th>\n",
       "      <td>5.bmp</td>\n",
       "      <td>Normal</td>\n",
       "    </tr>\n",
       "    <tr>\n",
       "      <th>5</th>\n",
       "      <td>6.bmp</td>\n",
       "      <td>Normal</td>\n",
       "    </tr>\n",
       "  </tbody>\n",
       "</table>\n",
       "</div>"
      ],
      "text/plain": [
       "  new_names  labels\n",
       "0     1.bmp  Normal\n",
       "1     2.bmp  Normal\n",
       "2     3.bmp  Normal\n",
       "4     5.bmp  Normal\n",
       "5     6.bmp  Normal"
      ]
     },
     "execution_count": 8,
     "metadata": {},
     "output_type": "execute_result"
    }
   ],
   "source": [
    "val_Normal_df.head()"
   ]
  },
  {
   "cell_type": "code",
   "execution_count": 9,
   "id": "d9743c21",
   "metadata": {
    "ExecuteTime": {
     "end_time": "2022-03-02T19:07:51.831407Z",
     "start_time": "2022-03-02T19:07:51.825520Z"
    }
   },
   "outputs": [
    {
     "data": {
      "text/plain": [
       "['1.bmp', '2.bmp', '3.bmp', '5.bmp', '6.bmp']"
      ]
     },
     "execution_count": 9,
     "metadata": {},
     "output_type": "execute_result"
    }
   ],
   "source": [
    "val_images_Normal[:5]"
   ]
  },
  {
   "cell_type": "markdown",
   "id": "814c7fdd",
   "metadata": {},
   "source": [
    "### Combine the data into one directory"
   ]
  },
  {
   "cell_type": "code",
   "execution_count": 10,
   "id": "e1914317",
   "metadata": {
    "ExecuteTime": {
     "end_time": "2022-03-02T19:07:51.839246Z",
     "start_time": "2022-03-02T19:07:51.834178Z"
    }
   },
   "outputs": [],
   "source": [
    "# Set new directory path for all images to be combined\n",
    "new_dir = 'data/labeled_images/'\n",
    "combo_ALL_dir = os.path.join(new_dir, 'ALL')\n",
    "combo_Normal_dir = os.path.join(new_dir, 'Normal')\n",
    "\n",
    "# Create the new directory\n",
    "os.mkdir(new_dir)\n",
    "os.mkdir(combo_ALL_dir)\n",
    "os.mkdir(combo_Normal_dir)"
   ]
  },
  {
   "cell_type": "code",
   "execution_count": 11,
   "id": "b9421509",
   "metadata": {
    "ExecuteTime": {
     "end_time": "2022-03-02T19:07:53.411675Z",
     "start_time": "2022-03-02T19:07:51.847451Z"
    }
   },
   "outputs": [],
   "source": [
    "#  Move images from training_data directories:\n",
    "\n",
    "# ALL\n",
    "for img in f0_imgs_ALL:\n",
    "    origin = os.path.join(f0_data_training_ALL_dir, img)\n",
    "    destination = os.path.join(combo_ALL_dir, img)\n",
    "    os.rename(origin, destination)\n",
    "    \n",
    "for img in f1_imgs_ALL:\n",
    "    origin = os.path.join(f1_data_training_ALL_dir, img)\n",
    "    destination = os.path.join(combo_ALL_dir, img)\n",
    "    os.rename(origin, destination)\n",
    "    \n",
    "for img in f2_imgs_ALL:\n",
    "    origin = os.path.join(f2_data_training_ALL_dir, img)\n",
    "    destination = os.path.join(combo_ALL_dir, img)\n",
    "    os.rename(origin, destination)\n",
    "    \n",
    "# Normal\n",
    "for img in f0_imgs_Normal:\n",
    "    origin = os.path.join(f0_data_training_Normal_dir, img)\n",
    "    destination = os.path.join(combo_Normal_dir, img)\n",
    "    os.rename(origin, destination)\n",
    "    \n",
    "for img in f1_imgs_Normal:\n",
    "    origin = os.path.join(f1_data_training_Normal_dir, img)\n",
    "    destination = os.path.join(combo_Normal_dir, img)\n",
    "    os.rename(origin, destination)\n",
    "    \n",
    "for img in f2_imgs_Normal:\n",
    "    origin = os.path.join(f2_data_training_Normal_dir, img)\n",
    "    destination = os.path.join(combo_Normal_dir, img)\n",
    "    os.rename(origin, destination)"
   ]
  },
  {
   "cell_type": "code",
   "execution_count": 12,
   "id": "9457b6f4",
   "metadata": {
    "ExecuteTime": {
     "end_time": "2022-03-02T19:07:53.717576Z",
     "start_time": "2022-03-02T19:07:53.413257Z"
    }
   },
   "outputs": [],
   "source": [
    "#  Move images from validation_data directory:\n",
    "\n",
    "# ALL\n",
    "for img in val_images_ALL:\n",
    "    origin = os.path.join(data_val_dir, img)\n",
    "    destination = os.path.join(combo_ALL_dir, img)\n",
    "    os.rename(origin, destination)\n",
    "\n",
    "# Normal\n",
    "for img in val_images_Normal:\n",
    "    origin = os.path.join(data_val_dir, img)\n",
    "    destination = os.path.join(combo_Normal_dir, img)\n",
    "    os.rename(origin, destination)\n"
   ]
  },
  {
   "cell_type": "code",
   "execution_count": 13,
   "id": "a49bcfd6",
   "metadata": {
    "ExecuteTime": {
     "end_time": "2022-03-02T19:07:53.767307Z",
     "start_time": "2022-03-02T19:07:53.719342Z"
    }
   },
   "outputs": [
    {
     "name": "stdout",
     "output_type": "stream",
     "text": [
      "There are 12528 total images\n",
      "--------------------------------\n",
      "There are 7920 ALL cell images\n",
      "There are 4608 Normal cell images\n"
     ]
    }
   ],
   "source": [
    "total = len(os.listdir(combo_ALL_dir)) + len(os.listdir(combo_Normal_dir))\n",
    "print('There are', len(os.listdir(combo_ALL_dir)) + len(os.listdir(combo_Normal_dir)), 'total images')\n",
    "print(\"--------------------------------\")\n",
    "print('There are', len(os.listdir(combo_ALL_dir)), 'ALL cell images')\n",
    "print('There are', len(os.listdir(combo_Normal_dir)), 'Normal cell images')\n"
   ]
  },
  {
   "cell_type": "markdown",
   "id": "c65c4d0f",
   "metadata": {},
   "source": [
    "### Split the data into training, validation, and test sets\n",
    ">### Training   ~ 80%\n",
    ">### Validation ~ 19%\n",
    ">### Test       ~ 1%"
   ]
  },
  {
   "cell_type": "code",
   "execution_count": 14,
   "id": "2ed9c5d9",
   "metadata": {
    "ExecuteTime": {
     "end_time": "2022-03-02T19:07:53.776178Z",
     "start_time": "2022-03-02T19:07:53.769168Z"
    }
   },
   "outputs": [],
   "source": [
    "# Create new directory for the training, validation, and testing datasets\n",
    "tvt_dir = 'data/tvt/'\n",
    "os.mkdir(tvt_dir)\n",
    "\n",
    "# Create paths for new dirctory datasets and class label folders\n",
    "train_folder = os.path.join(tvt_dir, 'train')\n",
    "train_ALL = os.path.join(train_folder, 'ALL')\n",
    "train_Normal = os.path.join(train_folder, 'Normal')\n",
    "\n",
    "val_folder = os.path.join(tvt_dir, 'validation')\n",
    "val_ALL = os.path.join(val_folder, 'ALL')\n",
    "val_Normal = os.path.join(val_folder, 'Normal')\n",
    "\n",
    "test_folder = os.path.join(tvt_dir, 'test')\n",
    "test_ALL = os.path.join(test_folder, 'ALL')\n",
    "test_Normal = os.path.join(test_folder, 'Normal')\n",
    "\n",
    "# Create the class label folders\n",
    "os.mkdir(train_folder)\n",
    "os.mkdir(train_ALL)\n",
    "os.mkdir(train_Normal)\n",
    "\n",
    "os.mkdir(val_folder)\n",
    "os.mkdir(val_ALL)\n",
    "os.mkdir(val_Normal)\n",
    "\n",
    "os.mkdir(test_folder)\n",
    "os.mkdir(test_ALL)\n",
    "os.mkdir(test_Normal)"
   ]
  },
  {
   "cell_type": "code",
   "execution_count": 15,
   "id": "a3f3d161",
   "metadata": {
    "ExecuteTime": {
     "end_time": "2022-03-02T19:07:53.853414Z",
     "start_time": "2022-03-02T19:07:53.778384Z"
    }
   },
   "outputs": [
    {
     "name": "stdout",
     "output_type": "stream",
     "text": [
      "There are 12528 total images\n",
      "--------------------------------\n",
      "There are 7920 ALL cell images\n",
      "There are 4608 Normal cell images\n",
      "--------------------------------\n",
      "--------------------------------\n",
      "Train ALL        : 6336.0   :\n",
      "Train Normal     : 3686.4   :\n",
      "--------------------------------\n",
      "Validation ALL   : 1504.8   : 7840.8\n",
      "Validation Nomral: 875.52   : 4561.92\n",
      "--------------------------------\n",
      "Test ALL         : 79.2     : 7920.0\n",
      "Test Normal      : 46.08    : 4608.0\n"
     ]
    }
   ],
   "source": [
    "# do the math for our splits\n",
    "print('There are', len(os.listdir(combo_ALL_dir)) + len(os.listdir(combo_Normal_dir)), 'total images')\n",
    "print(\"--------------------------------\")\n",
    "print('There are', len(os.listdir(combo_ALL_dir)), 'ALL cell images')\n",
    "print('There are', len(os.listdir(combo_Normal_dir)), 'Normal cell images')\n",
    "\n",
    "train_ALL_total = (len(os.listdir(combo_ALL_dir))) * 0.80\n",
    "train_Normal_total = (len(os.listdir(combo_Normal_dir))) * 0.80\n",
    "\n",
    "val_ALL_total = (len(os.listdir(combo_ALL_dir))) * 0.19\n",
    "val_Normal_total = (len(os.listdir(combo_Normal_dir))) * 0.19\n",
    "               \n",
    "test_ALL_total = (len(os.listdir(combo_ALL_dir))) * 0.01\n",
    "test_Normal_total = (len(os.listdir(combo_Normal_dir))) * 0.01\n",
    "print(\"--------------------------------\")\n",
    "print(\"--------------------------------\")\n",
    "print(\"Train ALL        :\", round(train_ALL_total,2), \"  :\", )\n",
    "print(\"Train Normal     :\", round(train_Normal_total,2), \"  :\", )\n",
    "print(\"--------------------------------\")\n",
    "print(\"Validation ALL   :\", round(val_ALL_total,2),   \"  :\", val_ALL_total+train_ALL_total)\n",
    "print(\"Validation Nomral:\", round(val_Normal_total,2),   \"  :\", val_Normal_total+train_Normal_total)\n",
    "print(\"--------------------------------\")\n",
    "print(\"Test ALL         :\", round(test_ALL_total,2),  \"    :\", val_ALL_total+train_ALL_total+test_ALL_total)\n",
    "print(\"Test Normal      :\", round(test_Normal_total,2),  \"   :\", val_Normal_total+train_Normal_total+test_Normal_total)"
   ]
  },
  {
   "cell_type": "markdown",
   "id": "4d98f3ae",
   "metadata": {},
   "source": [
    "### Create the Splits"
   ]
  },
  {
   "cell_type": "code",
   "execution_count": 16,
   "id": "dfef3552",
   "metadata": {
    "ExecuteTime": {
     "end_time": "2022-03-02T19:08:12.969784Z",
     "start_time": "2022-03-02T19:07:53.855117Z"
    }
   },
   "outputs": [],
   "source": [
    "# Create iterables\n",
    "imgs_ALL = [img for img in os.listdir(combo_ALL_dir)]\n",
    "imgs_Normal = [img for img in os.listdir(combo_Normal_dir)]\n",
    "\n",
    "# train ALL\n",
    "imgs = imgs_ALL[:6337]\n",
    "for img in imgs:\n",
    "    origin = os.path.join(combo_ALL_dir, img)\n",
    "    destination = os.path.join(train_ALL, img)\n",
    "    shutil.copyfile(origin, destination)\n",
    "    \n",
    "# validation ALL\n",
    "imgs = imgs_ALL[6337:7841]\n",
    "for img in imgs:\n",
    "    origin = os.path.join(combo_ALL_dir, img)\n",
    "    destination = os.path.join(val_ALL, img)\n",
    "    shutil.copyfile(origin, destination)\n",
    "\n",
    "# test ALL\n",
    "imgs = imgs_ALL[7841:]\n",
    "for img in imgs:\n",
    "    origin = os.path.join(combo_ALL_dir, img)\n",
    "    destination = os.path.join(test_ALL, img)\n",
    "    shutil.copyfile(origin, destination)\n",
    "    \n",
    "# train Normal\n",
    "imgs = imgs_Normal[:3687]\n",
    "for img in imgs:\n",
    "    origin = os.path.join(combo_Normal_dir, img)\n",
    "    destination = os.path.join(train_Normal, img)\n",
    "    shutil.copyfile(origin, destination)\n",
    "\n",
    "# validation Normal\n",
    "imgs = imgs_Normal[3687:4562]\n",
    "for img in imgs:\n",
    "    origin = os.path.join(combo_Normal_dir, img)\n",
    "    destination = os.path.join(val_Normal, img)\n",
    "    shutil.copyfile(origin, destination)\n",
    "    \n",
    "# test Normal\n",
    "imgs = imgs_Normal[4562:]\n",
    "for img in imgs:\n",
    "    origin = os.path.join(combo_Normal_dir, img)\n",
    "    destination = os.path.join(test_Normal, img)\n",
    "    shutil.copyfile(origin, destination)"
   ]
  },
  {
   "cell_type": "code",
   "execution_count": 17,
   "id": "0e98a54d",
   "metadata": {
    "ExecuteTime": {
     "end_time": "2022-03-02T19:08:13.367187Z",
     "start_time": "2022-03-02T19:08:12.972108Z"
    }
   },
   "outputs": [],
   "source": [
    "# Reserve unlabeled data\n",
    "origin_path =  'data/PKG - C-NMC_Leukemia/C-NMC_Leukemia/C-NMC_test_final_phase_data/'\n",
    "destination_path = 'data/unlabeled_images/'\n",
    "os.mkdir(destination_path)\n",
    "\n",
    "unlabeled_images = [img for img in os.listdir(origin_path)]\n",
    "\n",
    "# Move unlabeled images to the new directory\n",
    "for img in unlabeled_images:\n",
    "    origin = os.path.join(origin_path, img)\n",
    "    destination = os.path.join(destination_path, img)\n",
    "    os.rename(origin, destination)"
   ]
  },
  {
   "cell_type": "code",
   "execution_count": 18,
   "id": "9e56ef39",
   "metadata": {
    "ExecuteTime": {
     "end_time": "2022-03-02T19:08:13.385426Z",
     "start_time": "2022-03-02T19:08:13.369201Z"
    }
   },
   "outputs": [],
   "source": [
    "#Remove unnecessary directories from the 'data' file\n",
    "shutil.rmtree('data/PKG - C-NMC_Leukemia/')"
   ]
  },
  {
   "cell_type": "markdown",
   "id": "d579fd37",
   "metadata": {},
   "source": [
    "# Build a baseline model"
   ]
  },
  {
   "cell_type": "code",
   "execution_count": 19,
   "id": "d1116ebd",
   "metadata": {
    "ExecuteTime": {
     "end_time": "2022-03-02T19:08:14.150616Z",
     "start_time": "2022-03-02T19:08:13.388185Z"
    }
   },
   "outputs": [
    {
     "name": "stdout",
     "output_type": "stream",
     "text": [
      "Found 10024 images belonging to 2 classes.\n",
      "Found 2379 images belonging to 2 classes.\n",
      "Found 125 images belonging to 2 classes.\n"
     ]
    }
   ],
   "source": [
    "train_generator = ImageDataGenerator(rescale=1./255).flow_from_directory(\n",
    "        'data/tvt/train',\n",
    "        classes={'Normal':0, 'ALL':1},\n",
    "        class_mode='binary',\n",
    "        batch_size=10024)\n",
    "\n",
    "val_generator = ImageDataGenerator(rescale=1./255).flow_from_directory(\n",
    "        'data/tvt/validation',\n",
    "        classes={'Normal':0, 'ALL':1},\n",
    "        class_mode='binary',\n",
    "        batch_size = 2379)\n",
    "\n",
    "test_generator = ImageDataGenerator(rescale=1./255).flow_from_directory(\n",
    "        'data/tvt/test',\n",
    "        classes={'Normal':0, 'ALL':1},        \n",
    "        class_mode='binary',\n",
    "        batch_size = 125)"
   ]
  },
  {
   "cell_type": "code",
   "execution_count": 20,
   "id": "f1c8b07c",
   "metadata": {
    "ExecuteTime": {
     "end_time": "2022-03-02T19:08:14.158350Z",
     "start_time": "2022-03-02T19:08:14.153140Z"
    }
   },
   "outputs": [
    {
     "data": {
      "text/plain": [
       "{'Normal': 0, 'ALL': 1}"
      ]
     },
     "execution_count": 20,
     "metadata": {},
     "output_type": "execute_result"
    }
   ],
   "source": [
    "train_generator.class_indices"
   ]
  },
  {
   "cell_type": "code",
   "execution_count": 21,
   "id": "32be737c",
   "metadata": {
    "ExecuteTime": {
     "end_time": "2022-03-02T19:08:14.165274Z",
     "start_time": "2022-03-02T19:08:14.160778Z"
    }
   },
   "outputs": [
    {
     "data": {
      "text/plain": [
       "{'Normal': 0, 'ALL': 1}"
      ]
     },
     "execution_count": 21,
     "metadata": {},
     "output_type": "execute_result"
    }
   ],
   "source": [
    "val_generator.class_indices"
   ]
  },
  {
   "cell_type": "code",
   "execution_count": 22,
   "id": "ca68da00",
   "metadata": {
    "ExecuteTime": {
     "end_time": "2022-03-02T19:08:14.171659Z",
     "start_time": "2022-03-02T19:08:14.167186Z"
    }
   },
   "outputs": [
    {
     "data": {
      "text/plain": [
       "{'Normal': 0, 'ALL': 1}"
      ]
     },
     "execution_count": 22,
     "metadata": {},
     "output_type": "execute_result"
    }
   ],
   "source": [
    "test_generator.class_indices"
   ]
  },
  {
   "cell_type": "code",
   "execution_count": 23,
   "id": "eeba9379",
   "metadata": {
    "ExecuteTime": {
     "end_time": "2022-03-02T19:08:32.967407Z",
     "start_time": "2022-03-02T19:08:14.174252Z"
    }
   },
   "outputs": [
    {
     "name": "stdout",
     "output_type": "stream",
     "text": [
      "Number of training samples: 10024\n",
      "Number of testing samples: 125\n",
      "Number of validation samples: 2379\n",
      "train_images shape: (10024, 256, 256, 3)\n",
      "train_labels shape: (10024,)\n",
      "test_images shape: (125, 256, 256, 3)\n",
      "test_labels shape: (125,)\n",
      "val_images shape: (2379, 256, 256, 3)\n",
      "val_labels shape: (2379,)\n"
     ]
    }
   ],
   "source": [
    "# create the data sets\n",
    "train_images, train_labels = next(train_generator)\n",
    "val_images, val_labels = next(val_generator)\n",
    "test_images, test_labels = next(test_generator)\n",
    "\n",
    "# Explore your dataset again\n",
    "m_train = train_images.shape[0]\n",
    "num_px = train_images.shape[1]\n",
    "m_test = test_images.shape[0]\n",
    "m_val = val_images.shape[0]\n",
    "\n",
    "print (\"Number of training samples: \" + str(m_train))\n",
    "print (\"Number of testing samples: \" + str(m_test))\n",
    "print (\"Number of validation samples: \" + str(m_val))\n",
    "print (\"train_images shape: \" + str(train_images.shape))\n",
    "print (\"train_labels shape: \" + str(train_labels.shape))\n",
    "print (\"test_images shape: \" + str(test_images.shape))\n",
    "print (\"test_labels shape: \" + str(test_labels.shape))\n",
    "print (\"val_images shape: \" + str(val_images.shape))\n",
    "print (\"val_labels shape: \" + str(val_labels.shape))"
   ]
  },
  {
   "cell_type": "code",
   "execution_count": 24,
   "id": "de38a575",
   "metadata": {
    "ExecuteTime": {
     "end_time": "2022-03-02T19:08:32.976499Z",
     "start_time": "2022-03-02T19:08:32.970387Z"
    }
   },
   "outputs": [
    {
     "name": "stdout",
     "output_type": "stream",
     "text": [
      "(10024, 196608)\n",
      "(125, 196608)\n",
      "(2379, 196608)\n"
     ]
    }
   ],
   "source": [
    "#  Un-row the image matrices for modeling\n",
    "train_x = train_images.reshape(train_images.shape[0], -1)\n",
    "test_x = test_images.reshape(test_images.shape[0], -1)\n",
    "val_x = val_images.reshape(val_images.shape[0], -1)\n",
    "\n",
    "print(train_x.shape)\n",
    "print(test_x.shape)\n",
    "print(val_x.shape)"
   ]
  },
  {
   "cell_type": "code",
   "execution_count": 5,
   "id": "5fdb391b",
   "metadata": {
    "ExecuteTime": {
     "end_time": "2022-03-02T19:26:33.497614Z",
     "start_time": "2022-03-02T19:26:33.492983Z"
    }
   },
   "outputs": [],
   "source": [
    "# The datasets is imbalanced so we will define class_weights to use for training\n",
    "class_weights = class_weight.compute_class_weight(class_weight='balanced',\n",
    "                                                  classes=np.unique(train_generator.classes),\n",
    "                                                  y=train_generator.classes\n",
    "                                                 )\n",
    "\n",
    "train_class_weights = dict(enumerate(class_weights))"
   ]
  },
  {
   "cell_type": "code",
   "execution_count": 6,
   "id": "32485295",
   "metadata": {
    "ExecuteTime": {
     "end_time": "2022-03-02T19:26:34.867226Z",
     "start_time": "2022-03-02T19:26:34.861587Z"
    }
   },
   "outputs": [
    {
     "data": {
      "text/plain": [
       "{0: 1.3593707621372388, 1: 0.7909105254852454}"
      ]
     },
     "execution_count": 6,
     "metadata": {},
     "output_type": "execute_result"
    }
   ],
   "source": [
    "train_class_weights"
   ]
  },
  {
   "cell_type": "code",
   "execution_count": 27,
   "id": "1325bd2f",
   "metadata": {
    "ExecuteTime": {
     "end_time": "2022-03-02T19:08:33.057218Z",
     "start_time": "2022-03-02T19:08:32.995335Z"
    }
   },
   "outputs": [
    {
     "name": "stderr",
     "output_type": "stream",
     "text": [
      "2022-03-02 11:08:33.007767: I tensorflow/core/platform/cpu_feature_guard.cc:151] This TensorFlow binary is optimized with oneAPI Deep Neural Network Library (oneDNN) to use the following CPU instructions in performance-critical operations:  AVX2 AVX512F FMA\n",
      "To enable them in other operations, rebuild TensorFlow with the appropriate compiler flags.\n"
     ]
    }
   ],
   "source": [
    "# Build the model and add layers\n",
    "baseline_model = models.Sequential()\n",
    "\n",
    "baseline_model.add(layers.Dense(16, activation='relu', input_shape=(196608,)))\n",
    "baseline_model.add(layers.Dense(32, activation='relu'))\n",
    "\n",
    "# Output layer\n",
    "baseline_model.add(layers.Dense(1, activation='sigmoid'))"
   ]
  },
  {
   "cell_type": "code",
   "execution_count": 28,
   "id": "9d82e3d2",
   "metadata": {
    "ExecuteTime": {
     "end_time": "2022-03-02T19:15:30.488863Z",
     "start_time": "2022-03-02T19:08:33.059917Z"
    }
   },
   "outputs": [
    {
     "name": "stdout",
     "output_type": "stream",
     "text": [
      "Epoch 1/150\n",
      "20/20 [==============================] - 4s 149ms/step - loss: 0.6136 - accuracy: 0.6994 - val_loss: 0.5975 - val_accuracy: 0.6999\n",
      "Epoch 2/150\n",
      "20/20 [==============================] - 3s 136ms/step - loss: 0.5912 - accuracy: 0.7178 - val_loss: 0.5925 - val_accuracy: 0.6986\n",
      "Epoch 3/150\n",
      "20/20 [==============================] - 3s 135ms/step - loss: 0.5846 - accuracy: 0.7181 - val_loss: 0.5958 - val_accuracy: 0.6936\n",
      "Epoch 4/150\n",
      "20/20 [==============================] - 3s 137ms/step - loss: 0.5808 - accuracy: 0.7204 - val_loss: 0.6051 - val_accuracy: 0.6843\n",
      "Epoch 5/150\n",
      "20/20 [==============================] - 3s 140ms/step - loss: 0.5754 - accuracy: 0.7261 - val_loss: 0.5897 - val_accuracy: 0.7011\n",
      "Epoch 6/150\n",
      "20/20 [==============================] - 3s 138ms/step - loss: 0.5717 - accuracy: 0.7266 - val_loss: 0.5675 - val_accuracy: 0.7243\n",
      "Epoch 7/150\n",
      "20/20 [==============================] - 3s 136ms/step - loss: 0.5719 - accuracy: 0.7266 - val_loss: 0.5636 - val_accuracy: 0.7230\n",
      "Epoch 8/150\n",
      "20/20 [==============================] - 3s 143ms/step - loss: 0.5659 - accuracy: 0.7284 - val_loss: 0.5681 - val_accuracy: 0.7205\n",
      "Epoch 9/150\n",
      "20/20 [==============================] - 3s 152ms/step - loss: 0.5601 - accuracy: 0.7368 - val_loss: 0.5713 - val_accuracy: 0.7112\n",
      "Epoch 10/150\n",
      "20/20 [==============================] - 3s 150ms/step - loss: 0.5567 - accuracy: 0.7341 - val_loss: 0.6358 - val_accuracy: 0.6654\n",
      "Epoch 11/150\n",
      "20/20 [==============================] - 3s 143ms/step - loss: 0.5625 - accuracy: 0.7266 - val_loss: 0.5933 - val_accuracy: 0.7011\n",
      "Epoch 12/150\n",
      "20/20 [==============================] - 3s 138ms/step - loss: 0.5549 - accuracy: 0.7297 - val_loss: 0.5666 - val_accuracy: 0.7196\n",
      "Epoch 13/150\n",
      "20/20 [==============================] - 3s 139ms/step - loss: 0.5461 - accuracy: 0.7421 - val_loss: 0.5763 - val_accuracy: 0.7108\n",
      "Epoch 14/150\n",
      "20/20 [==============================] - 3s 138ms/step - loss: 0.5418 - accuracy: 0.7443 - val_loss: 0.5850 - val_accuracy: 0.7058\n",
      "Epoch 15/150\n",
      "20/20 [==============================] - 3s 139ms/step - loss: 0.5375 - accuracy: 0.7434 - val_loss: 0.5898 - val_accuracy: 0.6961\n",
      "Epoch 16/150\n",
      "20/20 [==============================] - 3s 137ms/step - loss: 0.5391 - accuracy: 0.7477 - val_loss: 0.5788 - val_accuracy: 0.7104\n",
      "Epoch 17/150\n",
      "20/20 [==============================] - 3s 142ms/step - loss: 0.5416 - accuracy: 0.7377 - val_loss: 0.6337 - val_accuracy: 0.6570\n",
      "Epoch 18/150\n",
      "20/20 [==============================] - 3s 143ms/step - loss: 0.5350 - accuracy: 0.7491 - val_loss: 0.5598 - val_accuracy: 0.7243\n",
      "Epoch 19/150\n",
      "20/20 [==============================] - 3s 135ms/step - loss: 0.5241 - accuracy: 0.7564 - val_loss: 0.5597 - val_accuracy: 0.7327\n",
      "Epoch 20/150\n",
      "20/20 [==============================] - 3s 140ms/step - loss: 0.5224 - accuracy: 0.7581 - val_loss: 0.5780 - val_accuracy: 0.7079\n",
      "Epoch 21/150\n",
      "20/20 [==============================] - 3s 138ms/step - loss: 0.5191 - accuracy: 0.7548 - val_loss: 0.5491 - val_accuracy: 0.7360\n",
      "Epoch 22/150\n",
      "20/20 [==============================] - 3s 142ms/step - loss: 0.5161 - accuracy: 0.7595 - val_loss: 0.5509 - val_accuracy: 0.7335\n",
      "Epoch 23/150\n",
      "20/20 [==============================] - 3s 139ms/step - loss: 0.5129 - accuracy: 0.7635 - val_loss: 0.5731 - val_accuracy: 0.7179\n",
      "Epoch 24/150\n",
      "20/20 [==============================] - 3s 139ms/step - loss: 0.5083 - accuracy: 0.7654 - val_loss: 0.5528 - val_accuracy: 0.7331\n",
      "Epoch 25/150\n",
      "20/20 [==============================] - 3s 150ms/step - loss: 0.5069 - accuracy: 0.7677 - val_loss: 0.5478 - val_accuracy: 0.7381\n",
      "Epoch 26/150\n",
      "20/20 [==============================] - 3s 138ms/step - loss: 0.5056 - accuracy: 0.7661 - val_loss: 0.5904 - val_accuracy: 0.7003\n",
      "Epoch 27/150\n",
      "20/20 [==============================] - 3s 140ms/step - loss: 0.5004 - accuracy: 0.7705 - val_loss: 0.5591 - val_accuracy: 0.7222\n",
      "Epoch 28/150\n",
      "20/20 [==============================] - 3s 140ms/step - loss: 0.4959 - accuracy: 0.7732 - val_loss: 0.5514 - val_accuracy: 0.7335\n",
      "Epoch 29/150\n",
      "20/20 [==============================] - 3s 134ms/step - loss: 0.4933 - accuracy: 0.7771 - val_loss: 0.6072 - val_accuracy: 0.6856\n",
      "Epoch 30/150\n",
      "20/20 [==============================] - 3s 143ms/step - loss: 0.4948 - accuracy: 0.7759 - val_loss: 0.5735 - val_accuracy: 0.7116\n",
      "Epoch 31/150\n",
      "20/20 [==============================] - 3s 139ms/step - loss: 0.4917 - accuracy: 0.7745 - val_loss: 0.5487 - val_accuracy: 0.7398\n",
      "Epoch 32/150\n",
      "20/20 [==============================] - 3s 138ms/step - loss: 0.4911 - accuracy: 0.7683 - val_loss: 0.5478 - val_accuracy: 0.7402\n",
      "Epoch 33/150\n",
      "20/20 [==============================] - 3s 137ms/step - loss: 0.4851 - accuracy: 0.7753 - val_loss: 0.5406 - val_accuracy: 0.7427\n",
      "Epoch 34/150\n",
      "20/20 [==============================] - 3s 139ms/step - loss: 0.4872 - accuracy: 0.7769 - val_loss: 0.5880 - val_accuracy: 0.6974\n",
      "Epoch 35/150\n",
      "20/20 [==============================] - 3s 139ms/step - loss: 0.4779 - accuracy: 0.7817 - val_loss: 0.5721 - val_accuracy: 0.7121\n",
      "Epoch 36/150\n",
      "20/20 [==============================] - 3s 139ms/step - loss: 0.4730 - accuracy: 0.7897 - val_loss: 0.5566 - val_accuracy: 0.7226\n",
      "Epoch 37/150\n",
      "20/20 [==============================] - 3s 134ms/step - loss: 0.4825 - accuracy: 0.7723 - val_loss: 0.5359 - val_accuracy: 0.7465\n",
      "Epoch 38/150\n",
      "20/20 [==============================] - 3s 138ms/step - loss: 0.4729 - accuracy: 0.7858 - val_loss: 0.5589 - val_accuracy: 0.7264\n",
      "Epoch 39/150\n",
      "20/20 [==============================] - 3s 137ms/step - loss: 0.4646 - accuracy: 0.7934 - val_loss: 0.5895 - val_accuracy: 0.6906\n",
      "Epoch 40/150\n",
      "20/20 [==============================] - 3s 139ms/step - loss: 0.4679 - accuracy: 0.7879 - val_loss: 0.5721 - val_accuracy: 0.7179\n",
      "Epoch 41/150\n",
      "20/20 [==============================] - 3s 139ms/step - loss: 0.4601 - accuracy: 0.7910 - val_loss: 0.5477 - val_accuracy: 0.7427\n",
      "Epoch 42/150\n",
      "20/20 [==============================] - 3s 139ms/step - loss: 0.4555 - accuracy: 0.8000 - val_loss: 0.5625 - val_accuracy: 0.7259\n",
      "Epoch 43/150\n",
      "20/20 [==============================] - 3s 137ms/step - loss: 0.4514 - accuracy: 0.8007 - val_loss: 0.5557 - val_accuracy: 0.7318\n",
      "Epoch 44/150\n",
      "20/20 [==============================] - 3s 140ms/step - loss: 0.4478 - accuracy: 0.8035 - val_loss: 0.5422 - val_accuracy: 0.7423\n",
      "Epoch 45/150\n",
      "20/20 [==============================] - 3s 144ms/step - loss: 0.4466 - accuracy: 0.8043 - val_loss: 0.5480 - val_accuracy: 0.7385\n",
      "Epoch 46/150\n",
      "20/20 [==============================] - 3s 135ms/step - loss: 0.4431 - accuracy: 0.8076 - val_loss: 0.5561 - val_accuracy: 0.7402\n",
      "Epoch 47/150\n",
      "20/20 [==============================] - 3s 142ms/step - loss: 0.4419 - accuracy: 0.8059 - val_loss: 0.5595 - val_accuracy: 0.7259\n",
      "Epoch 48/150\n",
      "20/20 [==============================] - 3s 144ms/step - loss: 0.4375 - accuracy: 0.8139 - val_loss: 0.5835 - val_accuracy: 0.7058\n",
      "Epoch 49/150\n",
      "20/20 [==============================] - 3s 140ms/step - loss: 0.4348 - accuracy: 0.8109 - val_loss: 0.5477 - val_accuracy: 0.7411\n",
      "Epoch 50/150\n",
      "20/20 [==============================] - 3s 139ms/step - loss: 0.4313 - accuracy: 0.8152 - val_loss: 0.5546 - val_accuracy: 0.7348\n",
      "Epoch 51/150\n",
      "20/20 [==============================] - 3s 139ms/step - loss: 0.4319 - accuracy: 0.8128 - val_loss: 0.5390 - val_accuracy: 0.7478\n",
      "Epoch 52/150\n",
      "20/20 [==============================] - 3s 138ms/step - loss: 0.4273 - accuracy: 0.8186 - val_loss: 0.5655 - val_accuracy: 0.7251\n",
      "Epoch 53/150\n",
      "20/20 [==============================] - 3s 138ms/step - loss: 0.4265 - accuracy: 0.8146 - val_loss: 0.5542 - val_accuracy: 0.7348\n",
      "Epoch 54/150\n",
      "20/20 [==============================] - 3s 141ms/step - loss: 0.4239 - accuracy: 0.8138 - val_loss: 0.5647 - val_accuracy: 0.7243\n",
      "Epoch 55/150\n",
      "20/20 [==============================] - 3s 141ms/step - loss: 0.4240 - accuracy: 0.8137 - val_loss: 0.5956 - val_accuracy: 0.6940\n",
      "Epoch 56/150\n",
      "20/20 [==============================] - 3s 136ms/step - loss: 0.4144 - accuracy: 0.8219 - val_loss: 0.5482 - val_accuracy: 0.7436\n",
      "Epoch 57/150\n",
      "20/20 [==============================] - 3s 135ms/step - loss: 0.4131 - accuracy: 0.8232 - val_loss: 0.5434 - val_accuracy: 0.7465\n"
     ]
    },
    {
     "name": "stdout",
     "output_type": "stream",
     "text": [
      "Epoch 58/150\n",
      "20/20 [==============================] - 3s 139ms/step - loss: 0.4083 - accuracy: 0.8284 - val_loss: 0.5651 - val_accuracy: 0.7301\n",
      "Epoch 59/150\n",
      "20/20 [==============================] - 3s 137ms/step - loss: 0.4063 - accuracy: 0.8317 - val_loss: 0.5781 - val_accuracy: 0.7150\n",
      "Epoch 60/150\n",
      "20/20 [==============================] - 3s 139ms/step - loss: 0.4058 - accuracy: 0.8234 - val_loss: 0.5635 - val_accuracy: 0.7259\n",
      "Epoch 61/150\n",
      "20/20 [==============================] - 3s 134ms/step - loss: 0.4048 - accuracy: 0.8276 - val_loss: 0.5421 - val_accuracy: 0.7520\n",
      "Epoch 62/150\n",
      "20/20 [==============================] - 3s 137ms/step - loss: 0.4032 - accuracy: 0.8290 - val_loss: 0.5613 - val_accuracy: 0.7306\n",
      "Epoch 63/150\n",
      "20/20 [==============================] - 3s 137ms/step - loss: 0.3965 - accuracy: 0.8324 - val_loss: 0.5801 - val_accuracy: 0.7184\n",
      "Epoch 64/150\n",
      "20/20 [==============================] - 3s 137ms/step - loss: 0.4010 - accuracy: 0.8272 - val_loss: 0.5541 - val_accuracy: 0.7507\n",
      "Epoch 65/150\n",
      "20/20 [==============================] - 3s 138ms/step - loss: 0.3941 - accuracy: 0.8353 - val_loss: 0.5715 - val_accuracy: 0.7352\n",
      "Epoch 66/150\n",
      "20/20 [==============================] - 3s 138ms/step - loss: 0.3939 - accuracy: 0.8317 - val_loss: 0.5884 - val_accuracy: 0.7129\n",
      "Epoch 67/150\n",
      "20/20 [==============================] - 3s 142ms/step - loss: 0.3895 - accuracy: 0.8366 - val_loss: 0.5567 - val_accuracy: 0.7377\n",
      "Epoch 68/150\n",
      "20/20 [==============================] - 3s 138ms/step - loss: 0.3843 - accuracy: 0.8442 - val_loss: 0.5867 - val_accuracy: 0.7108\n",
      "Epoch 69/150\n",
      "20/20 [==============================] - 3s 137ms/step - loss: 0.3840 - accuracy: 0.8396 - val_loss: 0.5479 - val_accuracy: 0.7474\n",
      "Epoch 70/150\n",
      "20/20 [==============================] - 3s 138ms/step - loss: 0.3797 - accuracy: 0.8463 - val_loss: 0.5924 - val_accuracy: 0.7028\n",
      "Epoch 71/150\n",
      "20/20 [==============================] - 3s 135ms/step - loss: 0.3809 - accuracy: 0.8394 - val_loss: 0.5738 - val_accuracy: 0.7339\n",
      "Epoch 72/150\n",
      "20/20 [==============================] - 3s 139ms/step - loss: 0.3784 - accuracy: 0.8430 - val_loss: 0.5871 - val_accuracy: 0.7045\n",
      "Epoch 73/150\n",
      "20/20 [==============================] - 3s 137ms/step - loss: 0.3819 - accuracy: 0.8341 - val_loss: 0.5491 - val_accuracy: 0.7499\n",
      "Epoch 74/150\n",
      "20/20 [==============================] - 3s 140ms/step - loss: 0.3792 - accuracy: 0.8392 - val_loss: 0.5479 - val_accuracy: 0.7486\n",
      "Epoch 75/150\n",
      "20/20 [==============================] - 3s 140ms/step - loss: 0.3734 - accuracy: 0.8473 - val_loss: 0.5712 - val_accuracy: 0.7234\n",
      "Epoch 76/150\n",
      "20/20 [==============================] - 3s 137ms/step - loss: 0.3707 - accuracy: 0.8454 - val_loss: 0.5512 - val_accuracy: 0.7516\n",
      "Epoch 77/150\n",
      "20/20 [==============================] - 3s 137ms/step - loss: 0.3662 - accuracy: 0.8484 - val_loss: 0.5588 - val_accuracy: 0.7444\n",
      "Epoch 78/150\n",
      "20/20 [==============================] - 3s 138ms/step - loss: 0.3617 - accuracy: 0.8549 - val_loss: 0.5638 - val_accuracy: 0.7423\n",
      "Epoch 79/150\n",
      "20/20 [==============================] - 3s 140ms/step - loss: 0.3580 - accuracy: 0.8560 - val_loss: 0.5798 - val_accuracy: 0.7167\n",
      "Epoch 80/150\n",
      "20/20 [==============================] - 3s 139ms/step - loss: 0.3570 - accuracy: 0.8582 - val_loss: 0.5711 - val_accuracy: 0.7276\n",
      "Epoch 81/150\n",
      "20/20 [==============================] - 3s 140ms/step - loss: 0.3520 - accuracy: 0.8606 - val_loss: 0.5943 - val_accuracy: 0.7041\n",
      "Epoch 82/150\n",
      "20/20 [==============================] - 3s 137ms/step - loss: 0.3579 - accuracy: 0.8511 - val_loss: 0.5750 - val_accuracy: 0.7276\n",
      "Epoch 83/150\n",
      "20/20 [==============================] - 3s 140ms/step - loss: 0.3537 - accuracy: 0.8542 - val_loss: 0.5541 - val_accuracy: 0.7516\n",
      "Epoch 84/150\n",
      "20/20 [==============================] - 3s 140ms/step - loss: 0.3508 - accuracy: 0.8618 - val_loss: 0.5529 - val_accuracy: 0.7524\n",
      "Epoch 85/150\n",
      "20/20 [==============================] - 3s 138ms/step - loss: 0.3487 - accuracy: 0.8620 - val_loss: 0.5639 - val_accuracy: 0.7478\n",
      "Epoch 86/150\n",
      "20/20 [==============================] - 3s 140ms/step - loss: 0.3450 - accuracy: 0.8618 - val_loss: 0.5600 - val_accuracy: 0.7486\n",
      "Epoch 87/150\n",
      "20/20 [==============================] - 3s 140ms/step - loss: 0.3427 - accuracy: 0.8651 - val_loss: 0.5827 - val_accuracy: 0.7268\n",
      "Epoch 88/150\n",
      "20/20 [==============================] - 3s 143ms/step - loss: 0.3435 - accuracy: 0.8631 - val_loss: 0.5574 - val_accuracy: 0.7491\n",
      "Epoch 89/150\n",
      "20/20 [==============================] - 3s 138ms/step - loss: 0.3478 - accuracy: 0.8560 - val_loss: 0.5951 - val_accuracy: 0.7079\n",
      "Epoch 90/150\n",
      "20/20 [==============================] - 3s 139ms/step - loss: 0.3395 - accuracy: 0.8648 - val_loss: 0.5665 - val_accuracy: 0.7444\n",
      "Epoch 91/150\n",
      "20/20 [==============================] - 3s 138ms/step - loss: 0.3343 - accuracy: 0.8708 - val_loss: 0.5728 - val_accuracy: 0.7369\n",
      "Epoch 92/150\n",
      "20/20 [==============================] - 3s 138ms/step - loss: 0.3373 - accuracy: 0.8654 - val_loss: 0.5598 - val_accuracy: 0.7503\n",
      "Epoch 93/150\n",
      "20/20 [==============================] - 3s 139ms/step - loss: 0.3315 - accuracy: 0.8713 - val_loss: 0.5771 - val_accuracy: 0.7411\n",
      "Epoch 94/150\n",
      "20/20 [==============================] - 3s 145ms/step - loss: 0.3303 - accuracy: 0.8739 - val_loss: 0.5773 - val_accuracy: 0.7322\n",
      "Epoch 95/150\n",
      "20/20 [==============================] - 3s 144ms/step - loss: 0.3251 - accuracy: 0.8751 - val_loss: 0.5697 - val_accuracy: 0.7432\n",
      "Epoch 96/150\n",
      "20/20 [==============================] - 3s 139ms/step - loss: 0.3227 - accuracy: 0.8780 - val_loss: 0.5697 - val_accuracy: 0.7406\n",
      "Epoch 97/150\n",
      "20/20 [==============================] - 3s 139ms/step - loss: 0.3230 - accuracy: 0.8789 - val_loss: 0.5734 - val_accuracy: 0.7415\n",
      "Epoch 98/150\n",
      "20/20 [==============================] - 3s 138ms/step - loss: 0.3267 - accuracy: 0.8731 - val_loss: 0.6176 - val_accuracy: 0.6999\n",
      "Epoch 99/150\n",
      "20/20 [==============================] - 3s 139ms/step - loss: 0.3363 - accuracy: 0.8598 - val_loss: 0.5697 - val_accuracy: 0.7528\n",
      "Epoch 100/150\n",
      "20/20 [==============================] - 3s 139ms/step - loss: 0.3285 - accuracy: 0.8662 - val_loss: 0.5687 - val_accuracy: 0.7512\n",
      "Epoch 101/150\n",
      "20/20 [==============================] - 3s 139ms/step - loss: 0.3192 - accuracy: 0.8747 - val_loss: 0.6213 - val_accuracy: 0.6915\n",
      "Epoch 102/150\n",
      "20/20 [==============================] - 3s 138ms/step - loss: 0.3195 - accuracy: 0.8775 - val_loss: 0.5650 - val_accuracy: 0.7549\n",
      "Epoch 103/150\n",
      "20/20 [==============================] - 3s 139ms/step - loss: 0.3171 - accuracy: 0.8786 - val_loss: 0.5710 - val_accuracy: 0.7398\n",
      "Epoch 104/150\n",
      "20/20 [==============================] - 3s 140ms/step - loss: 0.3140 - accuracy: 0.8793 - val_loss: 0.6144 - val_accuracy: 0.7007\n",
      "Epoch 105/150\n",
      "20/20 [==============================] - 3s 138ms/step - loss: 0.3166 - accuracy: 0.8744 - val_loss: 0.5795 - val_accuracy: 0.7528\n",
      "Epoch 106/150\n",
      "20/20 [==============================] - 3s 137ms/step - loss: 0.3243 - accuracy: 0.8689 - val_loss: 0.6073 - val_accuracy: 0.7087\n",
      "Epoch 107/150\n",
      "20/20 [==============================] - 3s 140ms/step - loss: 0.3077 - accuracy: 0.8814 - val_loss: 0.6005 - val_accuracy: 0.7184\n",
      "Epoch 108/150\n",
      "20/20 [==============================] - 3s 144ms/step - loss: 0.3050 - accuracy: 0.8874 - val_loss: 0.5908 - val_accuracy: 0.7318\n",
      "Epoch 109/150\n",
      "20/20 [==============================] - 3s 138ms/step - loss: 0.3008 - accuracy: 0.8897 - val_loss: 0.5851 - val_accuracy: 0.7381\n",
      "Epoch 110/150\n",
      "20/20 [==============================] - 3s 138ms/step - loss: 0.3016 - accuracy: 0.8859 - val_loss: 0.5900 - val_accuracy: 0.7268\n",
      "Epoch 111/150\n",
      "20/20 [==============================] - 3s 140ms/step - loss: 0.3130 - accuracy: 0.8755 - val_loss: 0.5870 - val_accuracy: 0.7423\n",
      "Epoch 112/150\n",
      "20/20 [==============================] - 3s 138ms/step - loss: 0.3018 - accuracy: 0.8854 - val_loss: 0.5794 - val_accuracy: 0.7554\n",
      "Epoch 113/150\n",
      "20/20 [==============================] - 3s 139ms/step - loss: 0.2990 - accuracy: 0.8901 - val_loss: 0.6129 - val_accuracy: 0.7175\n",
      "Epoch 114/150\n",
      "20/20 [==============================] - 3s 139ms/step - loss: 0.2935 - accuracy: 0.8921 - val_loss: 0.6165 - val_accuracy: 0.7100\n"
     ]
    },
    {
     "name": "stdout",
     "output_type": "stream",
     "text": [
      "Epoch 115/150\n",
      "20/20 [==============================] - 3s 139ms/step - loss: 0.2931 - accuracy: 0.8909 - val_loss: 0.5960 - val_accuracy: 0.7276\n",
      "Epoch 116/150\n",
      "20/20 [==============================] - 3s 137ms/step - loss: 0.2954 - accuracy: 0.8892 - val_loss: 0.5796 - val_accuracy: 0.7537\n",
      "Epoch 117/150\n",
      "20/20 [==============================] - 3s 139ms/step - loss: 0.2948 - accuracy: 0.8858 - val_loss: 0.5932 - val_accuracy: 0.7432\n",
      "Epoch 118/150\n",
      "20/20 [==============================] - 3s 139ms/step - loss: 0.2908 - accuracy: 0.8933 - val_loss: 0.5940 - val_accuracy: 0.7516\n",
      "Epoch 119/150\n",
      "20/20 [==============================] - 3s 139ms/step - loss: 0.2874 - accuracy: 0.8962 - val_loss: 0.5841 - val_accuracy: 0.7415\n",
      "Epoch 120/150\n",
      "20/20 [==============================] - 3s 136ms/step - loss: 0.2869 - accuracy: 0.8944 - val_loss: 0.5924 - val_accuracy: 0.7322\n",
      "Epoch 121/150\n",
      "20/20 [==============================] - 3s 139ms/step - loss: 0.2834 - accuracy: 0.8960 - val_loss: 0.5889 - val_accuracy: 0.7402\n",
      "Epoch 122/150\n",
      "20/20 [==============================] - 3s 139ms/step - loss: 0.2833 - accuracy: 0.8989 - val_loss: 0.6054 - val_accuracy: 0.7289\n",
      "Epoch 123/150\n",
      "20/20 [==============================] - 3s 140ms/step - loss: 0.2831 - accuracy: 0.8958 - val_loss: 0.5875 - val_accuracy: 0.7579\n",
      "Epoch 124/150\n",
      "20/20 [==============================] - 3s 139ms/step - loss: 0.2878 - accuracy: 0.8922 - val_loss: 0.5945 - val_accuracy: 0.7402\n",
      "Epoch 125/150\n",
      "20/20 [==============================] - 3s 138ms/step - loss: 0.2769 - accuracy: 0.8996 - val_loss: 0.5850 - val_accuracy: 0.7499\n",
      "Epoch 126/150\n",
      "20/20 [==============================] - 3s 139ms/step - loss: 0.2808 - accuracy: 0.8971 - val_loss: 0.6469 - val_accuracy: 0.6961\n",
      "Epoch 127/150\n",
      "20/20 [==============================] - 3s 139ms/step - loss: 0.2770 - accuracy: 0.8999 - val_loss: 0.6143 - val_accuracy: 0.7255\n",
      "Epoch 128/150\n",
      "20/20 [==============================] - 3s 147ms/step - loss: 0.2724 - accuracy: 0.9017 - val_loss: 0.5998 - val_accuracy: 0.7264\n",
      "Epoch 129/150\n",
      "20/20 [==============================] - 3s 145ms/step - loss: 0.2712 - accuracy: 0.9040 - val_loss: 0.6113 - val_accuracy: 0.7247\n",
      "Epoch 130/150\n",
      "20/20 [==============================] - 3s 147ms/step - loss: 0.2700 - accuracy: 0.9065 - val_loss: 0.5953 - val_accuracy: 0.7444\n",
      "Epoch 131/150\n",
      "20/20 [==============================] - 3s 143ms/step - loss: 0.2728 - accuracy: 0.9016 - val_loss: 0.6240 - val_accuracy: 0.7167\n",
      "Epoch 132/150\n",
      "20/20 [==============================] - 3s 143ms/step - loss: 0.2744 - accuracy: 0.8992 - val_loss: 0.5948 - val_accuracy: 0.7554\n",
      "Epoch 133/150\n",
      "20/20 [==============================] - 3s 146ms/step - loss: 0.2684 - accuracy: 0.9047 - val_loss: 0.6037 - val_accuracy: 0.7373\n",
      "Epoch 134/150\n",
      "20/20 [==============================] - 3s 142ms/step - loss: 0.2667 - accuracy: 0.9049 - val_loss: 0.6237 - val_accuracy: 0.7276\n",
      "Epoch 135/150\n",
      "20/20 [==============================] - 3s 140ms/step - loss: 0.2650 - accuracy: 0.9055 - val_loss: 0.6181 - val_accuracy: 0.7318\n",
      "Epoch 136/150\n",
      "20/20 [==============================] - 3s 143ms/step - loss: 0.2677 - accuracy: 0.9032 - val_loss: 0.5965 - val_accuracy: 0.7520\n",
      "Epoch 137/150\n",
      "20/20 [==============================] - 3s 139ms/step - loss: 0.2695 - accuracy: 0.8995 - val_loss: 0.6154 - val_accuracy: 0.7381\n",
      "Epoch 138/150\n",
      "20/20 [==============================] - 3s 138ms/step - loss: 0.2628 - accuracy: 0.9080 - val_loss: 0.6350 - val_accuracy: 0.7158\n",
      "Epoch 139/150\n",
      "20/20 [==============================] - 3s 141ms/step - loss: 0.2639 - accuracy: 0.9032 - val_loss: 0.6040 - val_accuracy: 0.7398\n",
      "Epoch 140/150\n",
      "20/20 [==============================] - 3s 142ms/step - loss: 0.2570 - accuracy: 0.9097 - val_loss: 0.6108 - val_accuracy: 0.7335\n",
      "Epoch 141/150\n",
      "20/20 [==============================] - 3s 140ms/step - loss: 0.2596 - accuracy: 0.9077 - val_loss: 0.6088 - val_accuracy: 0.7486\n",
      "Epoch 142/150\n",
      "20/20 [==============================] - 3s 139ms/step - loss: 0.2537 - accuracy: 0.9139 - val_loss: 0.6222 - val_accuracy: 0.7339\n",
      "Epoch 143/150\n",
      "20/20 [==============================] - 3s 139ms/step - loss: 0.2536 - accuracy: 0.9096 - val_loss: 0.6313 - val_accuracy: 0.7217\n",
      "Epoch 144/150\n",
      "20/20 [==============================] - 3s 139ms/step - loss: 0.2544 - accuracy: 0.9100 - val_loss: 0.6136 - val_accuracy: 0.7507\n",
      "Epoch 145/150\n",
      "20/20 [==============================] - 3s 140ms/step - loss: 0.2586 - accuracy: 0.9056 - val_loss: 0.6370 - val_accuracy: 0.7314\n",
      "Epoch 146/150\n",
      "20/20 [==============================] - 3s 138ms/step - loss: 0.2638 - accuracy: 0.8981 - val_loss: 0.6595 - val_accuracy: 0.7070\n",
      "Epoch 147/150\n",
      "20/20 [==============================] - 3s 136ms/step - loss: 0.2645 - accuracy: 0.8963 - val_loss: 0.6260 - val_accuracy: 0.7507\n",
      "Epoch 148/150\n",
      "20/20 [==============================] - 3s 135ms/step - loss: 0.2578 - accuracy: 0.9034 - val_loss: 0.6235 - val_accuracy: 0.7360\n",
      "Epoch 149/150\n",
      "20/20 [==============================] - 3s 135ms/step - loss: 0.2435 - accuracy: 0.9159 - val_loss: 0.6615 - val_accuracy: 0.7087\n",
      "Epoch 150/150\n",
      "20/20 [==============================] - 3s 136ms/step - loss: 0.2480 - accuracy: 0.9112 - val_loss: 0.6103 - val_accuracy: 0.7562\n"
     ]
    }
   ],
   "source": [
    "# Compile and fit the model to train\n",
    "baseline_model.compile(optimizer=Adam(learning_rate=0.0001),\n",
    "                          loss='binary_crossentropy',\n",
    "                          metrics=['accuracy'])\n",
    "\n",
    "baseline_history = baseline_model.fit(train_x,\n",
    "                                        train_labels,\n",
    "                                        epochs=150,\n",
    "                                        batch_size=512,\n",
    "                                        validation_data=(val_x, val_labels),\n",
    "                                        class_weight=train_class_weights,)"
   ]
  },
  {
   "cell_type": "code",
   "execution_count": 17,
   "id": "4bebbdfa",
   "metadata": {
    "ExecuteTime": {
     "end_time": "2022-03-02T21:50:30.926521Z",
     "start_time": "2022-03-02T21:50:30.916510Z"
    }
   },
   "outputs": [],
   "source": [
    "# Create visualization function\n",
    "\n",
    "def visualize_training_results(results):\n",
    "    history = results.history\n",
    "    \n",
    "    fig, (ax1, ax2) = plt.subplots(ncols=2, figsize=(17,5))\n",
    "    \n",
    "    ax1.plot(history['val_accuracy'], label='Validation Accuracy')\n",
    "    ax1.plot(history['accuracy'], label = 'Training Accuracy')\n",
    "    ax1.grid(False)\n",
    "    ax1.legend()\n",
    "    \n",
    "    ax2.plot(history['val_loss'], label='Validation Loss')\n",
    "    ax2.plot(history['loss'], label='Training Loss')\n",
    "    ax2.grid(False)\n",
    "    ax2.legend()\n",
    "    \n",
    "\n",
    "def plot_confusion_matrix(model, y_true, y_images):\n",
    "    predictions = model.predict(y_images)\n",
    "    y_pred = np.round(predictions, 0)\n",
    "#     y_pred = np.reshape(y_pred, -1)\n",
    "\n",
    "    print(classification_report(y_true, y_pred))\n",
    "    \n",
    "    cm = confusion_matrix(y_true, y_pred)\n",
    "    display = ConfusionMatrixDisplay(confusion_matrix=cm, display_labels=['Normal', 'ALL'])\n",
    "    fig, ax = plt.subplots(figsize=(7,7))\n",
    "    plt.rcParams.update({'font.size': 15})\n",
    "    display.plot(cmap=plt.cm.Blues, ax=ax)\n",
    "    plt.grid(False)\n",
    "    plt.show() \n",
    "    "
   ]
  },
  {
   "cell_type": "code",
   "execution_count": 30,
   "id": "8aedeac8",
   "metadata": {
    "ExecuteTime": {
     "end_time": "2022-03-02T19:15:30.811223Z",
     "start_time": "2022-03-02T19:15:30.501148Z"
    },
    "scrolled": false
   },
   "outputs": [
    {
     "data": {
      "image/png": "[encoded data removed]",
      "text/plain": [
       "<Figure size 1224x360 with 2 Axes>"
      ]
     },
     "metadata": {},
     "output_type": "display_data"
    }
   ],
   "source": [
    "visualize_training_results(baseline_history)"
   ]
  },
  {
   "cell_type": "code",
   "execution_count": 31,
   "id": "1e1fc7dd",
   "metadata": {
    "ExecuteTime": {
     "end_time": "2022-03-02T19:15:32.233053Z",
     "start_time": "2022-03-02T19:15:30.813010Z"
    }
   },
   "outputs": [
    {
     "name": "stdout",
     "output_type": "stream",
     "text": [
      "314/314 [==============================] - 1s 4ms/step - loss: 0.2287 - accuracy: 0.9224\n"
     ]
    }
   ],
   "source": [
    "baseline_train_results = baseline_model.evaluate(train_x, train_labels)"
   ]
  },
  {
   "cell_type": "code",
   "execution_count": 32,
   "id": "29c44eda",
   "metadata": {
    "ExecuteTime": {
     "end_time": "2022-03-02T19:15:32.641221Z",
     "start_time": "2022-03-02T19:15:32.234438Z"
    }
   },
   "outputs": [
    {
     "name": "stdout",
     "output_type": "stream",
     "text": [
      "75/75 [==============================] - 0s 5ms/step - loss: 0.6103 - accuracy: 0.7562\n"
     ]
    }
   ],
   "source": [
    "baseline_val_results = baseline_model.evaluate(val_x, val_labels)"
   ]
  },
  {
   "cell_type": "code",
   "execution_count": 33,
   "id": "ab8959cd",
   "metadata": {
    "ExecuteTime": {
     "end_time": "2022-03-02T19:15:32.710911Z",
     "start_time": "2022-03-02T19:15:32.643624Z"
    }
   },
   "outputs": [
    {
     "name": "stdout",
     "output_type": "stream",
     "text": [
      "4/4 [==============================] - 0s 4ms/step - loss: 0.4179 - accuracy: 0.8080\n"
     ]
    }
   ],
   "source": [
    "baseline_test_results = baseline_model.evaluate(test_x, test_labels)"
   ]
  },
  {
   "cell_type": "code",
   "execution_count": 34,
   "id": "0f106266",
   "metadata": {
    "ExecuteTime": {
     "end_time": "2022-03-02T19:15:32.971533Z",
     "start_time": "2022-03-02T19:15:32.712221Z"
    }
   },
   "outputs": [
    {
     "name": "stdout",
     "output_type": "stream",
     "text": [
      "              precision    recall  f1-score   support\n",
      "\n",
      "         0.0       0.81      0.63      0.71        46\n",
      "         1.0       0.81      0.91      0.86        79\n",
      "\n",
      "    accuracy                           0.81       125\n",
      "   macro avg       0.81      0.77      0.78       125\n",
      "weighted avg       0.81      0.81      0.80       125\n",
      "\n"
     ]
    },
    {
     "data": {
      "image/png": "[encoded data removed]",
      "text/plain": [
       "<Figure size 504x504 with 2 Axes>"
      ]
     },
     "metadata": {},
     "output_type": "display_data"
    }
   ],
   "source": [
    "plot_confusion_matrix(baseline_model, test_labels, test_x)"
   ]
  },
  {
   "cell_type": "markdown",
   "id": "2fd611aa",
   "metadata": {},
   "source": [
    "### This model is over-fitting on the training data.        \n",
    "> #### Our validation scores are not improving and there is no convergence.\n",
    "> #### However, our test accuracy is not bad for a baseline at 81%\n",
    "\n",
    "### **Recall is not good enough... 91%**         \n",
    "> ### **We need to minimize false negatives and maximize correct positive diagnoses**"
   ]
  },
  {
   "cell_type": "markdown",
   "id": "83ad4b75",
   "metadata": {},
   "source": [
    "## Build a baseline Convolutional Neural Network"
   ]
  },
  {
   "cell_type": "code",
   "execution_count": 12,
   "id": "b6557b70",
   "metadata": {
    "ExecuteTime": {
     "end_time": "2022-03-02T20:12:14.201226Z",
     "start_time": "2022-03-02T20:11:47.507512Z"
    }
   },
   "outputs": [
    {
     "name": "stdout",
     "output_type": "stream",
     "text": [
      "Found 10024 images belonging to 2 classes.\n",
      "Found 2379 images belonging to 2 classes.\n",
      "Found 125 images belonging to 2 classes.\n"
     ]
    }
   ],
   "source": [
    "train_generator = ImageDataGenerator(rescale=1./255).flow_from_directory(\n",
    "        'data/tvt/train',\n",
    "        classes={'Normal':0, 'ALL':1},\n",
    "        class_mode='binary',\n",
    "        batch_size=10024)\n",
    "\n",
    "val_generator = ImageDataGenerator(rescale=1./255).flow_from_directory(\n",
    "        'data/tvt/validation',\n",
    "        classes={'Normal':0, 'ALL':1},\n",
    "        class_mode='binary',\n",
    "        batch_size = 2379)\n",
    "\n",
    "test_generator = ImageDataGenerator(rescale=1./255).flow_from_directory(\n",
    "        'data/tvt/test',\n",
    "        classes={'Normal':0, 'ALL':1},        \n",
    "        class_mode='binary',\n",
    "        batch_size = 125)\n",
    "\n",
    "\n",
    "train_images, train_labels = next(train_generator)\n",
    "val_images, val_labels = next(val_generator)\n",
    "test_images, test_labels = next(test_generator)\n",
    "\n",
    "\n",
    "class_weights = class_weight.compute_class_weight(class_weight='balanced',\n",
    "                                                  classes=np.unique(train_generator.classes),\n",
    "                                                  y=train_generator.classes\n",
    "                                                 )\n",
    "\n",
    "train_class_weights = dict(enumerate(class_weights))"
   ]
  },
  {
   "cell_type": "code",
   "execution_count": 13,
   "id": "25cc4cba",
   "metadata": {
    "ExecuteTime": {
     "end_time": "2022-03-02T20:12:20.242506Z",
     "start_time": "2022-03-02T20:12:20.125295Z"
    }
   },
   "outputs": [],
   "source": [
    "# Instantiate the model and build it's layers\n",
    "cnn1 = models.Sequential()\n",
    "\n",
    "cnn1.add(layers.Conv2D(32,(3,3), activation='relu', padding='same', input_shape=(256,256,3)))\n",
    "cnn1.add(layers.MaxPool2D(2,2))\n",
    "\n",
    "cnn1.add(layers.Conv2D(64,(3,3), activation='relu', padding='same'))\n",
    "cnn1.add(layers.MaxPool2D(2,2))\n",
    "\n",
    "cnn1.add(layers.Flatten())\n",
    "cnn1.add(layers.Dense(64, activation='relu'))\n",
    "cnn1.add(layers.Dense(1, activation='sigmoid'))"
   ]
  },
  {
   "cell_type": "code",
   "execution_count": 15,
   "id": "66b7ce54",
   "metadata": {
    "ExecuteTime": {
     "end_time": "2022-03-02T21:49:59.593706Z",
     "start_time": "2022-03-02T20:12:31.098344Z"
    }
   },
   "outputs": [
    {
     "name": "stdout",
     "output_type": "stream",
     "text": [
      "Epoch 1/30\n",
      "101/101 [==============================] - 196s 2s/step - loss: 0.6063 - accuracy: 0.7016 - val_loss: 0.5741 - val_accuracy: 0.7150\n",
      "Epoch 2/30\n",
      "101/101 [==============================] - 194s 2s/step - loss: 0.5808 - accuracy: 0.7207 - val_loss: 0.5689 - val_accuracy: 0.7209\n",
      "Epoch 3/30\n",
      "101/101 [==============================] - 193s 2s/step - loss: 0.5655 - accuracy: 0.7276 - val_loss: 0.5432 - val_accuracy: 0.7322\n",
      "Epoch 4/30\n",
      "101/101 [==============================] - 189s 2s/step - loss: 0.5517 - accuracy: 0.7341 - val_loss: 0.5384 - val_accuracy: 0.7461\n",
      "Epoch 5/30\n",
      "101/101 [==============================] - 191s 2s/step - loss: 0.5380 - accuracy: 0.7394 - val_loss: 0.5288 - val_accuracy: 0.7419\n",
      "Epoch 6/30\n",
      "101/101 [==============================] - 192s 2s/step - loss: 0.5319 - accuracy: 0.7461 - val_loss: 0.5394 - val_accuracy: 0.7385\n",
      "Epoch 7/30\n",
      "101/101 [==============================] - 190s 2s/step - loss: 0.5217 - accuracy: 0.7522 - val_loss: 0.5240 - val_accuracy: 0.7491\n",
      "Epoch 8/30\n",
      "101/101 [==============================] - 191s 2s/step - loss: 0.5106 - accuracy: 0.7583 - val_loss: 0.8113 - val_accuracy: 0.5557\n",
      "Epoch 9/30\n",
      "101/101 [==============================] - 189s 2s/step - loss: 0.5037 - accuracy: 0.7581 - val_loss: 0.5551 - val_accuracy: 0.7289\n",
      "Epoch 10/30\n",
      "101/101 [==============================] - 204s 2s/step - loss: 0.4921 - accuracy: 0.7689 - val_loss: 0.5442 - val_accuracy: 0.7348\n",
      "Epoch 11/30\n",
      "101/101 [==============================] - 203s 2s/step - loss: 0.4828 - accuracy: 0.7736 - val_loss: 0.6325 - val_accuracy: 0.6713\n",
      "Epoch 12/30\n",
      "101/101 [==============================] - 203s 2s/step - loss: 0.4745 - accuracy: 0.7820 - val_loss: 0.5673 - val_accuracy: 0.7062\n",
      "Epoch 13/30\n",
      "101/101 [==============================] - 204s 2s/step - loss: 0.4655 - accuracy: 0.7813 - val_loss: 0.6705 - val_accuracy: 0.6141\n",
      "Epoch 14/30\n",
      "101/101 [==============================] - 193s 2s/step - loss: 0.4597 - accuracy: 0.7851 - val_loss: 0.5114 - val_accuracy: 0.7566\n",
      "Epoch 15/30\n",
      "101/101 [==============================] - 190s 2s/step - loss: 0.4532 - accuracy: 0.7861 - val_loss: 0.5838 - val_accuracy: 0.7016\n",
      "Epoch 16/30\n",
      "101/101 [==============================] - 190s 2s/step - loss: 0.4423 - accuracy: 0.7931 - val_loss: 0.5116 - val_accuracy: 0.7549\n",
      "Epoch 17/30\n",
      "101/101 [==============================] - 191s 2s/step - loss: 0.4325 - accuracy: 0.8013 - val_loss: 0.5606 - val_accuracy: 0.7201\n",
      "Epoch 18/30\n",
      "101/101 [==============================] - 190s 2s/step - loss: 0.4260 - accuracy: 0.8067 - val_loss: 0.5591 - val_accuracy: 0.7205\n",
      "Epoch 19/30\n",
      "101/101 [==============================] - 202s 2s/step - loss: 0.4158 - accuracy: 0.8114 - val_loss: 0.5286 - val_accuracy: 0.7520\n",
      "Epoch 20/30\n",
      "101/101 [==============================] - 197s 2s/step - loss: 0.4076 - accuracy: 0.8177 - val_loss: 0.5317 - val_accuracy: 0.7650\n",
      "Epoch 21/30\n",
      "101/101 [==============================] - 194s 2s/step - loss: 0.3976 - accuracy: 0.8240 - val_loss: 0.5438 - val_accuracy: 0.7495\n",
      "Epoch 22/30\n",
      "101/101 [==============================] - 205s 2s/step - loss: 0.3917 - accuracy: 0.8241 - val_loss: 0.6002 - val_accuracy: 0.7142\n",
      "Epoch 23/30\n",
      "101/101 [==============================] - 201s 2s/step - loss: 0.3827 - accuracy: 0.8301 - val_loss: 0.5577 - val_accuracy: 0.7356\n",
      "Epoch 24/30\n",
      "101/101 [==============================] - 195s 2s/step - loss: 0.3719 - accuracy: 0.8393 - val_loss: 0.5370 - val_accuracy: 0.7608\n",
      "Epoch 25/30\n",
      "101/101 [==============================] - 194s 2s/step - loss: 0.3652 - accuracy: 0.8391 - val_loss: 0.5300 - val_accuracy: 0.7499\n",
      "Epoch 26/30\n",
      "101/101 [==============================] - 195s 2s/step - loss: 0.3588 - accuracy: 0.8426 - val_loss: 0.5289 - val_accuracy: 0.7722\n",
      "Epoch 27/30\n",
      "101/101 [==============================] - 193s 2s/step - loss: 0.3491 - accuracy: 0.8523 - val_loss: 0.5345 - val_accuracy: 0.7671\n",
      "Epoch 28/30\n",
      "101/101 [==============================] - 195s 2s/step - loss: 0.3441 - accuracy: 0.8527 - val_loss: 0.5624 - val_accuracy: 0.7671\n",
      "Epoch 29/30\n",
      "101/101 [==============================] - 194s 2s/step - loss: 0.3356 - accuracy: 0.8592 - val_loss: 0.5365 - val_accuracy: 0.7625\n",
      "Epoch 30/30\n",
      "101/101 [==============================] - 194s 2s/step - loss: 0.3264 - accuracy: 0.8619 - val_loss: 0.5494 - val_accuracy: 0.7596\n"
     ]
    }
   ],
   "source": [
    "# Compile the model\n",
    "cnn1.compile(optimizer=RMSprop(learning_rate=0.0001),\n",
    "            loss='binary_crossentropy',\n",
    "            metrics=['accuracy'])\n",
    "\n",
    "# Fit and Train the model\n",
    "cnn1_history = cnn1.fit(train_images, train_labels,\n",
    "                        epochs=30,\n",
    "                        batch_size=100,\n",
    "                        validation_data=(val_images, val_labels),\n",
    "                        class_weight=train_class_weights)"
   ]
  },
  {
   "cell_type": "code",
   "execution_count": 22,
   "id": "b5caabdc",
   "metadata": {
    "ExecuteTime": {
     "end_time": "2022-03-02T21:52:59.295152Z",
     "start_time": "2022-03-02T21:52:59.036676Z"
    }
   },
   "outputs": [
    {
     "data": {
      "image/png": "[encoded data removed]",
      "text/plain": [
       "<Figure size 1224x360 with 2 Axes>"
      ]
     },
     "metadata": {},
     "output_type": "display_data"
    }
   ],
   "source": [
    "visualize_training_results(cnn1_history)"
   ]
  },
  {
   "cell_type": "code",
   "execution_count": 18,
   "id": "02bcb9fb",
   "metadata": {
    "ExecuteTime": {
     "end_time": "2022-03-02T21:51:28.494484Z",
     "start_time": "2022-03-02T21:50:37.408040Z"
    }
   },
   "outputs": [
    {
     "name": "stdout",
     "output_type": "stream",
     "text": [
      "314/314 [==============================] - 51s 162ms/step - loss: 0.2997 - accuracy: 0.8655\n"
     ]
    }
   ],
   "source": [
    "cnn1_train_results = cnn1.evaluate(train_images, train_labels)"
   ]
  },
  {
   "cell_type": "code",
   "execution_count": 19,
   "id": "8e80f17d",
   "metadata": {
    "ExecuteTime": {
     "end_time": "2022-03-02T21:51:40.946025Z",
     "start_time": "2022-03-02T21:51:28.496571Z"
    }
   },
   "outputs": [
    {
     "name": "stdout",
     "output_type": "stream",
     "text": [
      "75/75 [==============================] - 12s 165ms/step - loss: 0.5494 - accuracy: 0.7596\n"
     ]
    }
   ],
   "source": [
    "cnn1_val_results = cnn1.evaluate(val_images, val_labels)"
   ]
  },
  {
   "cell_type": "code",
   "execution_count": 20,
   "id": "67a33e97",
   "metadata": {
    "ExecuteTime": {
     "end_time": "2022-03-02T21:51:41.726139Z",
     "start_time": "2022-03-02T21:51:40.947546Z"
    }
   },
   "outputs": [
    {
     "name": "stdout",
     "output_type": "stream",
     "text": [
      "4/4 [==============================] - 1s 180ms/step - loss: 0.4352 - accuracy: 0.7760\n"
     ]
    }
   ],
   "source": [
    "cnn1_test_results = cnn1.evaluate(test_images, test_labels)"
   ]
  },
  {
   "cell_type": "code",
   "execution_count": 21,
   "id": "98909b7e",
   "metadata": {
    "ExecuteTime": {
     "end_time": "2022-03-02T21:51:42.625272Z",
     "start_time": "2022-03-02T21:51:41.728266Z"
    }
   },
   "outputs": [
    {
     "name": "stdout",
     "output_type": "stream",
     "text": [
      "              precision    recall  f1-score   support\n",
      "\n",
      "         0.0       0.76      0.57      0.65        46\n",
      "         1.0       0.78      0.90      0.84        79\n",
      "\n",
      "    accuracy                           0.78       125\n",
      "   macro avg       0.77      0.73      0.74       125\n",
      "weighted avg       0.77      0.78      0.77       125\n",
      "\n"
     ]
    },
    {
     "data": {
      "image/png": "[encoded data removed]",
      "text/plain": [
       "<Figure size 504x504 with 2 Axes>"
      ]
     },
     "metadata": {},
     "output_type": "display_data"
    }
   ],
   "source": [
    "plot_confusion_matrix(cnn1, test_labels, test_images)"
   ]
  },
  {
   "cell_type": "markdown",
   "id": "a5baf48e",
   "metadata": {},
   "source": [
    "### This is worse than our baseline model using only dense layers, but at least we are not over fitting\n",
    "\n",
    "### It also looks like we need more epochs as our accuracy kept improving and never tailed off"
   ]
  },
  {
   "cell_type": "markdown",
   "id": "cc944ea1",
   "metadata": {},
   "source": [
    "## Now we will build CNNs with more epochs and data augmentation which will hopefully provide a more robust model that will perform better on validation and test data"
   ]
  },
  {
   "cell_type": "code",
   "execution_count": 36,
   "id": "9b75bd29",
   "metadata": {
    "ExecuteTime": {
     "end_time": "2022-03-03T04:21:53.091336Z",
     "start_time": "2022-03-03T04:19:18.476872Z"
    }
   },
   "outputs": [
    {
     "name": "stdout",
     "output_type": "stream",
     "text": [
      "Found 10024 images belonging to 2 classes.\n",
      "Found 2379 images belonging to 2 classes.\n",
      "Found 125 images belonging to 2 classes.\n"
     ]
    }
   ],
   "source": [
    "# Introduce data augmentation methods in our training data generator\n",
    "\n",
    "train_generator = ImageDataGenerator(rescale=1./255, \n",
    "        rotation_range=180, fill_mode='nearest',\n",
    "        horizontal_flip=True,\n",
    "        vertical_flip=True,\n",
    "        brightness_range=[0.5,1.5]).flow_from_directory('data/tvt/train',\n",
    "                                                        classes={'Normal':0, 'ALL':1},\n",
    "                                                        class_mode='binary',\n",
    "                                                        batch_size=10024)\n",
    "\n",
    "val_generator = ImageDataGenerator(rescale=1./255).flow_from_directory(\n",
    "                                    'data/tvt/validation',\n",
    "                                    classes={'Normal':0, 'ALL':1},\n",
    "                                    class_mode='binary',\n",
    "                                    batch_size = 2379)\n",
    "\n",
    "test_generator = ImageDataGenerator(rescale=1./255).flow_from_directory(\n",
    "                                    'data/tvt/test',\n",
    "                                    classes={'Normal':0, 'ALL':1},        \n",
    "                                    class_mode='binary',\n",
    "                                    batch_size = 125)\n",
    "\n",
    "\n",
    "train_images, train_labels = next(train_generator)\n",
    "val_images, val_labels = next(val_generator)\n",
    "test_images, test_labels = next(test_generator)\n",
    "\n",
    "\n",
    "class_weights = class_weight.compute_class_weight(class_weight='balanced',\n",
    "                                                  classes=np.unique(train_generator.classes),\n",
    "                                                  y=train_generator.classes\n",
    "                                                 )\n",
    "\n",
    "train_class_weights = dict(enumerate(class_weights))"
   ]
  },
  {
   "cell_type": "code",
   "execution_count": 37,
   "id": "77db532f",
   "metadata": {
    "ExecuteTime": {
     "end_time": "2022-03-03T04:21:53.165435Z",
     "start_time": "2022-03-03T04:21:53.094378Z"
    }
   },
   "outputs": [],
   "source": [
    "# Instantiate the model and build it's layers\n",
    "# We will add another CNN layer on this model\n",
    "\n",
    "cnn_aug = models.Sequential()\n",
    "\n",
    "cnn_aug.add(layers.Conv2D(32,(3,3), activation='relu', padding='same', input_shape=(256,256,3)))\n",
    "cnn_aug.add(layers.MaxPool2D(2,2))\n",
    "\n",
    "cnn_aug.add(layers.Conv2D(64,(3,3), activation='relu', padding='same'))\n",
    "cnn_aug.add(layers.MaxPool2D(2,2))\n",
    "\n",
    "cnn_aug.add(layers.Conv2D(64,(3,3), activation='relu', padding='same'))\n",
    "cnn_aug.add(layers.MaxPool2D(2,2))\n",
    "\n",
    "cnn_aug.add(layers.Flatten())\n",
    "cnn_aug.add(layers.Dense(64, activation='relu'))\n",
    "cnn_aug.add(layers.Dense(1, activation='sigmoid'))"
   ]
  },
  {
   "cell_type": "code",
   "execution_count": 38,
   "id": "fcc5740f",
   "metadata": {
    "ExecuteTime": {
     "end_time": "2022-03-03T09:22:25.716213Z",
     "start_time": "2022-03-03T04:21:53.167635Z"
    }
   },
   "outputs": [
    {
     "name": "stdout",
     "output_type": "stream",
     "text": [
      "Epoch 1/80\n",
      "101/101 [==============================] - 239s 2s/step - loss: 0.6097 - accuracy: 0.6992 - val_loss: 0.6245 - val_accuracy: 0.6910\n",
      "Epoch 2/80\n",
      "101/101 [==============================] - 234s 2s/step - loss: 0.5910 - accuracy: 0.7141 - val_loss: 0.6339 - val_accuracy: 0.6662\n",
      "Epoch 3/80\n",
      "101/101 [==============================] - 225s 2s/step - loss: 0.5791 - accuracy: 0.7154 - val_loss: 0.5659 - val_accuracy: 0.7322\n",
      "Epoch 4/80\n",
      "101/101 [==============================] - 226s 2s/step - loss: 0.5735 - accuracy: 0.7242 - val_loss: 0.5858 - val_accuracy: 0.7020\n",
      "Epoch 5/80\n",
      "101/101 [==============================] - 225s 2s/step - loss: 0.5655 - accuracy: 0.7248 - val_loss: 0.5928 - val_accuracy: 0.7297\n",
      "Epoch 6/80\n",
      "101/101 [==============================] - 225s 2s/step - loss: 0.5575 - accuracy: 0.7338 - val_loss: 0.6103 - val_accuracy: 0.7264\n",
      "Epoch 7/80\n",
      "101/101 [==============================] - 226s 2s/step - loss: 0.5509 - accuracy: 0.7354 - val_loss: 0.5935 - val_accuracy: 0.6990\n",
      "Epoch 8/80\n",
      "101/101 [==============================] - 226s 2s/step - loss: 0.5425 - accuracy: 0.7416 - val_loss: 0.5870 - val_accuracy: 0.7104\n",
      "Epoch 9/80\n",
      "101/101 [==============================] - 225s 2s/step - loss: 0.5366 - accuracy: 0.7420 - val_loss: 0.6162 - val_accuracy: 0.6629\n",
      "Epoch 10/80\n",
      "101/101 [==============================] - 224s 2s/step - loss: 0.5286 - accuracy: 0.7448 - val_loss: 0.5924 - val_accuracy: 0.6923\n",
      "Epoch 11/80\n",
      "101/101 [==============================] - 225s 2s/step - loss: 0.5240 - accuracy: 0.7486 - val_loss: 0.5573 - val_accuracy: 0.7402\n",
      "Epoch 12/80\n",
      "101/101 [==============================] - 225s 2s/step - loss: 0.5162 - accuracy: 0.7558 - val_loss: 0.5725 - val_accuracy: 0.7016\n",
      "Epoch 13/80\n",
      "101/101 [==============================] - 225s 2s/step - loss: 0.5099 - accuracy: 0.7582 - val_loss: 0.5513 - val_accuracy: 0.7369\n",
      "Epoch 14/80\n",
      "101/101 [==============================] - 225s 2s/step - loss: 0.5029 - accuracy: 0.7596 - val_loss: 0.5514 - val_accuracy: 0.7402\n",
      "Epoch 15/80\n",
      "101/101 [==============================] - 224s 2s/step - loss: 0.4975 - accuracy: 0.7626 - val_loss: 0.5517 - val_accuracy: 0.7306\n",
      "Epoch 16/80\n",
      "101/101 [==============================] - 225s 2s/step - loss: 0.4875 - accuracy: 0.7689 - val_loss: 0.6405 - val_accuracy: 0.6230\n",
      "Epoch 17/80\n",
      "101/101 [==============================] - 224s 2s/step - loss: 0.4808 - accuracy: 0.7718 - val_loss: 0.6454 - val_accuracy: 0.6347\n",
      "Epoch 18/80\n",
      "101/101 [==============================] - 225s 2s/step - loss: 0.4728 - accuracy: 0.7786 - val_loss: 0.5667 - val_accuracy: 0.7037\n",
      "Epoch 19/80\n",
      "101/101 [==============================] - 225s 2s/step - loss: 0.4651 - accuracy: 0.7882 - val_loss: 0.5608 - val_accuracy: 0.7062\n",
      "Epoch 20/80\n",
      "101/101 [==============================] - 225s 2s/step - loss: 0.4634 - accuracy: 0.7838 - val_loss: 0.5841 - val_accuracy: 0.6784\n",
      "Epoch 21/80\n",
      "101/101 [==============================] - 225s 2s/step - loss: 0.4563 - accuracy: 0.7822 - val_loss: 0.5402 - val_accuracy: 0.7339\n",
      "Epoch 22/80\n",
      "101/101 [==============================] - 225s 2s/step - loss: 0.4511 - accuracy: 0.7922 - val_loss: 0.5993 - val_accuracy: 0.6755\n",
      "Epoch 23/80\n",
      "101/101 [==============================] - 225s 2s/step - loss: 0.4437 - accuracy: 0.7973 - val_loss: 0.6574 - val_accuracy: 0.6061\n",
      "Epoch 24/80\n",
      "101/101 [==============================] - 226s 2s/step - loss: 0.4373 - accuracy: 0.7967 - val_loss: 0.5905 - val_accuracy: 0.6818\n",
      "Epoch 25/80\n",
      "101/101 [==============================] - 224s 2s/step - loss: 0.4292 - accuracy: 0.8013 - val_loss: 0.5286 - val_accuracy: 0.7470\n",
      "Epoch 26/80\n",
      "101/101 [==============================] - 225s 2s/step - loss: 0.4263 - accuracy: 0.8024 - val_loss: 0.5954 - val_accuracy: 0.6768\n",
      "Epoch 27/80\n",
      "101/101 [==============================] - 225s 2s/step - loss: 0.4151 - accuracy: 0.8089 - val_loss: 0.5218 - val_accuracy: 0.7537\n",
      "Epoch 28/80\n",
      "101/101 [==============================] - 225s 2s/step - loss: 0.4067 - accuracy: 0.8126 - val_loss: 0.6954 - val_accuracy: 0.5822\n",
      "Epoch 29/80\n",
      "101/101 [==============================] - 226s 2s/step - loss: 0.4051 - accuracy: 0.8156 - val_loss: 0.5306 - val_accuracy: 0.7482\n",
      "Epoch 30/80\n",
      "101/101 [==============================] - 226s 2s/step - loss: 0.4002 - accuracy: 0.8186 - val_loss: 0.5408 - val_accuracy: 0.7406\n",
      "Epoch 31/80\n",
      "101/101 [==============================] - 225s 2s/step - loss: 0.3863 - accuracy: 0.8315 - val_loss: 0.5994 - val_accuracy: 0.6839\n",
      "Epoch 32/80\n",
      "101/101 [==============================] - 225s 2s/step - loss: 0.3865 - accuracy: 0.8278 - val_loss: 0.5437 - val_accuracy: 0.7276\n",
      "Epoch 33/80\n",
      "101/101 [==============================] - 226s 2s/step - loss: 0.3798 - accuracy: 0.8290 - val_loss: 0.7428 - val_accuracy: 0.5523\n",
      "Epoch 34/80\n",
      "101/101 [==============================] - 226s 2s/step - loss: 0.3737 - accuracy: 0.8362 - val_loss: 0.5348 - val_accuracy: 0.7322\n",
      "Epoch 35/80\n",
      "101/101 [==============================] - 226s 2s/step - loss: 0.3656 - accuracy: 0.8373 - val_loss: 0.5282 - val_accuracy: 0.7541\n",
      "Epoch 36/80\n",
      "101/101 [==============================] - 225s 2s/step - loss: 0.3589 - accuracy: 0.8411 - val_loss: 0.5318 - val_accuracy: 0.7474\n",
      "Epoch 37/80\n",
      "101/101 [==============================] - 225s 2s/step - loss: 0.3583 - accuracy: 0.8434 - val_loss: 0.5339 - val_accuracy: 0.7583\n",
      "Epoch 38/80\n",
      "101/101 [==============================] - 224s 2s/step - loss: 0.3438 - accuracy: 0.8512 - val_loss: 0.5335 - val_accuracy: 0.7516\n",
      "Epoch 39/80\n",
      "101/101 [==============================] - 225s 2s/step - loss: 0.3403 - accuracy: 0.8547 - val_loss: 0.6732 - val_accuracy: 0.6704\n",
      "Epoch 40/80\n",
      "101/101 [==============================] - 225s 2s/step - loss: 0.3379 - accuracy: 0.8523 - val_loss: 0.7279 - val_accuracy: 0.6402\n",
      "Epoch 41/80\n",
      "101/101 [==============================] - 225s 2s/step - loss: 0.3311 - accuracy: 0.8599 - val_loss: 0.5401 - val_accuracy: 0.7566\n",
      "Epoch 42/80\n",
      "101/101 [==============================] - 225s 2s/step - loss: 0.3261 - accuracy: 0.8606 - val_loss: 0.5794 - val_accuracy: 0.7112\n",
      "Epoch 43/80\n",
      "101/101 [==============================] - 225s 2s/step - loss: 0.3115 - accuracy: 0.8661 - val_loss: 0.5687 - val_accuracy: 0.7146\n",
      "Epoch 44/80\n",
      "101/101 [==============================] - 224s 2s/step - loss: 0.3093 - accuracy: 0.8691 - val_loss: 0.5389 - val_accuracy: 0.7503\n",
      "Epoch 45/80\n",
      "101/101 [==============================] - 225s 2s/step - loss: 0.3056 - accuracy: 0.8694 - val_loss: 0.6548 - val_accuracy: 0.6435\n",
      "Epoch 46/80\n",
      "101/101 [==============================] - 225s 2s/step - loss: 0.2951 - accuracy: 0.8760 - val_loss: 0.5579 - val_accuracy: 0.7297\n",
      "Epoch 47/80\n",
      "101/101 [==============================] - 224s 2s/step - loss: 0.2929 - accuracy: 0.8758 - val_loss: 0.5694 - val_accuracy: 0.7285\n",
      "Epoch 48/80\n",
      "101/101 [==============================] - 225s 2s/step - loss: 0.2822 - accuracy: 0.8797 - val_loss: 0.6734 - val_accuracy: 0.6679\n",
      "Epoch 49/80\n",
      "101/101 [==============================] - 225s 2s/step - loss: 0.2780 - accuracy: 0.8861 - val_loss: 0.5579 - val_accuracy: 0.7474\n",
      "Epoch 50/80\n",
      "101/101 [==============================] - 225s 2s/step - loss: 0.2661 - accuracy: 0.8935 - val_loss: 0.5631 - val_accuracy: 0.7486\n",
      "Epoch 51/80\n",
      "101/101 [==============================] - 225s 2s/step - loss: 0.2683 - accuracy: 0.8896 - val_loss: 0.5726 - val_accuracy: 0.7364\n",
      "Epoch 52/80\n",
      "101/101 [==============================] - 225s 2s/step - loss: 0.2590 - accuracy: 0.8948 - val_loss: 0.7226 - val_accuracy: 0.6272\n",
      "Epoch 53/80\n",
      "101/101 [==============================] - 225s 2s/step - loss: 0.2567 - accuracy: 0.8948 - val_loss: 0.5559 - val_accuracy: 0.7470\n",
      "Epoch 54/80\n",
      "101/101 [==============================] - 224s 2s/step - loss: 0.2502 - accuracy: 0.9004 - val_loss: 0.6263 - val_accuracy: 0.7079\n",
      "Epoch 55/80\n",
      "101/101 [==============================] - 225s 2s/step - loss: 0.2412 - accuracy: 0.9053 - val_loss: 0.5782 - val_accuracy: 0.7482\n",
      "Epoch 56/80\n",
      "101/101 [==============================] - 225s 2s/step - loss: 0.2357 - accuracy: 0.9055 - val_loss: 0.5660 - val_accuracy: 0.7491\n",
      "Epoch 57/80\n",
      "101/101 [==============================] - 225s 2s/step - loss: 0.2327 - accuracy: 0.9078 - val_loss: 0.5820 - val_accuracy: 0.7352\n"
     ]
    },
    {
     "name": "stdout",
     "output_type": "stream",
     "text": [
      "Epoch 58/80\n",
      "101/101 [==============================] - 225s 2s/step - loss: 0.2262 - accuracy: 0.9083 - val_loss: 0.7260 - val_accuracy: 0.6440\n",
      "Epoch 59/80\n",
      "101/101 [==============================] - 225s 2s/step - loss: 0.2233 - accuracy: 0.9084 - val_loss: 0.7522 - val_accuracy: 0.6293\n",
      "Epoch 60/80\n",
      "101/101 [==============================] - 226s 2s/step - loss: 0.2103 - accuracy: 0.9186 - val_loss: 0.6651 - val_accuracy: 0.6730\n",
      "Epoch 61/80\n",
      "101/101 [==============================] - 225s 2s/step - loss: 0.2113 - accuracy: 0.9163 - val_loss: 0.5938 - val_accuracy: 0.7356\n",
      "Epoch 62/80\n",
      "101/101 [==============================] - 226s 2s/step - loss: 0.2061 - accuracy: 0.9197 - val_loss: 0.6169 - val_accuracy: 0.7293\n",
      "Epoch 63/80\n",
      "101/101 [==============================] - 226s 2s/step - loss: 0.2030 - accuracy: 0.9200 - val_loss: 0.6998 - val_accuracy: 0.6789\n",
      "Epoch 64/80\n",
      "101/101 [==============================] - 226s 2s/step - loss: 0.1939 - accuracy: 0.9268 - val_loss: 0.7034 - val_accuracy: 0.6860\n",
      "Epoch 65/80\n",
      "101/101 [==============================] - 225s 2s/step - loss: 0.1935 - accuracy: 0.9244 - val_loss: 0.7797 - val_accuracy: 0.6129\n",
      "Epoch 66/80\n",
      "101/101 [==============================] - 225s 2s/step - loss: 0.1814 - accuracy: 0.9336 - val_loss: 0.6908 - val_accuracy: 0.6713\n",
      "Epoch 67/80\n",
      "101/101 [==============================] - 225s 2s/step - loss: 0.1788 - accuracy: 0.9318 - val_loss: 0.7982 - val_accuracy: 0.6398\n",
      "Epoch 68/80\n",
      "101/101 [==============================] - 225s 2s/step - loss: 0.1742 - accuracy: 0.9360 - val_loss: 0.7608 - val_accuracy: 0.6276\n",
      "Epoch 69/80\n",
      "101/101 [==============================] - 226s 2s/step - loss: 0.1672 - accuracy: 0.9358 - val_loss: 0.8555 - val_accuracy: 0.6011\n",
      "Epoch 70/80\n",
      "101/101 [==============================] - 226s 2s/step - loss: 0.1650 - accuracy: 0.9372 - val_loss: 0.7293 - val_accuracy: 0.6574\n",
      "Epoch 71/80\n",
      "101/101 [==============================] - 225s 2s/step - loss: 0.1589 - accuracy: 0.9409 - val_loss: 0.6716 - val_accuracy: 0.7104\n",
      "Epoch 72/80\n",
      "101/101 [==============================] - 225s 2s/step - loss: 0.1564 - accuracy: 0.9430 - val_loss: 0.8309 - val_accuracy: 0.5864\n",
      "Epoch 73/80\n",
      "101/101 [==============================] - 225s 2s/step - loss: 0.1498 - accuracy: 0.9471 - val_loss: 0.6757 - val_accuracy: 0.6923\n",
      "Epoch 74/80\n",
      "101/101 [==============================] - 225s 2s/step - loss: 0.1516 - accuracy: 0.9439 - val_loss: 0.8204 - val_accuracy: 0.6175\n",
      "Epoch 75/80\n",
      "101/101 [==============================] - 225s 2s/step - loss: 0.1417 - accuracy: 0.9488 - val_loss: 0.6885 - val_accuracy: 0.7108\n",
      "Epoch 76/80\n",
      "101/101 [==============================] - 225s 2s/step - loss: 0.1388 - accuracy: 0.9523 - val_loss: 0.9068 - val_accuracy: 0.5897\n",
      "Epoch 77/80\n",
      "101/101 [==============================] - 225s 2s/step - loss: 0.1375 - accuracy: 0.9524 - val_loss: 0.8806 - val_accuracy: 0.6465\n",
      "Epoch 78/80\n",
      "101/101 [==============================] - 225s 2s/step - loss: 0.1312 - accuracy: 0.9537 - val_loss: 0.6851 - val_accuracy: 0.7104\n",
      "Epoch 79/80\n",
      "101/101 [==============================] - 225s 2s/step - loss: 0.1216 - accuracy: 0.9556 - val_loss: 0.6756 - val_accuracy: 0.7264\n",
      "Epoch 80/80\n",
      "101/101 [==============================] - 225s 2s/step - loss: 0.1245 - accuracy: 0.9577 - val_loss: 0.7005 - val_accuracy: 0.7449\n"
     ]
    }
   ],
   "source": [
    "# Compile the model\n",
    "cnn_aug.compile(optimizer=RMSprop(learning_rate=0.0001),\n",
    "            loss='binary_crossentropy',\n",
    "            metrics=['accuracy'])\n",
    "\n",
    "# Fit and Train the model with more epochs\n",
    "cnn_aug_history = cnn_aug.fit(train_images, train_labels,\n",
    "                        epochs=80,\n",
    "                        batch_size=100,\n",
    "                        validation_data=(val_images, val_labels),\n",
    "                        class_weight=train_class_weights)"
   ]
  },
  {
   "cell_type": "code",
   "execution_count": 39,
   "id": "d57341cc",
   "metadata": {
    "ExecuteTime": {
     "end_time": "2022-03-03T09:22:25.967231Z",
     "start_time": "2022-03-03T09:22:25.719204Z"
    }
   },
   "outputs": [
    {
     "data": {
      "image/png": "[encoded data removed]",
      "text/plain": [
       "<Figure size 1224x360 with 2 Axes>"
      ]
     },
     "metadata": {},
     "output_type": "display_data"
    }
   ],
   "source": [
    "visualize_training_results(cnn_aug_history)"
   ]
  },
  {
   "cell_type": "code",
   "execution_count": 40,
   "id": "8942b5de",
   "metadata": {
    "ExecuteTime": {
     "end_time": "2022-03-03T09:23:28.929085Z",
     "start_time": "2022-03-03T09:22:25.968786Z"
    }
   },
   "outputs": [
    {
     "name": "stdout",
     "output_type": "stream",
     "text": [
      "314/314 [==============================] - 63s 200ms/step - loss: 0.1219 - accuracy: 0.9472\n"
     ]
    }
   ],
   "source": [
    "cnn_aug_train_results = cnn_aug.evaluate(train_images, train_labels)"
   ]
  },
  {
   "cell_type": "code",
   "execution_count": 41,
   "id": "c1a088d2",
   "metadata": {
    "ExecuteTime": {
     "end_time": "2022-03-03T09:23:43.927595Z",
     "start_time": "2022-03-03T09:23:28.930442Z"
    }
   },
   "outputs": [
    {
     "name": "stdout",
     "output_type": "stream",
     "text": [
      "75/75 [==============================] - 15s 199ms/step - loss: 0.7005 - accuracy: 0.7449\n"
     ]
    }
   ],
   "source": [
    "cnn_aug_val_results = cnn_aug.evaluate(val_images, val_labels)"
   ]
  },
  {
   "cell_type": "code",
   "execution_count": 42,
   "id": "bee1b499",
   "metadata": {
    "ExecuteTime": {
     "end_time": "2022-03-03T09:23:44.766374Z",
     "start_time": "2022-03-03T09:23:43.928978Z"
    }
   },
   "outputs": [
    {
     "name": "stdout",
     "output_type": "stream",
     "text": [
      "4/4 [==============================] - 1s 200ms/step - loss: 0.5369 - accuracy: 0.8240\n"
     ]
    }
   ],
   "source": [
    "cnn_aug_test_results = cnn_aug.evaluate(test_images, test_labels)"
   ]
  },
  {
   "cell_type": "code",
   "execution_count": 43,
   "id": "c6d9b8ae",
   "metadata": {
    "ExecuteTime": {
     "end_time": "2022-03-03T09:23:45.718511Z",
     "start_time": "2022-03-03T09:23:44.768558Z"
    }
   },
   "outputs": [
    {
     "name": "stdout",
     "output_type": "stream",
     "text": [
      "              precision    recall  f1-score   support\n",
      "\n",
      "         0.0       0.82      0.67      0.74        46\n",
      "         1.0       0.83      0.91      0.87        79\n",
      "\n",
      "    accuracy                           0.82       125\n",
      "   macro avg       0.82      0.79      0.80       125\n",
      "weighted avg       0.82      0.82      0.82       125\n",
      "\n"
     ]
    },
    {
     "data": {
      "image/png": "[encoded data removed]",
      "text/plain": [
       "<Figure size 504x504 with 2 Axes>"
      ]
     },
     "metadata": {},
     "output_type": "display_data"
    }
   ],
   "source": [
    "plot_confusion_matrix(cnn_aug, test_labels, test_images)"
   ]
  },
  {
   "cell_type": "markdown",
   "id": "253c070c",
   "metadata": {},
   "source": [
    "## Build a CNN with some dropout layers to fight the over fitting"
   ]
  },
  {
   "cell_type": "code",
   "execution_count": 44,
   "id": "d4f4bf33",
   "metadata": {
    "ExecuteTime": {
     "end_time": "2022-03-03T09:23:45.768691Z",
     "start_time": "2022-03-03T09:23:45.720194Z"
    }
   },
   "outputs": [],
   "source": [
    "# Instantiate the model and build it's layers\n",
    "# We will first dropout on the dense layer at the end\n",
    "\n",
    "cnn_dropout = models.Sequential()\n",
    "\n",
    "cnn_dropout.add(layers.Conv2D(32,(3,3), activation='relu', padding='same', input_shape=(256,256,3)))\n",
    "cnn_dropout.add(layers.MaxPool2D(2,2))\n",
    "\n",
    "cnn_dropout.add(layers.Conv2D(64,(3,3), activation='relu', padding='same'))\n",
    "cnn_dropout.add(layers.MaxPool2D(2,2))\n",
    "\n",
    "cnn_dropout.add(layers.Conv2D(64,(3,3), activation='relu', padding='same'))\n",
    "cnn_dropout.add(layers.MaxPool2D(2,2))\n",
    "\n",
    "cnn_dropout.add(layers.Flatten())\n",
    "cnn_dropout.add(layers.Dense(64, activation='relu'))\n",
    "cnn_dropout.add(layers.Dropout(0.5))\n",
    "cnn_dropout.add(layers.Dense(1, activation='sigmoid'))"
   ]
  },
  {
   "cell_type": "code",
   "execution_count": 45,
   "id": "1582bae6",
   "metadata": {
    "ExecuteTime": {
     "end_time": "2022-03-03T14:22:56.591688Z",
     "start_time": "2022-03-03T09:23:45.772222Z"
    }
   },
   "outputs": [
    {
     "name": "stdout",
     "output_type": "stream",
     "text": [
      "Epoch 1/80\n",
      "101/101 [==============================] - 225s 2s/step - loss: 0.6123 - accuracy: 0.7027 - val_loss: 0.6028 - val_accuracy: 0.7133\n",
      "Epoch 2/80\n",
      "101/101 [==============================] - 225s 2s/step - loss: 0.5974 - accuracy: 0.7083 - val_loss: 0.6007 - val_accuracy: 0.7243\n",
      "Epoch 3/80\n",
      "101/101 [==============================] - 224s 2s/step - loss: 0.5904 - accuracy: 0.7149 - val_loss: 0.6277 - val_accuracy: 0.6747\n",
      "Epoch 4/80\n",
      "101/101 [==============================] - 224s 2s/step - loss: 0.5850 - accuracy: 0.7173 - val_loss: 0.5855 - val_accuracy: 0.7297\n",
      "Epoch 5/80\n",
      "101/101 [==============================] - 224s 2s/step - loss: 0.5785 - accuracy: 0.7286 - val_loss: 0.6089 - val_accuracy: 0.6847\n",
      "Epoch 6/80\n",
      "101/101 [==============================] - 225s 2s/step - loss: 0.5713 - accuracy: 0.7265 - val_loss: 0.6732 - val_accuracy: 0.5910\n",
      "Epoch 7/80\n",
      "101/101 [==============================] - 224s 2s/step - loss: 0.5688 - accuracy: 0.7305 - val_loss: 0.6213 - val_accuracy: 0.6658\n",
      "Epoch 8/80\n",
      "101/101 [==============================] - 225s 2s/step - loss: 0.5653 - accuracy: 0.7310 - val_loss: 0.5793 - val_accuracy: 0.7373\n",
      "Epoch 9/80\n",
      "101/101 [==============================] - 224s 2s/step - loss: 0.5556 - accuracy: 0.7360 - val_loss: 0.5678 - val_accuracy: 0.7390\n",
      "Epoch 10/80\n",
      "101/101 [==============================] - 224s 2s/step - loss: 0.5532 - accuracy: 0.7393 - val_loss: 0.5793 - val_accuracy: 0.7289\n",
      "Epoch 11/80\n",
      "101/101 [==============================] - 224s 2s/step - loss: 0.5467 - accuracy: 0.7369 - val_loss: 0.5913 - val_accuracy: 0.7095\n",
      "Epoch 12/80\n",
      "101/101 [==============================] - 224s 2s/step - loss: 0.5434 - accuracy: 0.7420 - val_loss: 0.5715 - val_accuracy: 0.7385\n",
      "Epoch 13/80\n",
      "101/101 [==============================] - 224s 2s/step - loss: 0.5356 - accuracy: 0.7435 - val_loss: 0.6068 - val_accuracy: 0.6793\n",
      "Epoch 14/80\n",
      "101/101 [==============================] - 225s 2s/step - loss: 0.5351 - accuracy: 0.7470 - val_loss: 0.6454 - val_accuracy: 0.6326\n",
      "Epoch 15/80\n",
      "101/101 [==============================] - 224s 2s/step - loss: 0.5298 - accuracy: 0.7504 - val_loss: 0.6481 - val_accuracy: 0.6166\n",
      "Epoch 16/80\n",
      "101/101 [==============================] - 224s 2s/step - loss: 0.5227 - accuracy: 0.7506 - val_loss: 0.5500 - val_accuracy: 0.7398\n",
      "Epoch 17/80\n",
      "101/101 [==============================] - 225s 2s/step - loss: 0.5207 - accuracy: 0.7513 - val_loss: 0.6221 - val_accuracy: 0.6461\n",
      "Epoch 18/80\n",
      "101/101 [==============================] - 225s 2s/step - loss: 0.5148 - accuracy: 0.7565 - val_loss: 0.5431 - val_accuracy: 0.7537\n",
      "Epoch 19/80\n",
      "101/101 [==============================] - 224s 2s/step - loss: 0.5114 - accuracy: 0.7560 - val_loss: 0.6088 - val_accuracy: 0.6604\n",
      "Epoch 20/80\n",
      "101/101 [==============================] - 225s 2s/step - loss: 0.5035 - accuracy: 0.7638 - val_loss: 0.5868 - val_accuracy: 0.6856\n",
      "Epoch 21/80\n",
      "101/101 [==============================] - 224s 2s/step - loss: 0.4987 - accuracy: 0.7684 - val_loss: 0.6341 - val_accuracy: 0.6263\n",
      "Epoch 22/80\n",
      "101/101 [==============================] - 225s 2s/step - loss: 0.4967 - accuracy: 0.7670 - val_loss: 0.5634 - val_accuracy: 0.7142\n",
      "Epoch 23/80\n",
      "101/101 [==============================] - 224s 2s/step - loss: 0.4900 - accuracy: 0.7727 - val_loss: 0.5916 - val_accuracy: 0.6683\n",
      "Epoch 24/80\n",
      "101/101 [==============================] - 224s 2s/step - loss: 0.4874 - accuracy: 0.7696 - val_loss: 0.5288 - val_accuracy: 0.7507\n",
      "Epoch 25/80\n",
      "101/101 [==============================] - 225s 2s/step - loss: 0.4818 - accuracy: 0.7773 - val_loss: 0.5303 - val_accuracy: 0.7470\n",
      "Epoch 26/80\n",
      "101/101 [==============================] - 225s 2s/step - loss: 0.4738 - accuracy: 0.7782 - val_loss: 0.6400 - val_accuracy: 0.6166\n",
      "Epoch 27/80\n",
      "101/101 [==============================] - 225s 2s/step - loss: 0.4722 - accuracy: 0.7791 - val_loss: 0.5771 - val_accuracy: 0.6915\n",
      "Epoch 28/80\n",
      "101/101 [==============================] - 224s 2s/step - loss: 0.4678 - accuracy: 0.7832 - val_loss: 0.5562 - val_accuracy: 0.7146\n",
      "Epoch 29/80\n",
      "101/101 [==============================] - 224s 2s/step - loss: 0.4598 - accuracy: 0.7876 - val_loss: 0.5509 - val_accuracy: 0.7457\n",
      "Epoch 30/80\n",
      "101/101 [==============================] - 224s 2s/step - loss: 0.4560 - accuracy: 0.7868 - val_loss: 0.6284 - val_accuracy: 0.6360\n",
      "Epoch 31/80\n",
      "101/101 [==============================] - 225s 2s/step - loss: 0.4539 - accuracy: 0.7895 - val_loss: 0.5775 - val_accuracy: 0.6873\n",
      "Epoch 32/80\n",
      "101/101 [==============================] - 225s 2s/step - loss: 0.4471 - accuracy: 0.7946 - val_loss: 0.6044 - val_accuracy: 0.6507\n",
      "Epoch 33/80\n",
      "101/101 [==============================] - 224s 2s/step - loss: 0.4454 - accuracy: 0.7968 - val_loss: 0.6034 - val_accuracy: 0.6742\n",
      "Epoch 34/80\n",
      "101/101 [==============================] - 225s 2s/step - loss: 0.4393 - accuracy: 0.7990 - val_loss: 0.5348 - val_accuracy: 0.7301\n",
      "Epoch 35/80\n",
      "101/101 [==============================] - 224s 2s/step - loss: 0.4356 - accuracy: 0.8032 - val_loss: 0.5615 - val_accuracy: 0.7125\n",
      "Epoch 36/80\n",
      "101/101 [==============================] - 225s 2s/step - loss: 0.4337 - accuracy: 0.8016 - val_loss: 0.5875 - val_accuracy: 0.6759\n",
      "Epoch 37/80\n",
      "101/101 [==============================] - 224s 2s/step - loss: 0.4230 - accuracy: 0.8116 - val_loss: 0.5158 - val_accuracy: 0.7608\n",
      "Epoch 38/80\n",
      "101/101 [==============================] - 225s 2s/step - loss: 0.4193 - accuracy: 0.8160 - val_loss: 0.6009 - val_accuracy: 0.6700\n",
      "Epoch 39/80\n",
      "101/101 [==============================] - 225s 2s/step - loss: 0.4158 - accuracy: 0.8116 - val_loss: 0.5451 - val_accuracy: 0.7289\n",
      "Epoch 40/80\n",
      "101/101 [==============================] - 225s 2s/step - loss: 0.4079 - accuracy: 0.8183 - val_loss: 0.5578 - val_accuracy: 0.7079\n",
      "Epoch 41/80\n",
      "101/101 [==============================] - 224s 2s/step - loss: 0.4060 - accuracy: 0.8121 - val_loss: 0.5623 - val_accuracy: 0.7116\n",
      "Epoch 42/80\n",
      "101/101 [==============================] - 225s 2s/step - loss: 0.4050 - accuracy: 0.8219 - val_loss: 0.5419 - val_accuracy: 0.7335\n",
      "Epoch 43/80\n",
      "101/101 [==============================] - 225s 2s/step - loss: 0.3936 - accuracy: 0.8281 - val_loss: 0.5977 - val_accuracy: 0.6700\n",
      "Epoch 44/80\n",
      "101/101 [==============================] - 224s 2s/step - loss: 0.3980 - accuracy: 0.8242 - val_loss: 0.6386 - val_accuracy: 0.6427\n",
      "Epoch 45/80\n",
      "101/101 [==============================] - 225s 2s/step - loss: 0.3868 - accuracy: 0.8294 - val_loss: 0.5581 - val_accuracy: 0.7205\n",
      "Epoch 46/80\n",
      "101/101 [==============================] - 225s 2s/step - loss: 0.3837 - accuracy: 0.8301 - val_loss: 0.5280 - val_accuracy: 0.7419\n",
      "Epoch 47/80\n",
      "101/101 [==============================] - 225s 2s/step - loss: 0.3804 - accuracy: 0.8350 - val_loss: 0.5856 - val_accuracy: 0.6860\n",
      "Epoch 48/80\n",
      "101/101 [==============================] - 224s 2s/step - loss: 0.3762 - accuracy: 0.8357 - val_loss: 0.5594 - val_accuracy: 0.7112\n",
      "Epoch 49/80\n",
      "101/101 [==============================] - 224s 2s/step - loss: 0.3727 - accuracy: 0.8363 - val_loss: 0.6058 - val_accuracy: 0.6805\n",
      "Epoch 50/80\n",
      "101/101 [==============================] - 224s 2s/step - loss: 0.3694 - accuracy: 0.8414 - val_loss: 0.5541 - val_accuracy: 0.7222\n",
      "Epoch 51/80\n",
      "101/101 [==============================] - 224s 2s/step - loss: 0.3626 - accuracy: 0.8434 - val_loss: 0.5473 - val_accuracy: 0.7268\n",
      "Epoch 52/80\n",
      "101/101 [==============================] - 224s 2s/step - loss: 0.3605 - accuracy: 0.8425 - val_loss: 0.5581 - val_accuracy: 0.7255\n",
      "Epoch 53/80\n",
      "101/101 [==============================] - 224s 2s/step - loss: 0.3562 - accuracy: 0.8448 - val_loss: 0.6608 - val_accuracy: 0.6461\n",
      "Epoch 54/80\n",
      "101/101 [==============================] - 224s 2s/step - loss: 0.3520 - accuracy: 0.8470 - val_loss: 0.6038 - val_accuracy: 0.6873\n",
      "Epoch 55/80\n",
      "101/101 [==============================] - 224s 2s/step - loss: 0.3503 - accuracy: 0.8479 - val_loss: 0.6433 - val_accuracy: 0.6116\n",
      "Epoch 56/80\n",
      "101/101 [==============================] - 225s 2s/step - loss: 0.3472 - accuracy: 0.8495 - val_loss: 0.6025 - val_accuracy: 0.6915\n",
      "Epoch 57/80\n",
      "101/101 [==============================] - 224s 2s/step - loss: 0.3433 - accuracy: 0.8567 - val_loss: 0.5218 - val_accuracy: 0.7646\n"
     ]
    },
    {
     "name": "stdout",
     "output_type": "stream",
     "text": [
      "Epoch 58/80\n",
      "101/101 [==============================] - 224s 2s/step - loss: 0.3386 - accuracy: 0.8580 - val_loss: 0.6004 - val_accuracy: 0.6873\n",
      "Epoch 59/80\n",
      "101/101 [==============================] - 224s 2s/step - loss: 0.3360 - accuracy: 0.8565 - val_loss: 0.5564 - val_accuracy: 0.7217\n",
      "Epoch 60/80\n",
      "101/101 [==============================] - 224s 2s/step - loss: 0.3240 - accuracy: 0.8615 - val_loss: 0.6450 - val_accuracy: 0.6797\n",
      "Epoch 61/80\n",
      "101/101 [==============================] - 225s 2s/step - loss: 0.3237 - accuracy: 0.8596 - val_loss: 0.6167 - val_accuracy: 0.6818\n",
      "Epoch 62/80\n",
      "101/101 [==============================] - 225s 2s/step - loss: 0.3217 - accuracy: 0.8631 - val_loss: 0.5947 - val_accuracy: 0.6990\n",
      "Epoch 63/80\n",
      "101/101 [==============================] - 225s 2s/step - loss: 0.3106 - accuracy: 0.8661 - val_loss: 0.6250 - val_accuracy: 0.6389\n",
      "Epoch 64/80\n",
      "101/101 [==============================] - 225s 2s/step - loss: 0.3120 - accuracy: 0.8680 - val_loss: 0.5658 - val_accuracy: 0.7335\n",
      "Epoch 65/80\n",
      "101/101 [==============================] - 224s 2s/step - loss: 0.3171 - accuracy: 0.8639 - val_loss: 0.5319 - val_accuracy: 0.7549\n",
      "Epoch 66/80\n",
      "101/101 [==============================] - 225s 2s/step - loss: 0.3073 - accuracy: 0.8690 - val_loss: 0.5569 - val_accuracy: 0.7373\n",
      "Epoch 67/80\n",
      "101/101 [==============================] - 224s 2s/step - loss: 0.2972 - accuracy: 0.8779 - val_loss: 0.5548 - val_accuracy: 0.7499\n",
      "Epoch 68/80\n",
      "101/101 [==============================] - 224s 2s/step - loss: 0.2977 - accuracy: 0.8762 - val_loss: 0.6242 - val_accuracy: 0.6919\n",
      "Epoch 69/80\n",
      "101/101 [==============================] - 224s 2s/step - loss: 0.2894 - accuracy: 0.8777 - val_loss: 0.6725 - val_accuracy: 0.6381\n",
      "Epoch 70/80\n",
      "101/101 [==============================] - 224s 2s/step - loss: 0.2906 - accuracy: 0.8798 - val_loss: 0.5902 - val_accuracy: 0.7251\n",
      "Epoch 71/80\n",
      "101/101 [==============================] - 225s 2s/step - loss: 0.2857 - accuracy: 0.8787 - val_loss: 0.6490 - val_accuracy: 0.6978\n",
      "Epoch 72/80\n",
      "101/101 [==============================] - 224s 2s/step - loss: 0.2831 - accuracy: 0.8816 - val_loss: 0.5893 - val_accuracy: 0.7163\n",
      "Epoch 73/80\n",
      "101/101 [==============================] - 224s 2s/step - loss: 0.2770 - accuracy: 0.8856 - val_loss: 0.5605 - val_accuracy: 0.7495\n",
      "Epoch 74/80\n",
      "101/101 [==============================] - 224s 2s/step - loss: 0.2718 - accuracy: 0.8872 - val_loss: 0.6160 - val_accuracy: 0.7003\n",
      "Epoch 75/80\n",
      "101/101 [==============================] - 224s 2s/step - loss: 0.2747 - accuracy: 0.8858 - val_loss: 0.8728 - val_accuracy: 0.5729\n",
      "Epoch 76/80\n",
      "101/101 [==============================] - 224s 2s/step - loss: 0.2705 - accuracy: 0.8868 - val_loss: 0.6571 - val_accuracy: 0.6637\n",
      "Epoch 77/80\n",
      "101/101 [==============================] - 224s 2s/step - loss: 0.2623 - accuracy: 0.8908 - val_loss: 0.7645 - val_accuracy: 0.6662\n",
      "Epoch 78/80\n",
      "101/101 [==============================] - 224s 2s/step - loss: 0.2567 - accuracy: 0.8934 - val_loss: 0.6485 - val_accuracy: 0.6877\n",
      "Epoch 79/80\n",
      "101/101 [==============================] - 224s 2s/step - loss: 0.2618 - accuracy: 0.8937 - val_loss: 0.5830 - val_accuracy: 0.7331\n",
      "Epoch 80/80\n",
      "101/101 [==============================] - 224s 2s/step - loss: 0.2595 - accuracy: 0.8942 - val_loss: 0.7059 - val_accuracy: 0.6646\n"
     ]
    }
   ],
   "source": [
    "# Compile the model\n",
    "cnn_dropout.compile(optimizer=RMSprop(learning_rate=0.0001),\n",
    "            loss='binary_crossentropy',\n",
    "            metrics=['accuracy'])\n",
    "\n",
    "# Fit and Train the model\n",
    "cnn_dropout_history = cnn_dropout.fit(train_images, train_labels,\n",
    "                        epochs=80,\n",
    "                        batch_size=100,\n",
    "                        validation_data=(val_images, val_labels),\n",
    "                        class_weight=train_class_weights)"
   ]
  },
  {
   "cell_type": "code",
   "execution_count": 46,
   "id": "d32e59e9",
   "metadata": {
    "ExecuteTime": {
     "end_time": "2022-03-03T14:22:57.594115Z",
     "start_time": "2022-03-03T14:22:56.594219Z"
    }
   },
   "outputs": [
    {
     "data": {
      "image/png": "[encoded data removed]",
      "text/plain": [
       "<Figure size 1224x360 with 2 Axes>"
      ]
     },
     "metadata": {},
     "output_type": "display_data"
    }
   ],
   "source": [
    "visualize_training_results(cnn_dropout_history)"
   ]
  },
  {
   "cell_type": "code",
   "execution_count": 47,
   "id": "1e4faa42",
   "metadata": {
    "ExecuteTime": {
     "end_time": "2022-03-03T14:24:00.127768Z",
     "start_time": "2022-03-03T14:22:57.595239Z"
    }
   },
   "outputs": [
    {
     "name": "stdout",
     "output_type": "stream",
     "text": [
      "314/314 [==============================] - 63s 199ms/step - loss: 0.2219 - accuracy: 0.9148\n"
     ]
    }
   ],
   "source": [
    "cnn_dropout_train_results = cnn_dropout.evaluate(train_images, train_labels)"
   ]
  },
  {
   "cell_type": "code",
   "execution_count": 48,
   "id": "710e382a",
   "metadata": {
    "ExecuteTime": {
     "end_time": "2022-03-03T14:24:14.982621Z",
     "start_time": "2022-03-03T14:24:00.129074Z"
    }
   },
   "outputs": [
    {
     "name": "stdout",
     "output_type": "stream",
     "text": [
      "75/75 [==============================] - 15s 197ms/step - loss: 0.7059 - accuracy: 0.6646\n"
     ]
    }
   ],
   "source": [
    "cnn_dropout_val_results = cnn_dropout.evaluate(val_images, val_labels)"
   ]
  },
  {
   "cell_type": "code",
   "execution_count": 49,
   "id": "7badcd10",
   "metadata": {
    "ExecuteTime": {
     "end_time": "2022-03-03T14:24:15.810283Z",
     "start_time": "2022-03-03T14:24:14.984697Z"
    }
   },
   "outputs": [
    {
     "name": "stdout",
     "output_type": "stream",
     "text": [
      "4/4 [==============================] - 1s 195ms/step - loss: 0.4223 - accuracy: 0.8160\n"
     ]
    }
   ],
   "source": [
    "cnn_dropout_test_results = cnn_dropout.evaluate(test_images, test_labels)"
   ]
  },
  {
   "cell_type": "code",
   "execution_count": 50,
   "id": "b0676d47",
   "metadata": {
    "ExecuteTime": {
     "end_time": "2022-03-03T14:24:16.757893Z",
     "start_time": "2022-03-03T14:24:15.811450Z"
    }
   },
   "outputs": [
    {
     "name": "stdout",
     "output_type": "stream",
     "text": [
      "              precision    recall  f1-score   support\n",
      "\n",
      "         0.0       0.70      0.87      0.78        46\n",
      "         1.0       0.91      0.78      0.84        79\n",
      "\n",
      "    accuracy                           0.82       125\n",
      "   macro avg       0.81      0.83      0.81       125\n",
      "weighted avg       0.83      0.82      0.82       125\n",
      "\n"
     ]
    },
    {
     "data": {
      "image/png": "[encoded data removed]",
      "text/plain": [
       "<Figure size 504x504 with 2 Axes>"
      ]
     },
     "metadata": {},
     "output_type": "display_data"
    }
   ],
   "source": [
    "plot_confusion_matrix(cnn_dropout, test_labels, test_images)"
   ]
  },
  {
   "cell_type": "code",
   "execution_count": null,
   "id": "fa241722",
   "metadata": {},
   "outputs": [],
   "source": []
  },
  {
   "cell_type": "code",
   "execution_count": null,
   "id": "fa0b29d2",
   "metadata": {},
   "outputs": [],
   "source": []
  },
  {
   "cell_type": "markdown",
   "id": "39632f26",
   "metadata": {},
   "source": [
    "## Add more dropout layers"
   ]
  },
  {
   "cell_type": "code",
   "execution_count": 51,
   "id": "aab0778a",
   "metadata": {
    "ExecuteTime": {
     "end_time": "2022-03-03T14:24:16.827806Z",
     "start_time": "2022-03-03T14:24:16.759188Z"
    }
   },
   "outputs": [],
   "source": [
    "cnn_dropout_2 = models.Sequential()\n",
    "\n",
    "cnn_dropout_2.add(layers.Conv2D(32,(3,3), activation='relu', padding='same', input_shape=(256,256,3)))\n",
    "cnn_dropout_2.add(layers.MaxPool2D(2,2))\n",
    "\n",
    "cnn_dropout_2.add(layers.Conv2D(64,(3,3), activation='relu', padding='same'))\n",
    "cnn_dropout_2.add(layers.MaxPool2D(2,2))\n",
    "\n",
    "cnn_dropout_2.add(layers.Conv2D(128,(3,3), activation='relu', padding='same'))\n",
    "cnn_dropout_2.add(layers.MaxPool2D(2,2))\n",
    "cnn_dropout_2.add(layers.Dropout(0.5))\n",
    "\n",
    "cnn_dropout_2.add(layers.Flatten())\n",
    "cnn_dropout_2.add(layers.Dense(64, activation='relu'))\n",
    "cnn_dropout_2.add(layers.Dropout(0.5))\n",
    "cnn_dropout_2.add(layers.Dense(1, activation='sigmoid'))"
   ]
  },
  {
   "cell_type": "code",
   "execution_count": 52,
   "id": "70751376",
   "metadata": {
    "ExecuteTime": {
     "end_time": "2022-03-03T20:08:27.954998Z",
     "start_time": "2022-03-03T14:24:16.830429Z"
    }
   },
   "outputs": [
    {
     "name": "stdout",
     "output_type": "stream",
     "text": [
      "Epoch 1/80\n",
      "101/101 [==============================] - 253s 3s/step - loss: 0.6377 - accuracy: 0.6966 - val_loss: 0.6273 - val_accuracy: 0.6974\n",
      "Epoch 2/80\n",
      "101/101 [==============================] - 252s 3s/step - loss: 0.6112 - accuracy: 0.6948 - val_loss: 0.6265 - val_accuracy: 0.6944\n",
      "Epoch 3/80\n",
      "101/101 [==============================] - 253s 3s/step - loss: 0.6033 - accuracy: 0.7009 - val_loss: 0.6345 - val_accuracy: 0.6953\n",
      "Epoch 4/80\n",
      "101/101 [==============================] - 253s 3s/step - loss: 0.5985 - accuracy: 0.7067 - val_loss: 0.6114 - val_accuracy: 0.7058\n",
      "Epoch 5/80\n",
      "101/101 [==============================] - 253s 3s/step - loss: 0.5958 - accuracy: 0.7159 - val_loss: 0.6273 - val_accuracy: 0.6999\n",
      "Epoch 6/80\n",
      "101/101 [==============================] - 255s 3s/step - loss: 0.5922 - accuracy: 0.7192 - val_loss: 0.6169 - val_accuracy: 0.7032\n",
      "Epoch 7/80\n",
      "101/101 [==============================] - 254s 3s/step - loss: 0.5886 - accuracy: 0.7189 - val_loss: 0.6149 - val_accuracy: 0.7016\n",
      "Epoch 8/80\n",
      "101/101 [==============================] - 253s 3s/step - loss: 0.5842 - accuracy: 0.7227 - val_loss: 0.6067 - val_accuracy: 0.7095\n",
      "Epoch 9/80\n",
      "101/101 [==============================] - 254s 3s/step - loss: 0.5848 - accuracy: 0.7213 - val_loss: 0.6121 - val_accuracy: 0.7087\n",
      "Epoch 10/80\n",
      "101/101 [==============================] - 256s 3s/step - loss: 0.5786 - accuracy: 0.7264 - val_loss: 0.6110 - val_accuracy: 0.6919\n",
      "Epoch 11/80\n",
      "101/101 [==============================] - 256s 3s/step - loss: 0.5800 - accuracy: 0.7282 - val_loss: 0.6355 - val_accuracy: 0.6658\n",
      "Epoch 12/80\n",
      "101/101 [==============================] - 253s 3s/step - loss: 0.5760 - accuracy: 0.7290 - val_loss: 0.6008 - val_accuracy: 0.7066\n",
      "Epoch 13/80\n",
      "101/101 [==============================] - 254s 3s/step - loss: 0.5742 - accuracy: 0.7327 - val_loss: 0.6301 - val_accuracy: 0.6658\n",
      "Epoch 14/80\n",
      "101/101 [==============================] - 253s 3s/step - loss: 0.5710 - accuracy: 0.7346 - val_loss: 0.5909 - val_accuracy: 0.7167\n",
      "Epoch 15/80\n",
      "101/101 [==============================] - 253s 3s/step - loss: 0.5691 - accuracy: 0.7351 - val_loss: 0.6181 - val_accuracy: 0.6784\n",
      "Epoch 16/80\n",
      "101/101 [==============================] - 254s 3s/step - loss: 0.5679 - accuracy: 0.7331 - val_loss: 0.5922 - val_accuracy: 0.7070\n",
      "Epoch 17/80\n",
      "101/101 [==============================] - 253s 3s/step - loss: 0.5652 - accuracy: 0.7334 - val_loss: 0.5984 - val_accuracy: 0.6986\n",
      "Epoch 18/80\n",
      "101/101 [==============================] - 251s 2s/step - loss: 0.5636 - accuracy: 0.7356 - val_loss: 0.6033 - val_accuracy: 0.6915\n",
      "Epoch 19/80\n",
      "101/101 [==============================] - 254s 3s/step - loss: 0.5612 - accuracy: 0.7377 - val_loss: 0.5953 - val_accuracy: 0.7024\n",
      "Epoch 20/80\n",
      "101/101 [==============================] - 254s 3s/step - loss: 0.5609 - accuracy: 0.7378 - val_loss: 0.6291 - val_accuracy: 0.6587\n",
      "Epoch 21/80\n",
      "101/101 [==============================] - 254s 3s/step - loss: 0.5595 - accuracy: 0.7395 - val_loss: 0.5986 - val_accuracy: 0.6927\n",
      "Epoch 22/80\n",
      "101/101 [==============================] - 253s 3s/step - loss: 0.5579 - accuracy: 0.7386 - val_loss: 0.6075 - val_accuracy: 0.6818\n",
      "Epoch 23/80\n",
      "101/101 [==============================] - 254s 3s/step - loss: 0.5560 - accuracy: 0.7384 - val_loss: 0.6001 - val_accuracy: 0.6915\n",
      "Epoch 24/80\n",
      "101/101 [==============================] - 255s 3s/step - loss: 0.5548 - accuracy: 0.7400 - val_loss: 0.6351 - val_accuracy: 0.6553\n",
      "Epoch 25/80\n",
      "101/101 [==============================] - 254s 3s/step - loss: 0.5528 - accuracy: 0.7440 - val_loss: 0.6164 - val_accuracy: 0.6700\n",
      "Epoch 26/80\n",
      "101/101 [==============================] - 268s 3s/step - loss: 0.5522 - accuracy: 0.7430 - val_loss: 0.5841 - val_accuracy: 0.7074\n",
      "Epoch 27/80\n",
      "101/101 [==============================] - 264s 3s/step - loss: 0.5532 - accuracy: 0.7445 - val_loss: 0.6502 - val_accuracy: 0.6326\n",
      "Epoch 28/80\n",
      "101/101 [==============================] - 258s 3s/step - loss: 0.5497 - accuracy: 0.7411 - val_loss: 0.6549 - val_accuracy: 0.6263\n",
      "Epoch 29/80\n",
      "101/101 [==============================] - 258s 3s/step - loss: 0.5477 - accuracy: 0.7423 - val_loss: 0.6538 - val_accuracy: 0.6297\n",
      "Epoch 30/80\n",
      "101/101 [==============================] - 260s 3s/step - loss: 0.5466 - accuracy: 0.7416 - val_loss: 0.6201 - val_accuracy: 0.6650\n",
      "Epoch 31/80\n",
      "101/101 [==============================] - 259s 3s/step - loss: 0.5457 - accuracy: 0.7435 - val_loss: 0.5768 - val_accuracy: 0.7116\n",
      "Epoch 32/80\n",
      "101/101 [==============================] - 259s 3s/step - loss: 0.5453 - accuracy: 0.7482 - val_loss: 0.6004 - val_accuracy: 0.6839\n",
      "Epoch 33/80\n",
      "101/101 [==============================] - 259s 3s/step - loss: 0.5432 - accuracy: 0.7443 - val_loss: 0.5892 - val_accuracy: 0.6889\n",
      "Epoch 34/80\n",
      "101/101 [==============================] - 260s 3s/step - loss: 0.5423 - accuracy: 0.7479 - val_loss: 0.6161 - val_accuracy: 0.6696\n",
      "Epoch 35/80\n",
      "101/101 [==============================] - 260s 3s/step - loss: 0.5416 - accuracy: 0.7463 - val_loss: 0.6630 - val_accuracy: 0.6217\n",
      "Epoch 36/80\n",
      "101/101 [==============================] - 258s 3s/step - loss: 0.5411 - accuracy: 0.7469 - val_loss: 0.6137 - val_accuracy: 0.6721\n",
      "Epoch 37/80\n",
      "101/101 [==============================] - 259s 3s/step - loss: 0.5385 - accuracy: 0.7491 - val_loss: 0.6100 - val_accuracy: 0.6755\n",
      "Epoch 38/80\n",
      "101/101 [==============================] - 259s 3s/step - loss: 0.5406 - accuracy: 0.7474 - val_loss: 0.6151 - val_accuracy: 0.6700\n",
      "Epoch 39/80\n",
      "101/101 [==============================] - 259s 3s/step - loss: 0.5387 - accuracy: 0.7484 - val_loss: 0.6091 - val_accuracy: 0.6759\n",
      "Epoch 40/80\n",
      "101/101 [==============================] - 259s 3s/step - loss: 0.5367 - accuracy: 0.7503 - val_loss: 0.5917 - val_accuracy: 0.6910\n",
      "Epoch 41/80\n",
      "101/101 [==============================] - 260s 3s/step - loss: 0.5352 - accuracy: 0.7505 - val_loss: 0.5912 - val_accuracy: 0.6860\n",
      "Epoch 42/80\n",
      "101/101 [==============================] - 259s 3s/step - loss: 0.5342 - accuracy: 0.7495 - val_loss: 0.5810 - val_accuracy: 0.6990\n",
      "Epoch 43/80\n",
      "101/101 [==============================] - 260s 3s/step - loss: 0.5361 - accuracy: 0.7534 - val_loss: 0.6085 - val_accuracy: 0.6734\n",
      "Epoch 44/80\n",
      "101/101 [==============================] - 259s 3s/step - loss: 0.5315 - accuracy: 0.7491 - val_loss: 0.5573 - val_accuracy: 0.7289\n",
      "Epoch 45/80\n",
      "101/101 [==============================] - 260s 3s/step - loss: 0.5330 - accuracy: 0.7544 - val_loss: 0.5844 - val_accuracy: 0.6995\n",
      "Epoch 46/80\n",
      "101/101 [==============================] - 259s 3s/step - loss: 0.5309 - accuracy: 0.7524 - val_loss: 0.6362 - val_accuracy: 0.6507\n",
      "Epoch 47/80\n",
      "101/101 [==============================] - 260s 3s/step - loss: 0.5302 - accuracy: 0.7533 - val_loss: 0.6683 - val_accuracy: 0.6154\n",
      "Epoch 48/80\n",
      "101/101 [==============================] - 259s 3s/step - loss: 0.5298 - accuracy: 0.7536 - val_loss: 0.5731 - val_accuracy: 0.7133\n",
      "Epoch 49/80\n",
      "101/101 [==============================] - 260s 3s/step - loss: 0.5292 - accuracy: 0.7517 - val_loss: 0.5742 - val_accuracy: 0.7074\n",
      "Epoch 50/80\n",
      "101/101 [==============================] - 259s 3s/step - loss: 0.5284 - accuracy: 0.7556 - val_loss: 0.5732 - val_accuracy: 0.7125\n",
      "Epoch 51/80\n",
      "101/101 [==============================] - 260s 3s/step - loss: 0.5279 - accuracy: 0.7543 - val_loss: 0.6460 - val_accuracy: 0.6423\n",
      "Epoch 52/80\n",
      "101/101 [==============================] - 259s 3s/step - loss: 0.5254 - accuracy: 0.7541 - val_loss: 0.6712 - val_accuracy: 0.6175\n",
      "Epoch 53/80\n",
      "101/101 [==============================] - 260s 3s/step - loss: 0.5256 - accuracy: 0.7544 - val_loss: 0.6288 - val_accuracy: 0.6524\n",
      "Epoch 54/80\n",
      "101/101 [==============================] - 259s 3s/step - loss: 0.5231 - accuracy: 0.7572 - val_loss: 0.6149 - val_accuracy: 0.6658\n",
      "Epoch 55/80\n",
      "101/101 [==============================] - 261s 3s/step - loss: 0.5239 - accuracy: 0.7564 - val_loss: 0.6145 - val_accuracy: 0.6667\n",
      "Epoch 56/80\n",
      "101/101 [==============================] - 259s 3s/step - loss: 0.5214 - accuracy: 0.7555 - val_loss: 0.6198 - val_accuracy: 0.6591\n",
      "Epoch 57/80\n",
      "101/101 [==============================] - 259s 3s/step - loss: 0.5190 - accuracy: 0.7550 - val_loss: 0.5832 - val_accuracy: 0.6957\n"
     ]
    },
    {
     "name": "stdout",
     "output_type": "stream",
     "text": [
      "Epoch 58/80\n",
      "101/101 [==============================] - 260s 3s/step - loss: 0.5192 - accuracy: 0.7526 - val_loss: 0.6948 - val_accuracy: 0.5990\n",
      "Epoch 59/80\n",
      "101/101 [==============================] - 260s 3s/step - loss: 0.5212 - accuracy: 0.7558 - val_loss: 0.5936 - val_accuracy: 0.6856\n",
      "Epoch 60/80\n",
      "101/101 [==============================] - 260s 3s/step - loss: 0.5193 - accuracy: 0.7571 - val_loss: 0.6401 - val_accuracy: 0.6452\n",
      "Epoch 61/80\n",
      "101/101 [==============================] - 260s 3s/step - loss: 0.5183 - accuracy: 0.7598 - val_loss: 0.6936 - val_accuracy: 0.6019\n",
      "Epoch 62/80\n",
      "101/101 [==============================] - 266s 3s/step - loss: 0.5165 - accuracy: 0.7588 - val_loss: 0.6121 - val_accuracy: 0.6709\n",
      "Epoch 63/80\n",
      "101/101 [==============================] - 277s 3s/step - loss: 0.5180 - accuracy: 0.7552 - val_loss: 0.6504 - val_accuracy: 0.6377\n",
      "Epoch 64/80\n",
      "101/101 [==============================] - 273s 3s/step - loss: 0.5138 - accuracy: 0.7614 - val_loss: 0.6745 - val_accuracy: 0.6175\n",
      "Epoch 65/80\n",
      "101/101 [==============================] - 262s 3s/step - loss: 0.5142 - accuracy: 0.7606 - val_loss: 0.6165 - val_accuracy: 0.6637\n",
      "Epoch 66/80\n",
      "101/101 [==============================] - 257s 3s/step - loss: 0.5135 - accuracy: 0.7620 - val_loss: 0.6442 - val_accuracy: 0.6465\n",
      "Epoch 67/80\n",
      "101/101 [==============================] - 257s 3s/step - loss: 0.5118 - accuracy: 0.7577 - val_loss: 0.6459 - val_accuracy: 0.6448\n",
      "Epoch 68/80\n",
      "101/101 [==============================] - 257s 3s/step - loss: 0.5126 - accuracy: 0.7622 - val_loss: 0.6770 - val_accuracy: 0.6183\n",
      "Epoch 69/80\n",
      "101/101 [==============================] - 257s 3s/step - loss: 0.5111 - accuracy: 0.7626 - val_loss: 0.5869 - val_accuracy: 0.6894\n",
      "Epoch 70/80\n",
      "101/101 [==============================] - 257s 3s/step - loss: 0.5103 - accuracy: 0.7630 - val_loss: 0.6481 - val_accuracy: 0.6402\n",
      "Epoch 71/80\n",
      "101/101 [==============================] - 257s 3s/step - loss: 0.5110 - accuracy: 0.7646 - val_loss: 0.6793 - val_accuracy: 0.6028\n",
      "Epoch 72/80\n",
      "101/101 [==============================] - 260s 3s/step - loss: 0.5081 - accuracy: 0.7636 - val_loss: 0.6585 - val_accuracy: 0.6276\n",
      "Epoch 73/80\n",
      "101/101 [==============================] - 257s 3s/step - loss: 0.5094 - accuracy: 0.7615 - val_loss: 0.6344 - val_accuracy: 0.6503\n",
      "Epoch 74/80\n",
      "101/101 [==============================] - 257s 3s/step - loss: 0.5063 - accuracy: 0.7645 - val_loss: 0.7102 - val_accuracy: 0.5771\n",
      "Epoch 75/80\n",
      "101/101 [==============================] - 261s 3s/step - loss: 0.5054 - accuracy: 0.7668 - val_loss: 0.6997 - val_accuracy: 0.5927\n",
      "Epoch 76/80\n",
      "101/101 [==============================] - 258s 3s/step - loss: 0.5053 - accuracy: 0.7661 - val_loss: 0.6318 - val_accuracy: 0.6499\n",
      "Epoch 77/80\n",
      "101/101 [==============================] - 258s 3s/step - loss: 0.5064 - accuracy: 0.7633 - val_loss: 0.6256 - val_accuracy: 0.6562\n",
      "Epoch 78/80\n",
      "101/101 [==============================] - 268s 3s/step - loss: 0.5037 - accuracy: 0.7680 - val_loss: 0.6294 - val_accuracy: 0.6541\n",
      "Epoch 79/80\n",
      "101/101 [==============================] - 259s 3s/step - loss: 0.5012 - accuracy: 0.7660 - val_loss: 0.6786 - val_accuracy: 0.6120\n",
      "Epoch 80/80\n",
      "101/101 [==============================] - 260s 3s/step - loss: 0.5013 - accuracy: 0.7673 - val_loss: 0.6034 - val_accuracy: 0.6738\n"
     ]
    }
   ],
   "source": [
    "# Compile the model\n",
    "cnn_dropout_2.compile(optimizer=RMSprop(learning_rate=0.00001),\n",
    "            loss='binary_crossentropy',\n",
    "            metrics=['accuracy'])\n",
    "\n",
    "# Fit and Train the model\n",
    "cnn_dropout_2_history = cnn_dropout_2.fit(train_images, train_labels,\n",
    "                        epochs=80,\n",
    "                        batch_size=100,\n",
    "                        validation_data=(val_images, val_labels),\n",
    "                        class_weight=train_class_weights)"
   ]
  },
  {
   "cell_type": "code",
   "execution_count": 53,
   "id": "80da57df",
   "metadata": {
    "ExecuteTime": {
     "end_time": "2022-03-03T20:08:28.285413Z",
     "start_time": "2022-03-03T20:08:27.956287Z"
    }
   },
   "outputs": [
    {
     "data": {
      "image/png": "[encoded data removed]",
      "text/plain": [
       "<Figure size 1224x360 with 2 Axes>"
      ]
     },
     "metadata": {},
     "output_type": "display_data"
    }
   ],
   "source": [
    "visualize_training_results(cnn_dropout_2_history)"
   ]
  },
  {
   "cell_type": "code",
   "execution_count": 54,
   "id": "3e0fec04",
   "metadata": {
    "ExecuteTime": {
     "end_time": "2022-03-03T20:09:42.941512Z",
     "start_time": "2022-03-03T20:08:28.286983Z"
    }
   },
   "outputs": [
    {
     "name": "stdout",
     "output_type": "stream",
     "text": [
      "314/314 [==============================] - 75s 237ms/step - loss: 0.4731 - accuracy: 0.7850\n"
     ]
    }
   ],
   "source": [
    "cnn_dropout_2_train_results = cnn_dropout_2.evaluate(train_images, train_labels)"
   ]
  },
  {
   "cell_type": "code",
   "execution_count": 55,
   "id": "2fa5b2b4",
   "metadata": {
    "ExecuteTime": {
     "end_time": "2022-03-03T20:10:02.270876Z",
     "start_time": "2022-03-03T20:09:42.943379Z"
    }
   },
   "outputs": [
    {
     "name": "stdout",
     "output_type": "stream",
     "text": [
      "75/75 [==============================] - 19s 257ms/step - loss: 0.6034 - accuracy: 0.6738\n"
     ]
    }
   ],
   "source": [
    "cnn_dropout_2_val_results = cnn_dropout_2.evaluate(val_images, val_labels)"
   ]
  },
  {
   "cell_type": "code",
   "execution_count": 56,
   "id": "8a198543",
   "metadata": {
    "ExecuteTime": {
     "end_time": "2022-03-03T20:10:03.326402Z",
     "start_time": "2022-03-03T20:10:02.272728Z"
    }
   },
   "outputs": [
    {
     "name": "stdout",
     "output_type": "stream",
     "text": [
      "4/4 [==============================] - 1s 245ms/step - loss: 0.4951 - accuracy: 0.7920\n"
     ]
    }
   ],
   "source": [
    "cnn_dropout_2_test_results = cnn_dropout_2.evaluate(test_images, test_labels)"
   ]
  },
  {
   "cell_type": "code",
   "execution_count": 57,
   "id": "13d7ba34",
   "metadata": {
    "ExecuteTime": {
     "end_time": "2022-03-03T20:10:04.513535Z",
     "start_time": "2022-03-03T20:10:03.328381Z"
    }
   },
   "outputs": [
    {
     "name": "stdout",
     "output_type": "stream",
     "text": [
      "              precision    recall  f1-score   support\n",
      "\n",
      "         0.0       0.67      0.85      0.75        46\n",
      "         1.0       0.90      0.76      0.82        79\n",
      "\n",
      "    accuracy                           0.79       125\n",
      "   macro avg       0.78      0.80      0.79       125\n",
      "weighted avg       0.81      0.79      0.80       125\n",
      "\n"
     ]
    },
    {
     "data": {
      "image/png": "[encoded data removed]",
      "text/plain": [
       "<Figure size 504x504 with 2 Axes>"
      ]
     },
     "metadata": {},
     "output_type": "display_data"
    }
   ],
   "source": [
    "plot_confusion_matrix(cnn_dropout_2, test_labels, test_images)"
   ]
  },
  {
   "cell_type": "code",
   "execution_count": null,
   "id": "3021f338",
   "metadata": {},
   "outputs": [],
   "source": []
  },
  {
   "cell_type": "code",
   "execution_count": null,
   "id": "99e68456",
   "metadata": {},
   "outputs": [],
   "source": []
  },
  {
   "cell_type": "code",
   "execution_count": 58,
   "id": "9668146d",
   "metadata": {
    "ExecuteTime": {
     "end_time": "2022-03-03T20:10:04.630465Z",
     "start_time": "2022-03-03T20:10:04.519031Z"
    }
   },
   "outputs": [],
   "source": [
    "cnn_reg = models.Sequential()\n",
    "\n",
    "cnn_reg.add(layers.Conv2D(32,(3,3), activation='relu', kernel_regularizer=regularizers.l2(0.005),\n",
    "                                padding='same', input_shape=(256,256,3)))\n",
    "cnn_reg.add(layers.MaxPool2D(2,2))\n",
    "\n",
    "cnn_reg.add(layers.Conv2D(64,(3,3), activation='relu', kernel_regularizer=regularizers.l2(0.005),\n",
    "                                padding='same'))\n",
    "cnn_reg.add(layers.MaxPool2D(2,2))\n",
    "cnn_reg.add(layers.Dropout(0.25))\n",
    "\n",
    "cnn_reg.add(layers.Conv2D(128,(3,3), activation='relu', kernel_regularizer=regularizers.l2(0.005),\n",
    "                                padding='same'))\n",
    "cnn_reg.add(layers.MaxPool2D(2,2))\n",
    "cnn_reg.add(layers.Dropout(0.25))\n",
    "\n",
    "cnn_reg.add(layers.Flatten())\n",
    "cnn_reg.add(layers.Dense(64, activation='relu'))\n",
    "cnn_reg.add(layers.Dropout(0.25))\n",
    "cnn_reg.add(layers.Dense(128, activation='relu'))\n",
    "cnn_reg.add(layers.Dropout(0.25))\n",
    "cnn_reg.add(layers.Dense(1, activation='sigmoid'))"
   ]
  },
  {
   "cell_type": "code",
   "execution_count": null,
   "id": "cf61a0de",
   "metadata": {
    "ExecuteTime": {
     "start_time": "2022-03-03T18:59:52.419Z"
    },
    "scrolled": false
   },
   "outputs": [
    {
     "name": "stdout",
     "output_type": "stream",
     "text": [
      "Epoch 1/100\n",
      "101/101 [==============================] - 274s 3s/step - loss: 1.1674 - accuracy: 0.6715 - val_loss: 1.0847 - val_accuracy: 0.7137\n",
      "Epoch 2/100\n",
      "101/101 [==============================] - 272s 3s/step - loss: 0.9814 - accuracy: 0.6980 - val_loss: 0.9340 - val_accuracy: 0.7247\n",
      "Epoch 3/100\n",
      "101/101 [==============================] - 273s 3s/step - loss: 0.8573 - accuracy: 0.7030 - val_loss: 0.8249 - val_accuracy: 0.7217\n",
      "Epoch 4/100\n",
      "101/101 [==============================] - 276s 3s/step - loss: 0.7765 - accuracy: 0.7069 - val_loss: 0.7536 - val_accuracy: 0.7255\n",
      "Epoch 5/100\n",
      "101/101 [==============================] - 273s 3s/step - loss: 0.7211 - accuracy: 0.7091 - val_loss: 0.7031 - val_accuracy: 0.7217\n",
      "Epoch 6/100\n",
      "101/101 [==============================] - 271s 3s/step - loss: 0.6884 - accuracy: 0.7152 - val_loss: 0.6843 - val_accuracy: 0.7167\n",
      "Epoch 7/100\n",
      "101/101 [==============================] - 274s 3s/step - loss: 0.6648 - accuracy: 0.7099 - val_loss: 0.6733 - val_accuracy: 0.7121\n",
      "Epoch 8/100\n",
      "101/101 [==============================] - 271s 3s/step - loss: 0.6491 - accuracy: 0.7118 - val_loss: 0.6348 - val_accuracy: 0.7238\n",
      "Epoch 9/100\n",
      "101/101 [==============================] - 271s 3s/step - loss: 0.6434 - accuracy: 0.7159 - val_loss: 0.6451 - val_accuracy: 0.7238\n",
      "Epoch 10/100\n",
      "101/101 [==============================] - 273s 3s/step - loss: 0.6347 - accuracy: 0.7136 - val_loss: 0.6323 - val_accuracy: 0.7272\n",
      "Epoch 11/100\n",
      "101/101 [==============================] - 272s 3s/step - loss: 0.6299 - accuracy: 0.7153 - val_loss: 0.6287 - val_accuracy: 0.7146\n",
      "Epoch 12/100\n",
      "101/101 [==============================] - 272s 3s/step - loss: 0.6229 - accuracy: 0.7180 - val_loss: 0.6226 - val_accuracy: 0.7268\n",
      "Epoch 13/100\n",
      "101/101 [==============================] - 272s 3s/step - loss: 0.6182 - accuracy: 0.7203 - val_loss: 0.6405 - val_accuracy: 0.7016\n",
      "Epoch 14/100\n",
      "101/101 [==============================] - 271s 3s/step - loss: 0.6184 - accuracy: 0.7180 - val_loss: 0.6197 - val_accuracy: 0.7150\n",
      "Epoch 15/100\n",
      "101/101 [==============================] - 272s 3s/step - loss: 0.6119 - accuracy: 0.7170 - val_loss: 0.6087 - val_accuracy: 0.7222\n",
      "Epoch 16/100\n",
      "101/101 [==============================] - 271s 3s/step - loss: 0.6099 - accuracy: 0.7191 - val_loss: 0.6217 - val_accuracy: 0.7192\n",
      "Epoch 17/100\n",
      "101/101 [==============================] - 272s 3s/step - loss: 0.6033 - accuracy: 0.7214 - val_loss: 0.6016 - val_accuracy: 0.7356\n",
      "Epoch 18/100\n",
      "101/101 [==============================] - 271s 3s/step - loss: 0.6023 - accuracy: 0.7246 - val_loss: 0.5924 - val_accuracy: 0.7369\n",
      "Epoch 19/100\n",
      "101/101 [==============================] - 272s 3s/step - loss: 0.6005 - accuracy: 0.7328 - val_loss: 0.5935 - val_accuracy: 0.7297\n",
      "Epoch 20/100\n",
      "101/101 [==============================] - 276s 3s/step - loss: 0.5986 - accuracy: 0.7262 - val_loss: 0.6783 - val_accuracy: 0.6385\n",
      "Epoch 21/100\n",
      "101/101 [==============================] - 273s 3s/step - loss: 0.5952 - accuracy: 0.7280 - val_loss: 0.5868 - val_accuracy: 0.7436\n",
      "Epoch 22/100\n",
      "101/101 [==============================] - 272s 3s/step - loss: 0.5890 - accuracy: 0.7349 - val_loss: 0.6553 - val_accuracy: 0.6583\n",
      "Epoch 23/100\n",
      "101/101 [==============================] - 273s 3s/step - loss: 0.5874 - accuracy: 0.7310 - val_loss: 0.5827 - val_accuracy: 0.7348\n",
      "Epoch 24/100\n",
      "101/101 [==============================] - 272s 3s/step - loss: 0.5814 - accuracy: 0.7392 - val_loss: 0.5998 - val_accuracy: 0.7209\n",
      "Epoch 25/100\n",
      "101/101 [==============================] - 274s 3s/step - loss: 0.5797 - accuracy: 0.7365 - val_loss: 0.6091 - val_accuracy: 0.7125\n",
      "Epoch 26/100\n",
      "101/101 [==============================] - 272s 3s/step - loss: 0.5763 - accuracy: 0.7398 - val_loss: 0.5781 - val_accuracy: 0.7398\n",
      "Epoch 27/100\n",
      "101/101 [==============================] - 273s 3s/step - loss: 0.5754 - accuracy: 0.7398 - val_loss: 0.5755 - val_accuracy: 0.7406\n",
      "Epoch 28/100\n",
      "101/101 [==============================] - 272s 3s/step - loss: 0.5717 - accuracy: 0.7355 - val_loss: 0.5752 - val_accuracy: 0.7453\n",
      "Epoch 29/100\n",
      "101/101 [==============================] - 268s 3s/step - loss: 0.5636 - accuracy: 0.7434 - val_loss: 0.5889 - val_accuracy: 0.7390\n",
      "Epoch 30/100\n",
      "101/101 [==============================] - 266s 3s/step - loss: 0.5641 - accuracy: 0.7449 - val_loss: 0.5695 - val_accuracy: 0.7394\n",
      "Epoch 31/100\n",
      "101/101 [==============================] - 267s 3s/step - loss: 0.5608 - accuracy: 0.7482 - val_loss: 0.5809 - val_accuracy: 0.7327\n",
      "Epoch 32/100\n",
      "101/101 [==============================] - 266s 3s/step - loss: 0.5558 - accuracy: 0.7499 - val_loss: 0.5992 - val_accuracy: 0.7158\n",
      "Epoch 33/100\n",
      "101/101 [==============================] - 267s 3s/step - loss: 0.5557 - accuracy: 0.7498 - val_loss: 0.5741 - val_accuracy: 0.7427\n",
      "Epoch 34/100\n",
      "101/101 [==============================] - 267s 3s/step - loss: 0.5502 - accuracy: 0.7552 - val_loss: 0.6341 - val_accuracy: 0.6620\n",
      "Epoch 35/100\n",
      "101/101 [==============================] - 283s 3s/step - loss: 0.5489 - accuracy: 0.7545 - val_loss: 0.5690 - val_accuracy: 0.7444\n",
      "Epoch 36/100\n",
      "101/101 [==============================] - 280s 3s/step - loss: 0.5444 - accuracy: 0.7575 - val_loss: 0.6475 - val_accuracy: 0.6599\n",
      "Epoch 37/100\n",
      "101/101 [==============================] - 285s 3s/step - loss: 0.5410 - accuracy: 0.7606 - val_loss: 0.7054 - val_accuracy: 0.6230\n",
      "Epoch 38/100\n",
      "101/101 [==============================] - 283s 3s/step - loss: 0.5371 - accuracy: 0.7631 - val_loss: 0.5682 - val_accuracy: 0.7398\n",
      "Epoch 39/100\n",
      "101/101 [==============================] - 290s 3s/step - loss: 0.5353 - accuracy: 0.7608 - val_loss: 0.5898 - val_accuracy: 0.7268\n",
      "Epoch 40/100\n",
      "101/101 [==============================] - 312s 3s/step - loss: 0.5336 - accuracy: 0.7639 - val_loss: 0.6131 - val_accuracy: 0.7083\n",
      "Epoch 41/100\n",
      "101/101 [==============================] - 311s 3s/step - loss: 0.5310 - accuracy: 0.7617 - val_loss: 0.5698 - val_accuracy: 0.7427\n",
      "Epoch 42/100\n",
      "101/101 [==============================] - 311s 3s/step - loss: 0.5260 - accuracy: 0.7648 - val_loss: 0.5723 - val_accuracy: 0.7449\n",
      "Epoch 43/100\n",
      "101/101 [==============================] - 318s 3s/step - loss: 0.5221 - accuracy: 0.7709 - val_loss: 0.5766 - val_accuracy: 0.7331\n",
      "Epoch 44/100\n",
      "101/101 [==============================] - 322s 3s/step - loss: 0.5223 - accuracy: 0.7713 - val_loss: 0.6746 - val_accuracy: 0.6591\n",
      "Epoch 45/100\n",
      "101/101 [==============================] - ETA: 0s - loss: 0.5163 - accuracy: 0.7742"
     ]
    }
   ],
   "source": [
    "# Compile the model\n",
    "cnn_reg.compile(optimizer=RMSprop(learning_rate=0.0001),\n",
    "            loss='binary_crossentropy',\n",
    "            metrics=['accuracy'])\n",
    "\n",
    "# Fit and Train the model\n",
    "cnn_reg_history = cnn_reg.fit(train_images, train_labels,\n",
    "                        epochs=100,\n",
    "                        batch_size=100,\n",
    "                        validation_data=(val_images, val_labels),\n",
    "                        class_weight=train_class_weights)"
   ]
  },
  {
   "cell_type": "code",
   "execution_count": null,
   "id": "0bb462cf",
   "metadata": {
    "ExecuteTime": {
     "start_time": "2022-03-03T18:59:53.329Z"
    }
   },
   "outputs": [],
   "source": [
    "visualize_training_results(cnn_reg_history)"
   ]
  },
  {
   "cell_type": "code",
   "execution_count": null,
   "id": "1d348ccd",
   "metadata": {
    "ExecuteTime": {
     "start_time": "2022-03-03T18:59:53.570Z"
    }
   },
   "outputs": [],
   "source": [
    "cnn_reg_train_results = cnn_reg.evaluate(train_images, train_labels)"
   ]
  },
  {
   "cell_type": "code",
   "execution_count": null,
   "id": "53e486c8",
   "metadata": {
    "ExecuteTime": {
     "start_time": "2022-03-03T18:59:53.877Z"
    }
   },
   "outputs": [],
   "source": [
    "cnn_reg_val_results = cnn_reg.evaluate(val_images, val_labels)"
   ]
  },
  {
   "cell_type": "code",
   "execution_count": null,
   "id": "fad39431",
   "metadata": {
    "ExecuteTime": {
     "start_time": "2022-03-03T18:59:54.481Z"
    }
   },
   "outputs": [],
   "source": [
    "cnn_reg_test_results = cnn_reg.evaluate(test_images, test_labels)"
   ]
  },
  {
   "cell_type": "code",
   "execution_count": null,
   "id": "78afcc8f",
   "metadata": {
    "ExecuteTime": {
     "start_time": "2022-03-03T18:59:55.121Z"
    }
   },
   "outputs": [],
   "source": [
    "plot_confusion_matrix(cnn_reg, test_labels, test_images)"
   ]
  },
  {
   "cell_type": "code",
   "execution_count": null,
   "id": "192aed62",
   "metadata": {},
   "outputs": [],
   "source": []
  }
 ],
 "metadata": {
  "hide_input": false,
  "kernelspec": {
   "display_name": "Python 3 (ipykernel)",
   "language": "python",
   "name": "python3"
  },
  "language_info": {
   "codemirror_mode": {
    "name": "ipython",
    "version": 3
   },
   "file_extension": ".py",
   "mimetype": "text/x-python",
   "name": "python",
   "nbconvert_exporter": "python",
   "pygments_lexer": "ipython3",
   "version": "3.9.7"
  }
 },
 "nbformat": 4,
 "nbformat_minor": 5
}
